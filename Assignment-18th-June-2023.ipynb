{
 "cells": [
  {
   "cell_type": "markdown",
   "metadata": {},
   "source": [
    "#### 1.  What is the role of the 'else' block in a try-except statement? Provide an example scenario where it would be useful."
   ]
  },
  {
   "cell_type": "markdown",
   "metadata": {},
   "source": [
    "#### Solution 1\n",
    "\n",
    "The \"else\" block in a try-except statement provides a way to specify code that should be executed if no exceptions occur in the \"try\" block. It is optional and is executed only if the \"try\" block completes successfully without raising any exceptions. The \"else\" block allows you to separate the normal code execution path from the exception handling logic.\n",
    "\n",
    "Example scenario where the \"else\" block would be useful:\n",
    "\n",
    "Let's consider a scenario where you have a function to read data from a file and process it. You want to handle any potential file-related exceptions (e.g., FileNotFoundError, IOError) and process the data if the file exists and can be read successfully."
   ]
  },
  {
   "cell_type": "code",
   "execution_count": 1,
   "metadata": {},
   "outputs": [],
   "source": [
    "def process_file(file_path):\n",
    "    try:\n",
    "        with open(file_path, 'r') as file:\n",
    "            data = file.read()\n",
    "            # Process the data from the file\n",
    "            # ...\n",
    "    except FileNotFoundError:\n",
    "        print(f\"Error: File '{file_path}' not found.\")\n",
    "    except IOError:\n",
    "        print(f\"Error: Unable to read the file '{file_path}'.\")\n",
    "    else:\n",
    "        # Code to be executed if no exception occurs\n",
    "        print(\"File processed successfully.\")\n"
   ]
  },
  {
   "cell_type": "markdown",
   "metadata": {},
   "source": [
    "In this example, the \"try\" block attempts to open and read the file specified by file_path. If the file is found and can be read successfully, the data processing code will be executed. If any file-related exceptions occur (e.g., the file doesn't exist or can't be read), the appropriate \"except\" block will handle the exception and display an error message.\n",
    "\n",
    "If the file is opened and read successfully, the \"else\" block will be executed, and it will print the message \"File processed successfully.\" This separation allows you to distinguish between the normal execution path (when the file processing is successful) and the exception handling path (when there is an issue with the file).\n",
    "\n",
    "Using the \"else\" block in this scenario helps keep the code clean and organized by clearly separating the success case from the exception handling logic. It also allows you to provide specific feedback to the user or log successful processing, making it easier to understand the program's behaviour.\n"
   ]
  },
  {
   "cell_type": "markdown",
   "metadata": {},
   "source": [
    "#### Solution 2\n",
    "\n",
    "The \"else\" block in a try-except statement is an optional block that comes after the \"try\" and \"except\" blocks. Its purpose is to define a section of code that should be executed only if no exception occurs in the \"try\" block. In other words, the \"else\" block is executed when the \"try\" block runs successfully without raising any exceptions.\n",
    "\n",
    "The primary role of the \"else\" block is to separate the normal execution path (when no exception occurs) from the exception-handling path (when an exception is caught and handled). It can be useful for cases where you want to perform some actions only if the code in the \"try\" block succeeds and no errors occur.\n",
    "\n",
    "Here's an example scenario where the \"else\" block would be useful:"
   ]
  },
  {
   "cell_type": "code",
   "execution_count": 2,
   "metadata": {},
   "outputs": [
    {
     "name": "stdout",
     "output_type": "stream",
     "text": [
      "Enter the first number: 7\n",
      "Enter the second number: 3\n",
      "Division successful! Result: 2.3333333333333335\n"
     ]
    }
   ],
   "source": [
    "def divide_numbers():\n",
    "    try:\n",
    "        num1 = int(input(\"Enter the first number: \"))\n",
    "        num2 = int(input(\"Enter the second number: \"))\n",
    "        result = num1 / num2\n",
    "\n",
    "    except ZeroDivisionError:\n",
    "        print(\"Error: Cannot divide by zero.\")\n",
    "\n",
    "    except ValueError:\n",
    "        print(\"Error: Please enter valid integers.\")\n",
    "\n",
    "    else:\n",
    "        # This block will only execute if no exception occurred in the \"try\" block\n",
    "        print(\"Division successful! Result:\", result)\n",
    "\n",
    "divide_numbers()\n"
   ]
  },
  {
   "cell_type": "markdown",
   "metadata": {},
   "source": [
    "In this example, the \"divide_numbers()\" function attempts to divide two numbers entered by the user. If the user enters invalid input (e.g., non-numeric values) or tries to divide by zero, the corresponding exception will be caught in the respective \"except\" block, and an error message will be displayed.\n",
    "\n",
    "However, if the user enters valid input, and the division operation in the \"try\" block succeeds without raising any exceptions, the \"else\" block will be executed. In this case, it simply prints a success message along with the result of the division.\n",
    "\n",
    "The \"else\" block provides a clean separation between handling exceptional cases (in the \"except\" block) and performing actions when the \"try\" block executes successfully. It helps in making the code more readable and maintaining a clear distinction between the two paths of execution."
   ]
  },
  {
   "cell_type": "markdown",
   "metadata": {},
   "source": [
    "#### 2. Can a try-except block be nested inside another try-except block? Explain with an example."
   ]
  },
  {
   "cell_type": "markdown",
   "metadata": {},
   "source": [
    "#### Solution 1\n",
    "\n",
    "Yes, a try-except block can be nested inside another try-except block. This means you can place one try-except construct inside another, creating multiple levels of exception handling.\n",
    "\n",
    "The outer try-except block will handle exceptions that occur within its scope, including any exceptions raised in the inner try-except block. If the inner block does not catch an exception, it will propagate to the outer block for handling.\n",
    "\n",
    "Here's an example to illustrate nested try-except blocks:"
   ]
  },
  {
   "cell_type": "code",
   "execution_count": 3,
   "metadata": {},
   "outputs": [
    {
     "name": "stdout",
     "output_type": "stream",
     "text": [
      "Enter the outer number: 5\n",
      "Enter the inner number: 6\n",
      "Result: 0.8333333333333334\n"
     ]
    }
   ],
   "source": [
    "def nested_exception_handling():\n",
    "    try:\n",
    "        outer_num = int(input(\"Enter the outer number: \"))\n",
    "\n",
    "        try:\n",
    "            inner_num = int(input(\"Enter the inner number: \"))\n",
    "            result = outer_num / inner_num\n",
    "            print(\"Result:\", result)\n",
    "\n",
    "        except ZeroDivisionError:\n",
    "            print(\"Error: Cannot divide by zero in the inner block.\")\n",
    "\n",
    "    except ValueError:\n",
    "        print(\"Error: Please enter valid integers in the outer block.\")\n",
    "\n",
    "nested_exception_handling()\n"
   ]
  },
  {
   "cell_type": "markdown",
   "metadata": {},
   "source": [
    "In this example, the function nested_exception_handling() contains an outer try-except block and an inner try-except block. The outer block is responsible for handling ValueError exceptions, which may occur when the user enters invalid input for the outer_num. If that happens, the outer block prints an error message.\n",
    "\n",
    "However, if the user enters valid input for outer_num, the inner try-except block takes over. The inner block handles ZeroDivisionError exceptions that may occur if the user enters 0 as the inner_num for division. If the division is successful, the \"else\" block (not shown in this example) would execute, displaying the result.\n",
    "\n",
    "By using nested try-except blocks, you can handle exceptions at different levels of your program, providing granular control over how you respond to exceptional situations. However, it's essential to use them judiciously and ensure that your exception handling is structured and readable to avoid code complexity."
   ]
  },
  {
   "cell_type": "markdown",
   "metadata": {},
   "source": [
    "#### Solution 2\n",
    "\n",
    "Yes, a try-except block can be nested inside another try-except block. This means you can place one \"try-except\" construct inside another, creating a hierarchy of exception handling. The inner \"try-except\" block is scoped to the outer \"try\" block, and if an exception occurs within the inner block, the program will search for a matching \"except\" block within that inner block. If not found, it will propagate to the outer \"try-except\" construct for handling.\n",
    "\n",
    "Nesting try-except blocks can be useful when you want to handle exceptions at different levels of granularity, allowing you to respond to specific exceptions differently within different contexts.\n",
    "\n",
    "Here's an example of nested try-except blocks in Python:"
   ]
  },
  {
   "cell_type": "code",
   "execution_count": 4,
   "metadata": {},
   "outputs": [
    {
     "name": "stdout",
     "output_type": "stream",
     "text": [
      "Enter the first number: 6\n",
      "Enter the second number: 3\n",
      "Result of division: 2.0\n",
      "Operation completed.\n"
     ]
    }
   ],
   "source": [
    "def nested_try_except_example():\n",
    "    try:\n",
    "        num1 = int(input(\"Enter the first number: \"))\n",
    "        num2 = int(input(\"Enter the second number: \"))\n",
    "\n",
    "        try:\n",
    "            # Inner try-except block for division operation\n",
    "            result = num1 / num2\n",
    "            print(\"Result of division:\", result)\n",
    "\n",
    "        except ZeroDivisionError:\n",
    "            print(\"Error: Cannot divide by zero in the inner block.\")\n",
    "\n",
    "    except ValueError:\n",
    "        print(\"Error: Please enter valid integers in the outer block.\")\n",
    "\n",
    "    print(\"Operation completed.\")\n",
    "\n",
    "nested_try_except_example()\n"
   ]
  },
  {
   "cell_type": "markdown",
   "metadata": {},
   "source": [
    "In this example, we have an outer try-except block and an inner try-except block:\n",
    "\n",
    "1) The outer \"try-except\" block handles ValueError exceptions that may occur when converting user input to integers.\n",
    "\n",
    "2) The inner \"try-except\" block handles ZeroDivisionError exceptions that may occur during the division operation if the user enters 0 as the second number.\n",
    "\n",
    "If the user enters invalid inputs (e.g., non-numeric values), the ValueError will be caught in the outer \"except\" block. If the user enters 0 as the second number, causing a division by zero error, the ZeroDivisionError will be caught in the inner \"except\" block.\n",
    "\n",
    "By using nested try-except blocks, you can handle exceptions at different levels of the program and take specific actions based on the context in which the exception occurs. This provides more granular control over exception handling and allows you to respond differently to exceptional situations in different parts of your code."
   ]
  },
  {
   "cell_type": "code",
   "execution_count": null,
   "metadata": {},
   "outputs": [],
   "source": []
  }
 ],
 "metadata": {
  "kernelspec": {
   "display_name": "Python 3 (ipykernel)",
   "language": "python",
   "name": "python3"
  },
  "language_info": {
   "codemirror_mode": {
    "name": "ipython",
    "version": 3
   },
   "file_extension": ".py",
   "mimetype": "text/x-python",
   "name": "python",
   "nbconvert_exporter": "python",
   "pygments_lexer": "ipython3",
   "version": "3.11.4"
  }
 },
 "nbformat": 4,
 "nbformat_minor": 2
}
