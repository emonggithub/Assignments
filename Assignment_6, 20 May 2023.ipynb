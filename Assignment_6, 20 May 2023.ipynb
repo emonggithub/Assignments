{
 "cells": [
  {
   "cell_type": "markdown",
   "metadata": {},
   "source": [
    "#### Q.1. What are keywords in python? Using the keyword library, print all the python keywords."
   ]
  },
  {
   "cell_type": "markdown",
   "metadata": {},
   "source": [
    "Keywords in Python are reserved words that have predefined meanings and functionalities within the Python language. These keywords cannot be used as identifiers (variable names, function names, etc.) because they are already part of the language's syntax and serve specific purposes."
   ]
  },
  {
   "cell_type": "code",
   "execution_count": 1,
   "metadata": {},
   "outputs": [
    {
     "name": "stdout",
     "output_type": "stream",
     "text": [
      "['False', 'None', 'True', 'and', 'as', 'assert', 'async', 'await', 'break', 'class', 'continue', 'def', 'del', 'elif', 'else', 'except', 'finally', 'for', 'from', 'global', 'if', 'import', 'in', 'is', 'lambda', 'nonlocal', 'not', 'or', 'pass', 'raise', 'return', 'try', 'while', 'with', 'yield']\n"
     ]
    }
   ],
   "source": [
    "import keyword\n",
    "\n",
    "all_keywords = keyword.kwlist\n",
    "print(all_keywords)\n"
   ]
  },
  {
   "cell_type": "markdown",
   "metadata": {},
   "source": [
    "#### Q.2. What are the rules to create variables in python?"
   ]
  },
  {
   "cell_type": "markdown",
   "metadata": {},
   "source": [
    " In Python, variable names are used to store and reference data. To create variables in Python, you must follow some rules and guidelines:\n",
    "\n",
    "1. Variable Name Rules:\n",
    "\n",
    "- Variable names must start with a letter (a-z, A-Z) or an underscore (_).\n",
    "- The first character cannot be a number or any other special character.\n",
    "- Variable names can contain letters (a-z, A-Z), numbers (0-9), and underscores (_).\n",
    "- Variable names are case-sensitive, which means \"myVar\" and \"myvar\" are different variables.\n",
    "- Python keywords (reserved words) cannot be used as variable names.\n",
    "\n",
    "2. Naming Conventions (Style Guidelines):\n",
    "\n",
    "- It is recommended to use descriptive names for variables to make the code more readable.\n",
    "- Use lowercase letters for variable names, and if the name consists of multiple words, separate them with underscores. For example: my_variable, age_of_person.\n",
    "- Avoid using single characters (e.g., a, x) as variable names, except for simple loop counters.\n",
    "- For constants (values that don't change), use all uppercase letters and separate words with underscores. For example: PI, MAX_LENGTH."
   ]
  },
  {
   "cell_type": "markdown",
   "metadata": {},
   "source": [
    "Examples of valid variable names:"
   ]
  },
  {
   "cell_type": "code",
   "execution_count": 2,
   "metadata": {},
   "outputs": [
    {
     "data": {
      "text/plain": [
       "'\\nname\\nage\\n_count\\nmy_var\\nis_valid\\nMAX_SIZE\\n'"
      ]
     },
     "execution_count": 2,
     "metadata": {},
     "output_type": "execute_result"
    }
   ],
   "source": [
    "'''\n",
    "name\n",
    "age\n",
    "_count\n",
    "my_var\n",
    "is_valid\n",
    "MAX_SIZE\n",
    "'''"
   ]
  },
  {
   "cell_type": "markdown",
   "metadata": {},
   "source": [
    "Examples of invalid variable names:"
   ]
  },
  {
   "cell_type": "code",
   "execution_count": 3,
   "metadata": {},
   "outputs": [
    {
     "data": {
      "text/plain": [
       "'\\n123abc (starts with a number)\\n@variable (contains special character)\\nfor (a Python keyword)\\nmy-variable (contains a hyphen, not allowed)\\n\\n'"
      ]
     },
     "execution_count": 3,
     "metadata": {},
     "output_type": "execute_result"
    }
   ],
   "source": [
    "'''\n",
    "123abc (starts with a number)\n",
    "@variable (contains special character)\n",
    "for (a Python keyword)\n",
    "my-variable (contains a hyphen, not allowed)\n",
    "\n",
    "'''"
   ]
  },
  {
   "cell_type": "markdown",
   "metadata": {},
   "source": [
    "#### Q.3. What are the standards and conventions followed for the nomenclature of variables in python to improve code readability and maintainability?"
   ]
  },
  {
   "cell_type": "markdown",
   "metadata": {},
   "source": [
    "1. Use Descriptive Names: Choose variable names that are meaningful and describe the purpose of the variable. This makes it easier for others (and yourself) to understand the code.\n",
    "\n",
    "2. Use Lowercase with Underscores: Variable names should be in all lowercase letters, and words should be separated by underscores. This style is known as snake_case. For example: user_name, age_of_person.\n",
    "\n",
    "3. Avoid Single Letters: Avoid using single letters (e.g., a, x, i) as variable names, except for simple loop counters. Instead, use descriptive names that convey the purpose of the variable.\n",
    "\n",
    "4. Constants: For constants (values that do not change), use all uppercase letters and separate words with underscores. For example: PI, MAX_LENGTH.\n",
    "\n",
    "5. Avoid Ambiguous Names: Choose variable names that are not ambiguous. Avoid generic names like data, value, etc., unless the context makes their meaning clear.\n",
    "\n",
    "6. Be Consistent: Maintain consistency in variable naming throughout the codebase. Use the same style and convention across the entire project.\n",
    "\n",
    "7. Avoid Reserved Words: Do not use Python keywords (reserved words) as variable names.\n",
    "\n",
    "8. Avoid Built-in Names: Avoid using names of built-in functions, modules, or objects as variable names to prevent conflicts.\n",
    "\n",
    "9. Plural for Collections: For variables representing collections (lists, dictionaries, etc.), use plural nouns to indicate that they contain multiple elements. For example: users, items.\n",
    "\n",
    "10. Abbreviations: Avoid excessive use of abbreviations, except for widely known acronyms like URL, HTML, etc. Clear and understandable names are preferred over cryptic abbreviations.\n",
    "\n",
    "11. Meaningful Prefixes: For variables that are meant to have a specific purpose, consider using meaningful prefixes. For example, is_ for boolean variables indicating a condition, num_ for numeric variables, etc.\n",
    "\n",
    "Example:"
   ]
  },
  {
   "cell_type": "code",
   "execution_count": 4,
   "metadata": {},
   "outputs": [],
   "source": [
    "# Good variable naming\n",
    "user_name = \"John Doe\"\n",
    "age_of_person = 25\n",
    "is_valid_input = True\n",
    "MAX_LENGTH = 100\n",
    "students_list = [\"Alice\", \"Bob\", \"Charlie\"]\n",
    "\n",
    "# Avoid ambiguous or single-letter names\n",
    "x = 10          # Avoid single-letter names like 'x'\n",
    "data = [1, 2, 3] # Avoid generic names like 'data'\n"
   ]
  },
  {
   "cell_type": "markdown",
   "metadata": {},
   "source": [
    "#### Q.4. What will happen if a keyword is used as a variable name?"
   ]
  },
  {
   "cell_type": "markdown",
   "metadata": {},
   "source": [
    "If you attempt to use a keyword as a variable name, Python will raise a syntax error at the line where the keyword is used as a variable name. The interpreter will recognize the keyword and expect it to be used in its intended context, but using it as a variable name violates the language rules.\n",
    "\n",
    "For example, let's consider the keyword if which is used for conditional statements. If you try to use if as a variable name, it will result in a syntax error:"
   ]
  },
  {
   "cell_type": "code",
   "execution_count": 5,
   "metadata": {},
   "outputs": [
    {
     "ename": "SyntaxError",
     "evalue": "invalid syntax (<ipython-input-5-670333d6c9d0>, line 1)",
     "output_type": "error",
     "traceback": [
      "\u001b[0;36m  File \u001b[0;32m\"<ipython-input-5-670333d6c9d0>\"\u001b[0;36m, line \u001b[0;32m1\u001b[0m\n\u001b[0;31m    if = 10  # Syntax error: \"if\" cannot be used as a variable name\u001b[0m\n\u001b[0m       ^\u001b[0m\n\u001b[0;31mSyntaxError\u001b[0m\u001b[0;31m:\u001b[0m invalid syntax\n"
     ]
    }
   ],
   "source": [
    "if = 10  # Syntax error: \"if\" cannot be used as a variable name\n"
   ]
  },
  {
   "cell_type": "markdown",
   "metadata": {},
   "source": [
    "#### Q.5. For what purpose def keyword is used?"
   ]
  },
  {
   "cell_type": "markdown",
   "metadata": {},
   "source": [
    "The def keyword in Python is used to define a function. Functions are blocks of reusable code that perform a specific task or set of tasks. They help in breaking down complex problems into smaller, more manageable parts, making the code organized, modular, and easier to maintain.\n",
    "\n",
    "When you use the def keyword, you create a function with a specific name, followed by parentheses (), and a colon :. The function's block of code is indented below the function definition.\n",
    "\n",
    "Here's the general syntax of defining a function in Python:"
   ]
  },
  {
   "cell_type": "code",
   "execution_count": 6,
   "metadata": {},
   "outputs": [],
   "source": [
    "def function_name(parameters):\n",
    "    # Function body (code)\n",
    "    # ...\n",
    "    return result (optional)\n"
   ]
  },
  {
   "cell_type": "markdown",
   "metadata": {},
   "source": [
    "- function_name: This is the name of the function, which follows the same rules as naming variables. It should be descriptive and adhere to PEP 8 naming conventions.\n",
    "\n",
    "- parameters: These are optional input values that the function can take. You can define one or more parameters inside the parentheses. Parameters act as placeholders for the actual values that will be passed to the function when it is called.\n",
    "\n",
    "- return: The return statement, when used, is used to send a value back from the function. It is optional; if a function does not have a return statement, it will return None by default. The return statement is used to pass the computed result or output of the function back to the caller.\n",
    "\n"
   ]
  },
  {
   "cell_type": "markdown",
   "metadata": {},
   "source": [
    "#### Q.6. What is the operation of this special character ‘\\’?"
   ]
  },
  {
   "cell_type": "markdown",
   "metadata": {},
   "source": [
    "The special character '\\' in Python is called the backslash or escape character. It serves as an escape sequence that allows you to include special characters or create multi-line strings within string literals. When the backslash is followed by certain characters, it creates special representations or behaviors in the string.\n",
    "\n",
    "Here are some common uses of the backslash in Python:\n",
    "\n",
    "1. Escape Sequences: Backslash is used to escape special characters inside a string, allowing you to include characters that have a special meaning in Python, such as newline \\n, tab \\t, backslash itself \\\\, etc.\n",
    "\n",
    "Example:"
   ]
  },
  {
   "cell_type": "code",
   "execution_count": 7,
   "metadata": {},
   "outputs": [
    {
     "name": "stdout",
     "output_type": "stream",
     "text": [
      "Hello\n",
      "World\n",
      "Path: C:\\Users\\Documents\n"
     ]
    }
   ],
   "source": [
    "print(\"Hello\\nWorld\")   # Output: Hello\n",
    "                        #         World\n",
    "\n",
    "print(\"Path: C:\\\\Users\\\\Documents\")   # Output: Path: C:\\Users\\Documents\n"
   ]
  },
  {
   "cell_type": "markdown",
   "metadata": {},
   "source": [
    "2. Multi-Line Strings: Backslash can be used to split a long string across multiple lines, making the code more readable.\n",
    "\n",
    "Example:"
   ]
  },
  {
   "cell_type": "code",
   "execution_count": 9,
   "metadata": {},
   "outputs": [
    {
     "name": "stdout",
     "output_type": "stream",
     "text": [
      "This is a long message that spans multiple lines using the backslash.\n"
     ]
    }
   ],
   "source": [
    "message = \"This is a long message that spans \\\n",
    "multiple lines using the backslash.\"\n",
    "print(message)\n",
    "# Output: This is a long message that spans multiple lines using the backslash.\n"
   ]
  },
  {
   "cell_type": "markdown",
   "metadata": {},
   "source": [
    "#### Q.7. Give an example of the following conditions:\n",
    "(i) Homogeneous list\n",
    "\n",
    "(ii) Heterogeneous set\n",
    "\n",
    "(iii) Homogeneous tuple"
   ]
  },
  {
   "cell_type": "markdown",
   "metadata": {},
   "source": [
    "#### (i) Homogeneous List:\n",
    "A homogeneous list is a list that contains elements of the same data type. In Python, lists can hold elements of different data types, but a homogeneous list will have all elements of the same type.\n",
    "\n",
    "Example of a homogeneous list containing integers:"
   ]
  },
  {
   "cell_type": "code",
   "execution_count": 10,
   "metadata": {},
   "outputs": [],
   "source": [
    "homogeneous_list_int = [1, 2, 3, 4, 5]\n"
   ]
  },
  {
   "cell_type": "markdown",
   "metadata": {},
   "source": [
    "Example of a homogeneous list containing strings:"
   ]
  },
  {
   "cell_type": "code",
   "execution_count": 11,
   "metadata": {},
   "outputs": [],
   "source": [
    "homogeneous_list_str = [\"apple\", \"banana\", \"orange\"]\n"
   ]
  },
  {
   "cell_type": "markdown",
   "metadata": {},
   "source": [
    "#### (ii) Heterogeneous Set:\n",
    "A heterogeneous set is a set that contains elements of different data types. In Python, sets are unordered collections of unique elements, and they can hold elements of different types.\n",
    "\n",
    "Example of a heterogeneous set containing integers and strings:"
   ]
  },
  {
   "cell_type": "code",
   "execution_count": 12,
   "metadata": {},
   "outputs": [],
   "source": [
    "heterogeneous_set = {1, \"apple\", 3, \"banana\", 5}\n"
   ]
  },
  {
   "cell_type": "markdown",
   "metadata": {},
   "source": [
    "#### (iii) Homogeneous Tuple:\n",
    "A homogeneous tuple is a tuple that contains elements of the same data type. Tuples, like lists, can hold elements of different data types, but a homogeneous tuple will have all elements of the same type.\n",
    "\n",
    "Example of a homogeneous tuple containing integers:"
   ]
  },
  {
   "cell_type": "code",
   "execution_count": 13,
   "metadata": {},
   "outputs": [],
   "source": [
    "homogeneous_tuple_int = (10, 20, 30, 40, 50)\n"
   ]
  },
  {
   "cell_type": "markdown",
   "metadata": {},
   "source": [
    "Example of a homogeneous tuple containing strings:"
   ]
  },
  {
   "cell_type": "code",
   "execution_count": 14,
   "metadata": {},
   "outputs": [],
   "source": [
    "homogeneous_tuple_str = (\"apple\", \"banana\", \"orange\")\n"
   ]
  },
  {
   "cell_type": "markdown",
   "metadata": {},
   "source": [
    "#### Q.8. Explain the mutable and immutable data types with proper explanation & examples."
   ]
  },
  {
   "cell_type": "markdown",
   "metadata": {},
   "source": [
    "In Python, data types can be categorized as either mutable or immutable based on whether their values can be changed after they are created.\n",
    "\n",
    "1. Mutable Data Types:\n",
    "\n",
    "Mutable data types are objects whose values can be modified or changed after they are created. This means that you can add, remove, or modify elements in a mutable object without creating a new object. Lists and dictionaries are examples of mutable data types.\n",
    "\n",
    "Example of a mutable data type - List:"
   ]
  },
  {
   "cell_type": "code",
   "execution_count": 16,
   "metadata": {},
   "outputs": [
    {
     "name": "stdout",
     "output_type": "stream",
     "text": [
      "[1, 2, 3, 4]\n",
      "[1, 2, 10, 4]\n",
      "[1, 2, 10, 4, 5]\n"
     ]
    }
   ],
   "source": [
    "my_list = [1, 2, 3, 4]\n",
    "print(my_list)  # Output: [1, 2, 3, 4]\n",
    "\n",
    "# Modifying the list by replacing the element 3 at index position 2 with the element 10\n",
    "my_list[2] = 10\n",
    "print(my_list)  # Output: [1, 2, 10, 4]\n",
    "\n",
    "# Appending an element to the list\n",
    "my_list.append(5)\n",
    "print(my_list)  # Output: [1, 2, 10, 4, 5]\n"
   ]
  },
  {
   "cell_type": "markdown",
   "metadata": {},
   "source": [
    "2. Immutable Data Types:\n",
    "    \n",
    "Immutable data types are objects whose values cannot be changed after they are created. Once an immutable object is created, you cannot modify its value. If you need to change the value of an immutable object, you have to create a new object with the desired value. Strings, tuples, and numbers (integers, floats, etc.) are examples of immutable data types.\n",
    "\n",
    "Example of an immutable data type - String:"
   ]
  },
  {
   "cell_type": "code",
   "execution_count": 17,
   "metadata": {},
   "outputs": [
    {
     "name": "stdout",
     "output_type": "stream",
     "text": [
      "Hello\n"
     ]
    },
    {
     "ename": "TypeError",
     "evalue": "'str' object does not support item assignment",
     "output_type": "error",
     "traceback": [
      "\u001b[0;31m---------------------------------------------------------------------------\u001b[0m",
      "\u001b[0;31mTypeError\u001b[0m                                 Traceback (most recent call last)",
      "\u001b[0;32m<ipython-input-17-bef6a8b5a29f>\u001b[0m in \u001b[0;36m<module>\u001b[0;34m()\u001b[0m\n\u001b[1;32m      3\u001b[0m \u001b[0;34m\u001b[0m\u001b[0m\n\u001b[1;32m      4\u001b[0m \u001b[0;31m# Attempting to modify the string (will raise an error)\u001b[0m\u001b[0;34m\u001b[0m\u001b[0;34m\u001b[0m\u001b[0m\n\u001b[0;32m----> 5\u001b[0;31m \u001b[0mmy_string\u001b[0m\u001b[0;34m[\u001b[0m\u001b[0;36m0\u001b[0m\u001b[0;34m]\u001b[0m \u001b[0;34m=\u001b[0m \u001b[0;34m\"h\"\u001b[0m  \u001b[0;31m# TypeError: 'str' object does not support item assignment\u001b[0m\u001b[0;34m\u001b[0m\u001b[0m\n\u001b[0m",
      "\u001b[0;31mTypeError\u001b[0m: 'str' object does not support item assignment"
     ]
    }
   ],
   "source": [
    "my_string = \"Hello\"\n",
    "print(my_string)  # Output: \"Hello\"\n",
    "\n",
    "# Attempting to modify the string (will raise an error)\n",
    "my_string[0] = \"h\"  # TypeError: 'str' object does not support item assignment\n"
   ]
  },
  {
   "cell_type": "markdown",
   "metadata": {},
   "source": [
    "Example of an immutable data type - Tuple:"
   ]
  },
  {
   "cell_type": "code",
   "execution_count": 18,
   "metadata": {},
   "outputs": [
    {
     "name": "stdout",
     "output_type": "stream",
     "text": [
      "(1, 2, 3)\n"
     ]
    },
    {
     "ename": "TypeError",
     "evalue": "'tuple' object does not support item assignment",
     "output_type": "error",
     "traceback": [
      "\u001b[0;31m---------------------------------------------------------------------------\u001b[0m",
      "\u001b[0;31mTypeError\u001b[0m                                 Traceback (most recent call last)",
      "\u001b[0;32m<ipython-input-18-94557df0fe28>\u001b[0m in \u001b[0;36m<module>\u001b[0;34m()\u001b[0m\n\u001b[1;32m      3\u001b[0m \u001b[0;34m\u001b[0m\u001b[0m\n\u001b[1;32m      4\u001b[0m \u001b[0;31m# Attempting to modify the tuple (will raise an error)\u001b[0m\u001b[0;34m\u001b[0m\u001b[0;34m\u001b[0m\u001b[0m\n\u001b[0;32m----> 5\u001b[0;31m \u001b[0mmy_tuple\u001b[0m\u001b[0;34m[\u001b[0m\u001b[0;36m1\u001b[0m\u001b[0;34m]\u001b[0m \u001b[0;34m=\u001b[0m \u001b[0;36m10\u001b[0m  \u001b[0;31m# TypeError: 'tuple' object does not support item assignment\u001b[0m\u001b[0;34m\u001b[0m\u001b[0m\n\u001b[0m",
      "\u001b[0;31mTypeError\u001b[0m: 'tuple' object does not support item assignment"
     ]
    }
   ],
   "source": [
    "my_tuple = (1, 2, 3)\n",
    "print(my_tuple)  # Output: (1, 2, 3)\n",
    "\n",
    "# Attempting to modify the tuple (will raise an error)\n",
    "my_tuple[1] = 10  # TypeError: 'tuple' object does not support item assignment\n"
   ]
  },
  {
   "cell_type": "markdown",
   "metadata": {},
   "source": [
    "#### Q.9. Write a code to create the given structure using only for loop.\n",
    "         *\n",
    "        ***\n",
    "       *****\n",
    "      *******\n",
    "     *********"
   ]
  },
  {
   "cell_type": "code",
   "execution_count": 19,
   "metadata": {},
   "outputs": [
    {
     "name": "stdout",
     "output_type": "stream",
     "text": [
      "    *\n",
      "   ***\n",
      "  *****\n",
      " *******\n",
      "*********\n"
     ]
    }
   ],
   "source": [
    "# Height of the pattern\n",
    "height = 5\n",
    "\n",
    "# Outer loop for rows\n",
    "for i in range(height):\n",
    "    # Inner loop for spaces\n",
    "    for j in range(height - i - 1):\n",
    "        print(\" \", end=\"\")\n",
    "    \n",
    "    # Inner loop for asterisks\n",
    "    for k in range(2 * i + 1):\n",
    "        print(\"*\", end=\"\")\n",
    "    \n",
    "    print()  # Move to the next line after each row\n"
   ]
  },
  {
   "cell_type": "markdown",
   "metadata": {},
   "source": [
    "#### Q.10. Write a code to create the given structure using while loop.\n",
    "     |||||||||\n",
    "      |||||||\n",
    "       |||||\n",
    "        |||\n",
    "         |"
   ]
  },
  {
   "cell_type": "code",
   "execution_count": 20,
   "metadata": {},
   "outputs": [
    {
     "name": "stdout",
     "output_type": "stream",
     "text": [
      "|||||||||\n",
      " |||||||\n",
      "  |||||\n",
      "   |||\n",
      "    |\n"
     ]
    }
   ],
   "source": [
    "# Height of the pattern\n",
    "height = 5\n",
    "\n",
    "# Initialize variables for spaces and vertical bars\n",
    "spaces = 0\n",
    "bars = 2 * height - 1\n",
    "\n",
    "# Outer loop for rows\n",
    "while height > 0:\n",
    "    # Inner loop for spaces\n",
    "    i = 0\n",
    "    while i < spaces:\n",
    "        print(\" \", end=\"\")\n",
    "        i += 1\n",
    "    \n",
    "    # Inner loop for vertical bars\n",
    "    j = 0\n",
    "    while j < bars:\n",
    "        print(\"|\", end=\"\")\n",
    "        j += 1\n",
    "    \n",
    "    # Move to the next row\n",
    "    print()\n",
    "\n",
    "    # Decrease spaces and bars for the next row\n",
    "    spaces += 1\n",
    "    bars -= 2\n",
    "    height -= 1\n"
   ]
  },
  {
   "cell_type": "code",
   "execution_count": null,
   "metadata": {},
   "outputs": [],
   "source": []
  }
 ],
 "metadata": {
  "kernelspec": {
   "display_name": "Python 3",
   "language": "python",
   "name": "python3"
  },
  "language_info": {
   "codemirror_mode": {
    "name": "ipython",
    "version": 3
   },
   "file_extension": ".py",
   "mimetype": "text/x-python",
   "name": "python",
   "nbconvert_exporter": "python",
   "pygments_lexer": "ipython3",
   "version": "3.7.0"
  }
 },
 "nbformat": 4,
 "nbformat_minor": 2
}
