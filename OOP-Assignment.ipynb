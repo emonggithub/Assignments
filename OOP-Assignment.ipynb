{
 "cells": [
  {
   "cell_type": "markdown",
   "id": "394acf90",
   "metadata": {},
   "source": [
    "# ASSIGNMENT\n"
   ]
  },
  {
   "cell_type": "markdown",
   "id": "8b8d3b9d",
   "metadata": {},
   "source": [
    "### 1. The Person class has a constructor that takes name and age as arguments and assigns them to the object's attributes. The introduce method is then invoked on the object to introduce the person."
   ]
  },
  {
   "cell_type": "code",
   "execution_count": 2,
   "id": "1088b209",
   "metadata": {},
   "outputs": [
    {
     "name": "stdout",
     "output_type": "stream",
     "text": [
      "My name is Paul Emong, I am 37 years.\n"
     ]
    }
   ],
   "source": [
    "class person:\n",
    "    def __init__(self,name,age):\n",
    "        self.name = name # Attributes of the person class.\n",
    "        self.age = age\n",
    "        \n",
    "    def introduce(self):\n",
    "        print(f\"My name is {self.name}, I am {self.age} years.\")\n",
    "        \n",
    "person1 = person(\"Paul Emong\", 37) # Creating the instance person1 of the person class.\n",
    "person1.introduce() # Accessing the attributes of the person class through the introduce method."
   ]
  },
  {
   "cell_type": "markdown",
   "id": "43c13ed6",
   "metadata": {},
   "source": [
    "In this implementation, the Person class has a constructor __init__() that takes name and age as arguments and assigns them to the object's attributes self.name and self.age.\n",
    "\n",
    "The introduce() method is then defined to print an introduction for the person, stating their name and age.\n",
    "\n",
    "In the test code, we create an instance of Person named person1 with the name \"Paul Emong\" and the age 37. Then, we call the introduce() method on person1 to introduce the person."
   ]
  },
  {
   "cell_type": "markdown",
   "id": "fd14aca7",
   "metadata": {},
   "source": [
    "### 2. The Car class has a constructor that takes brand and model as arguments and assigns them to the object's attributes. The display_info method is then invoked on the object to display the car's brand and model."
   ]
  },
  {
   "cell_type": "code",
   "execution_count": 24,
   "id": "b80717b1",
   "metadata": {},
   "outputs": [
    {
     "name": "stdout",
     "output_type": "stream",
     "text": [
      "The brand of the car is Toyota and has the latest model Camry.\n"
     ]
    }
   ],
   "source": [
    "class Car:\n",
    "    def __init__(self,brand,model):\n",
    "        self.brand = brand\n",
    "        self.model = model\n",
    "        \n",
    "    def display_info(self):\n",
    "        print(f\"The brand of the car is {self.brand} and has the latest model {self.model}.\")\n",
    "        \n",
    "car1 = Car(\"Toyota\", \"Camry\")\n",
    "car1.display_info()"
   ]
  },
  {
   "cell_type": "markdown",
   "id": "45de447e",
   "metadata": {},
   "source": [
    "In this implementation, the Car class has a constructor __init__() that takes brand and model as arguments and assigns them to the object's attributes self.brand and self.model.\n",
    "\n",
    "The display_info() method is then defined to print the car's brand and model.\n",
    "\n",
    "In the test code, we create an instance of Car named car1 with the brand \"Toyota\" and the model \"Camry\". Then, we call the display_info() method on car1 to print the car's information."
   ]
  },
  {
   "cell_type": "markdown",
   "id": "aae68afa",
   "metadata": {},
   "source": [
    "### 3. The BankAccount class has a constructor that takes account_number and balance as arguments and assigns them to the object's attributes. The display_balance method is then invoked on the object to display the account number and balance."
   ]
  },
  {
   "cell_type": "code",
   "execution_count": 5,
   "id": "20e7cc29",
   "metadata": {},
   "outputs": [
    {
     "name": "stdout",
     "output_type": "stream",
     "text": [
      "The account number is 320364011 and the balance is 100000 shillings.\n"
     ]
    }
   ],
   "source": [
    "class BankAccount:\n",
    "    def __init__(self,account_number,balance):\n",
    "        self.account_number = account_number\n",
    "        self.balance = balance\n",
    "        \n",
    "    def display_balance(self):\n",
    "        print(f\"The account number is {self.account_number} and the balance is {self.balance} shillings.\")\n",
    "        \n",
    "account = BankAccount(320364011, 100000)\n",
    "account.display_balance()"
   ]
  },
  {
   "cell_type": "markdown",
   "id": "1fb51108",
   "metadata": {},
   "source": [
    "In this implementation, the BankAccount class has a constructor __init__() that takes account_number and balance as arguments and assigns them to the object's attributes self.account_number and self.balance.\n",
    "\n",
    "The display_balance() method is then defined to print the account number and balance of the bank account.\n",
    "\n",
    "In the test code, we create an instance of BankAccount named account1 with the account number \"320364011\" and a balance of 100000. Then, we call the display_balance() method on account to print the account information."
   ]
  },
  {
   "cell_type": "markdown",
   "id": "908b6e35",
   "metadata": {},
   "source": [
    "### 4. The MobilePhone class has a constructor that takes brand and model as arguments and assigns them to the object's attributes. The make_call method is then invoked on the object to make a call with the phone."
   ]
  },
  {
   "cell_type": "code",
   "execution_count": 22,
   "id": "fc34a04f",
   "metadata": {},
   "outputs": [
    {
     "name": "stdout",
     "output_type": "stream",
     "text": [
      "iPhone 6S called the number 256789789752.\n"
     ]
    }
   ],
   "source": [
    "class MobilePhone:\n",
    "    def __init__(self,brand,model):\n",
    "        self.brand = brand\n",
    "        self.model = model\n",
    "        \n",
    "    def make_call(self,phone_number):\n",
    "        print(f\"{self.brand} {self.model} called the number {phone_number}.\")\n",
    "\n",
    "# Create the instance of MobilePhone class\n",
    "phone = MobilePhone(\"iPhone\",\"6S\")\n",
    "\n",
    "# Call the make_call() method on phone instance\n",
    "phone.make_call(+256789789752)\n",
    "        "
   ]
  },
  {
   "cell_type": "code",
   "execution_count": 23,
   "id": "e343120f",
   "metadata": {},
   "outputs": [
    {
     "name": "stdout",
     "output_type": "stream",
     "text": [
      "Calling 555-1234 with Samsung Galaxy S21.\n"
     ]
    }
   ],
   "source": [
    "class MobilePhone:\n",
    "    def __init__(self, brand, model):\n",
    "        self.brand = brand\n",
    "        self.model = model\n",
    "\n",
    "    def make_call(self, phone_number):\n",
    "        print(f\"Calling {phone_number} with {self.brand} {self.model}.\")\n",
    "\n",
    "\n",
    "# Test the MobilePhone class\n",
    "if __name__ == \"__main__\":\n",
    "    phone1 = MobilePhone(\"Samsung\", \"Galaxy S21\")\n",
    "    phone1.make_call(\"555-1234\")\n"
   ]
  },
  {
   "cell_type": "markdown",
   "id": "94b2cb12",
   "metadata": {},
   "source": [
    "In this implementation, the MobilePhone class has a constructor __init__() that takes brand and model as arguments and assigns them to the object's attributes self.brand and self.model.\n",
    "\n",
    "The make_call() method is then defined to simulate making a call with the phone. It takes a phone_number parameter and prints a message indicating that the phone is calling the given phone number using the specified brand and model.\n",
    "\n",
    "In the test code, we create an instance of MobilePhone named phone1 with the brand \"Samsung\" and the model \"Galaxy S21\". Then, we call the make_call() method on phone1 to simulate making a call to the phone number \"555-1234\"."
   ]
  },
  {
   "cell_type": "markdown",
   "id": "a7dfd9ed",
   "metadata": {},
   "source": [
    "### 5. The Book class has a constructor that takes title and author as arguments and assigns them to the object's attributes. The display_info method is then invoked on the object to display the book's title and author."
   ]
  },
  {
   "cell_type": "code",
   "execution_count": 4,
   "id": "b1db5cce",
   "metadata": {},
   "outputs": [
    {
     "name": "stdout",
     "output_type": "stream",
     "text": [
      "The first edition of Hands-On Python for Finance was written by Krish Naik and published in March 2019.\n"
     ]
    }
   ],
   "source": [
    "class Book:\n",
    "    def __init__(self,title,author):\n",
    "        self.title = title\n",
    "        self.author = author\n",
    "        \n",
    "    def display_info(self):\n",
    "        print(f\"The first edition of {self.title} was written by {self.author} and published in March 2019.\")\n",
    "\n",
    "# Create the instance of Book class\n",
    "book = Book(\"Hands-On Python for Finance\",\"Krish Naik\")\n",
    "\n",
    "# Call the display_info() method on book instance\n",
    "book.display_info()"
   ]
  },
  {
   "cell_type": "code",
   "execution_count": 17,
   "id": "219c64bd",
   "metadata": {},
   "outputs": [
    {
     "name": "stdout",
     "output_type": "stream",
     "text": [
      "Title: Python Crash Course, Author: Eric Matthes\n",
      "Title: The Alchemist, Author: Paulo Coelho\n"
     ]
    }
   ],
   "source": [
    "class Book:\n",
    "    def __init__(self, title, author):\n",
    "        self.title = title\n",
    "        self.author = author\n",
    "\n",
    "    def display_info(self):\n",
    "        print(f\"Title: {self.title}, Author: {self.author}\")\n",
    "\n",
    "\n",
    "# Test the Book class\n",
    "if __name__ == \"__main__\":\n",
    "    book1 = Book(\"Python Crash Course\", \"Eric Matthes\")\n",
    "    book2 = Book(\"The Alchemist\", \"Paulo Coelho\")\n",
    "\n",
    "    book1.display_info() \n",
    "    book2.display_info() \n"
   ]
  },
  {
   "cell_type": "markdown",
   "id": "c38fc0a0",
   "metadata": {},
   "source": [
    "In this implementation, the Book class has a constructor (__init__) that takes title and author as arguments and assigns them to the object's attributes self.title and self.author.\n",
    "\n",
    "Additionally, we added the display_info() method to the Book class, which uses the self.title and self.author attributes to print the book's title and author when invoked.\n",
    "\n",
    "The test code at the end creates instances of Book, and the display_info() method is called on each instance to display the book's title and author."
   ]
  },
  {
   "cell_type": "code",
   "execution_count": 18,
   "id": "cddfcf37",
   "metadata": {},
   "outputs": [
    {
     "name": "stdout",
     "output_type": "stream",
     "text": [
      "Title: Python Crash Course\n",
      "Author: Eric Matthes\n"
     ]
    }
   ],
   "source": [
    "class Book:\n",
    "    def __init__(self, title, author):\n",
    "        self.title = title\n",
    "        self.author = author\n",
    "\n",
    "    def display_info(self):\n",
    "        print(f\"Title: {self.title}\")\n",
    "        print(f\"Author: {self.author}\")\n",
    "\n",
    "\n",
    "# Test the Book class\n",
    "if __name__ == \"__main__\":\n",
    "    book1 = Book(\"Python Crash Course\", \"Eric Matthes\")\n",
    "    book1.display_info()\n"
   ]
  },
  {
   "cell_type": "markdown",
   "id": "d2dc308a",
   "metadata": {},
   "source": [
    "In this implementation, the Book class has a constructor __init__() that takes title and author as arguments and assigns them to the object's attributes self.title and self.author.\n",
    "\n",
    "The display_info() method is then defined to print the book's title and author.\n",
    "\n",
    "In the test code, we create an instance of Book named book1 with the title \"Python Crash Course\" and the author \"Eric Matthes\". Then, we call the display_info() method on book1 to print the book's information."
   ]
  },
  {
   "cell_type": "markdown",
   "id": "f7e8e4e3",
   "metadata": {},
   "source": [
    "### 6.  Vehicles: Create a base class called Vehicle with attributes such as make, model, and year. Implement two subclasses Car and Motorcycle that inherit from Vehicle. Add additional methods to the subclasses, such as start_engine() and stop_engine(), and handle any specific behavior or rules for each vehicle type."
   ]
  },
  {
   "cell_type": "code",
   "execution_count": 16,
   "id": "eda0f736",
   "metadata": {},
   "outputs": [
    {
     "name": "stdout",
     "output_type": "stream",
     "text": [
      "2022 Toyota Corolla with 4 doors\n",
      "2023 Harley-Davidson Sportster with internal combustion engine\n",
      "Toyota Corolla engine started.\n",
      "Toyota Corolla engine stopped.\n",
      "Harley-Davidson Sportster engine started.\n",
      "Harley-Davidson Sportster engine stopped.\n"
     ]
    }
   ],
   "source": [
    "class Vehicle:\n",
    "    def __init__(self, make, model, year):\n",
    "        self.make = make\n",
    "        self.model = model\n",
    "        self.year = year\n",
    "        self.engine_started = False\n",
    "\n",
    "    def start_engine(self):\n",
    "        if not self.engine_started:\n",
    "            self.engine_started = True\n",
    "            print(f\"{self.make} {self.model} engine started.\")\n",
    "        else:\n",
    "            print(\"Engine is already running.\")\n",
    "\n",
    "    def stop_engine(self):\n",
    "        if self.engine_started:\n",
    "            self.engine_started = False\n",
    "            print(f\"{self.make} {self.model} engine stopped.\")\n",
    "        else:\n",
    "            print(\"Engine is already stopped.\")\n",
    "\n",
    "\n",
    "class Car(Vehicle):\n",
    "    def __init__(self, make, model, year, num_doors):\n",
    "        super().__init__(make, model, year)\n",
    "        self.num_doors = num_doors\n",
    "\n",
    "    def __str__(self):\n",
    "        return f\"{self.year} {self.make} {self.model} with {self.num_doors} doors\"\n",
    "\n",
    "\n",
    "class Motorcycle(Vehicle):\n",
    "    def __init__(self, make, model, year, is_electric):\n",
    "        super().__init__(make, model, year)\n",
    "        self.is_electric = is_electric\n",
    "\n",
    "    def __str__(self):\n",
    "        return f\"{self.year} {self.make} {self.model} {'electric' if self.is_electric else 'with internal combustion engine'}\"\n",
    "\n",
    "\n",
    "# Test the classes\n",
    "if __name__ == \"__main__\":\n",
    "    car1 = Car(\"Toyota\", \"Corolla\", 2022, 4)\n",
    "    motorcycle1 = Motorcycle(\"Harley-Davidson\", \"Sportster\", 2023, False)\n",
    "\n",
    "    print(car1)\n",
    "    print(motorcycle1)\n",
    "\n",
    "    car1.start_engine()\n",
    "    car1.stop_engine()\n",
    "\n",
    "    motorcycle1.start_engine()\n",
    "    motorcycle1.stop_engine()\n"
   ]
  },
  {
   "cell_type": "markdown",
   "id": "675aefca",
   "metadata": {},
   "source": [
    "In this implementation, the Vehicle class is the base class, which contains the attributes make, model, year, and a engine_started flag to track if the engine is running. It also includes methods start_engine() and stop_engine() to simulate starting and stopping the vehicle's engine.\n",
    "\n",
    "The Car class and Motorcycle class are subclasses that inherit from the Vehicle class. They each have additional attributes specific to their type (e.g., num_doors for cars and is_electric for motorcycles).\n",
    "\n",
    "The __str__() method is overridden in both subclasses to provide a more descriptive representation of each vehicle.\n",
    "\n",
    "The test code at the end creates instances of Car and Motorcycle, prints their information, and calls the start_engine() and stop_engine() methods to simulate starting and stopping the engines of the vehicles."
   ]
  },
  {
   "cell_type": "markdown",
   "id": "83877162",
   "metadata": {},
   "source": [
    "### 7. Animals: Create a base class called Animal with methods such as eat() and sleep(). Implement two subclasses Dog and Cat that inherit from Animal. Add additional methods to the subclasses, such as bark() for dogs and meow() for cats, and handle any specific behavior or rules for each animal type."
   ]
  },
  {
   "cell_type": "code",
   "execution_count": 1,
   "id": "3f91611e",
   "metadata": {},
   "outputs": [
    {
     "name": "stdout",
     "output_type": "stream",
     "text": [
      "The animal is eating.\n",
      "The animal is sleeping.\n",
      "The dog is eating its favorite bone.\n",
      "The dog is taking a nap.\n",
      "Woof! Woof!\n",
      "The cat is eating fish.\n",
      "The cat is curling up and sleeping.\n",
      "Meow! Meow!\n"
     ]
    }
   ],
   "source": [
    "class Animal:\n",
    "    def eat(self):\n",
    "        print(\"The animal is eating.\")\n",
    "\n",
    "    def sleep(self):\n",
    "        print(\"The animal is sleeping.\")\n",
    "\n",
    "\n",
    "class Dog(Animal):\n",
    "    def bark(self):\n",
    "        print(\"Woof! Woof!\")\n",
    "\n",
    "    def eat(self):  # Overriding the eat() method for specific behavior of dogs\n",
    "        print(\"The dog is eating its favorite bone.\")\n",
    "\n",
    "    def sleep(self):  # Overriding the sleep() method for specific behavior of dogs\n",
    "        print(\"The dog is taking a nap.\")\n",
    "\n",
    "\n",
    "class Cat(Animal):\n",
    "    def meow(self):\n",
    "        print(\"Meow! Meow!\")\n",
    "\n",
    "    def eat(self):  # Overriding the eat() method for specific behavior of cats\n",
    "        print(\"The cat is eating fish.\")\n",
    "\n",
    "    def sleep(self):  # Overriding the sleep() method for specific behavior of cats\n",
    "        print(\"The cat is curling up and sleeping.\")\n",
    "\n",
    "\n",
    "# Test the classes\n",
    "animal = Animal()\n",
    "animal.eat()\n",
    "animal.sleep()\n",
    "\n",
    "dog = Dog()\n",
    "dog.eat()  # This will call the overridden eat() method in the Dog class\n",
    "dog.sleep()  # This will call the overridden sleep() method in the Dog class\n",
    "dog.bark()\n",
    "\n",
    "cat = Cat()\n",
    "cat.eat()  # This will call the overridden eat() method in the Cat class\n",
    "cat.sleep()  # This will call the overridden sleep() method in the Cat class\n",
    "cat.meow()\n"
   ]
  },
  {
   "cell_type": "markdown",
   "id": "ccf16671",
   "metadata": {},
   "source": [
    "### 8. Library Catalog: Create a base class called LibraryItem with attributes such as title, author, and publication_year. Implement two subclasses Book and Magazine that inherit from LibraryItem. Add additional methods to the subclasses, such as checkout() and return_item(), and handle any specific behavior or rules for each item type."
   ]
  },
  {
   "cell_type": "code",
   "execution_count": 14,
   "id": "3bab11b1",
   "metadata": {},
   "outputs": [
    {
     "name": "stdout",
     "output_type": "stream",
     "text": [
      "The Catcher in the Rye has been checked out.\n",
      "The Catcher in the Rye has been returned.\n",
      "The Catcher in the Rye has been checked out.\n",
      "National Geographic has been checked out.\n",
      "National Geographic has been returned.\n",
      "Book - Title: The Catcher in the Rye, Author: J.D. Salinger, Publication Year: 1951, ISBN: 978-0-316-76948-4\n",
      "Magazine - Title: National Geographic, Author: National Geographic Society, Publication Year: 1888, Issue Number: July 2023\n"
     ]
    }
   ],
   "source": [
    "class LibraryItem:\n",
    "    def __init__(self, title, author, publication_year):\n",
    "        self.title = title\n",
    "        self.author = author\n",
    "        self.publication_year = publication_year\n",
    "        self.checked_out = False\n",
    "\n",
    "    def __str__(self):\n",
    "        return f\"Title: {self.title}, Author: {self.author}, Publication Year: {self.publication_year}\"\n",
    "\n",
    "    def checkout(self):\n",
    "        if not self.checked_out:\n",
    "            self.checked_out = True\n",
    "            print(f\"{self.title} has been checked out.\")\n",
    "        else:\n",
    "            print(f\"{self.title} is already checked out.\")\n",
    "\n",
    "    def return_item(self):\n",
    "        if self.checked_out:\n",
    "            self.checked_out = False\n",
    "            print(f\"{self.title} has been returned.\")\n",
    "        else:\n",
    "            print(f\"{self.title} is already available in the library.\")\n",
    "\n",
    "\n",
    "class Book(LibraryItem):\n",
    "    def __init__(self, title, author, publication_year, isbn):\n",
    "        super().__init__(title, author, publication_year)\n",
    "        self.isbn = isbn\n",
    "\n",
    "    def __str__(self):\n",
    "        return f\"Book - {super().__str__()}, ISBN: {self.isbn}\"\n",
    "\n",
    "\n",
    "class Magazine(LibraryItem):\n",
    "    def __init__(self, title, author, publication_year, issue_number):\n",
    "        super().__init__(title, author, publication_year)\n",
    "        self.issue_number = issue_number\n",
    "\n",
    "    def __str__(self):\n",
    "        return f\"Magazine - {super().__str__()}, Issue Number: {self.issue_number}\"\n",
    "\n",
    "\n",
    "# Test the classes\n",
    "if __name__ == \"__main__\":\n",
    "    # Create instances of Book and Magazine\n",
    "    book1 = Book(\"The Catcher in the Rye\", \"J.D. Salinger\", 1951, \"978-0-316-76948-4\")\n",
    "    magazine1 = Magazine(\"National Geographic\", \"National Geographic Society\", 1888, \"July 2023\")\n",
    "\n",
    "    # Checkout and return items\n",
    "    book1.checkout()\n",
    "    book1.return_item()\n",
    "    book1.checkout()\n",
    "\n",
    "    magazine1.checkout()\n",
    "    magazine1.return_item()\n",
    "\n",
    "    # Print information about each library item\n",
    "    print(book1)\n",
    "     print(magazine1)\n"
   ]
  },
  {
   "cell_type": "markdown",
   "id": "14411864",
   "metadata": {},
   "source": [
    "In this implementation, the LibraryItem class is the base class with attributes title, author, publication_year, and checked_out. It also has methods checkout() and return_item() to handle the behavior of checking out and returning library items.\n",
    "\n",
    "The Book class and Magazine class are subclasses that inherit from the LibraryItem class. They have additional attributes, such as isbn for books and issue_number for magazines, along with the respective __str__ methods to provide information specific to each item type.\n",
    "\n",
    "The test code at the end creates instances of Book and Magazine, calls the checkout() and return_item() methods to simulate borrowing and returning library items, and prints the information about each library item using the __str__ method."
   ]
  },
  {
   "cell_type": "code",
   "execution_count": 15,
   "id": "08224d18",
   "metadata": {},
   "outputs": [
    {
     "name": "stdout",
     "output_type": "stream",
     "text": [
      "Book: Python Crash Course by Eric Matthes (2019), Pages: 560\n",
      "Magazine: National Geographic by Various Authors (2023), Issue Number: July\n",
      "Book 'Python Crash Course' has been checked out.\n",
      "Magazine 'National Geographic' has been checked out.\n",
      "Book 'Python Crash Course' has been returned.\n",
      "Magazine 'National Geographic' has been returned.\n",
      "Book 'Python Crash Course' has been checked out.\n",
      "Book 'Python Crash Course' has been returned.\n"
     ]
    }
   ],
   "source": [
    "class LibraryItem:\n",
    "    def __init__(self, title, author, publication_year):\n",
    "        self.title = title\n",
    "        self.author = author\n",
    "        self.publication_year = publication_year\n",
    "        self.checked_out = False\n",
    "\n",
    "    def checkout(self):\n",
    "        if not self.checked_out:\n",
    "            self.checked_out = True\n",
    "            print(f\"{self.__class__.__name__} '{self.title}' has been checked out.\")\n",
    "        else:\n",
    "            print(f\"{self.__class__.__name__} '{self.title}' is already checked out.\")\n",
    "\n",
    "    def return_item(self):\n",
    "        if self.checked_out:\n",
    "            self.checked_out = False\n",
    "            print(f\"{self.__class__.__name__} '{self.title}' has been returned.\")\n",
    "        else:\n",
    "            print(f\"{self.__class__.__name__} '{self.title}' is already in the library.\")\n",
    "\n",
    "    def __str__(self):\n",
    "        return f\"{self.__class__.__name__}: {self.title} by {self.author} ({self.publication_year})\"\n",
    "\n",
    "\n",
    "class Book(LibraryItem):\n",
    "    def __init__(self, title, author, publication_year, num_pages):\n",
    "        super().__init__(title, author, publication_year)\n",
    "        self.num_pages = num_pages\n",
    "\n",
    "    def __str__(self):\n",
    "        return f\"{super().__str__()}, Pages: {self.num_pages}\"\n",
    "\n",
    "\n",
    "class Magazine(LibraryItem):\n",
    "    def __init__(self, title, author, publication_year, issue_number):\n",
    "        super().__init__(title, author, publication_year)\n",
    "        self.issue_number = issue_number\n",
    "\n",
    "    def __str__(self):\n",
    "        return f\"{super().__str__()}, Issue Number: {self.issue_number}\"\n",
    "\n",
    "\n",
    "# Test the classes\n",
    "if __name__ == \"__main__\":\n",
    "    book1 = Book(\"Python Crash Course\", \"Eric Matthes\", 2019, 560)\n",
    "    magazine1 = Magazine(\"National Geographic\", \"Various Authors\", 2023, \"July\")\n",
    "\n",
    "    print(book1)\n",
    "    print(magazine1)\n",
    "\n",
    "    book1.checkout()\n",
    "    magazine1.checkout()\n",
    "\n",
    "    book1.return_item()\n",
    "    magazine1.return_item()\n",
    "\n",
    "    book1.checkout()\n",
    "    book1.return_item()\n"
   ]
  },
  {
   "cell_type": "markdown",
   "id": "ca4230b5",
   "metadata": {},
   "source": [
    "In this implementation, the LibraryItem class is the base class with attributes title, author, publication_year, and a checked_out flag to track if the item is checked out or not. It also includes methods checkout() and return_item() to simulate the actions of checking out and returning the item from the library.\n",
    "\n",
    "The Book class and Magazine class are subclasses that inherit from the LibraryItem class. They each have additional attributes specific to their type (e.g., num_pages for books and issue_number for magazines).\n",
    "\n",
    "The __str__() method is overridden in both subclasses to provide a more descriptive representation of each item.\n",
    "\n",
    "The test code at the end creates instances of Book and Magazine, prints their information, and calls the checkout() and return_item() methods to simulate checking out and returning items from the library."
   ]
  },
  {
   "cell_type": "markdown",
   "id": "a0851a5b",
   "metadata": {},
   "source": [
    "### 9. Employees and Departments: Create a base class called Employee with attributes such as name, salary, and department. Implement two subclasses Manager and Staff that inherit from Employee. Add additional methods to the subclasses, such as assign_task() for managers and attend_meeting() for staff members. Create a separate class called Department that contains a list of employees and methods to add or remove employees from the department."
   ]
  },
  {
   "cell_type": "code",
   "execution_count": 5,
   "id": "449a01fc",
   "metadata": {},
   "outputs": [
    {
     "name": "stdout",
     "output_type": "stream",
     "text": [
      "John Doe added to the department.\n",
      "Alice Smith added to the department.\n",
      "Bob Johnson added to the department.\n",
      "Employees in the department:\n",
      "Name: John Doe, Salary: 50000, Department: HR\n",
      "Name: Alice Smith, Salary: 30000, Department: Finance\n",
      "Name: Bob Johnson, Salary: 35000, Department: Finance\n",
      "Manager John Doe is assigning task: Prepare quarterly report\n",
      "Staff Alice Smith is attending meeting: Budget planning\n",
      "Bob Johnson removed from the department.\n",
      "Employees in the department:\n",
      "Name: John Doe, Salary: 50000, Department: HR\n",
      "Name: Alice Smith, Salary: 30000, Department: Finance\n"
     ]
    }
   ],
   "source": [
    "class Employee:\n",
    "    def __init__(self, name, salary, department):\n",
    "        self.name = name\n",
    "        self.salary = salary\n",
    "        self.department = department\n",
    "\n",
    "    def __str__(self):\n",
    "        return f\"Name: {self.name}, Salary: {self.salary}, Department: {self.department}\"\n",
    "\n",
    "\n",
    "class Manager(Employee):\n",
    "    def assign_task(self, task):\n",
    "        print(f\"Manager {self.name} is assigning task: {task}\")\n",
    "\n",
    "\n",
    "class Staff(Employee):\n",
    "    def attend_meeting(self, meeting):\n",
    "        print(f\"Staff {self.name} is attending meeting: {meeting}\")\n",
    "\n",
    "\n",
    "class Department:\n",
    "    def __init__(self):\n",
    "        self.employees = []\n",
    "\n",
    "    def add_employee(self, employee):\n",
    "        if isinstance(employee, Employee):\n",
    "            self.employees.append(employee)\n",
    "            print(f\"{employee.name} added to the department.\")\n",
    "        else:\n",
    "            print(\"Invalid employee. Cannot be added to the department.\")\n",
    "\n",
    "    def remove_employee(self, employee):\n",
    "        if employee in self.employees:\n",
    "            self.employees.remove(employee)\n",
    "            print(f\"{employee.name} removed from the department.\")\n",
    "        else:\n",
    "            print(f\"{employee.name} is not part of the department.\")\n",
    "\n",
    "    def list_employees(self):\n",
    "        print(\"Employees in the department:\")\n",
    "        for employee in self.employees:\n",
    "            print(employee)\n",
    "\n",
    "\n",
    "# Test the classes\n",
    "if __name__ == \"__main__\":\n",
    "    emp1 = Manager(\"John Doe\", 50000, \"HR\")\n",
    "    emp2 = Staff(\"Alice Smith\", 30000, \"Finance\")\n",
    "    emp3 = Staff(\"Bob Johnson\", 35000, \"Finance\")\n",
    "\n",
    "    dep = Department()\n",
    "    dep.add_employee(emp1)\n",
    "    dep.add_employee(emp2)\n",
    "    dep.add_employee(emp3)\n",
    "\n",
    "    dep.list_employees()\n",
    "\n",
    "    emp1.assign_task(\"Prepare quarterly report\")\n",
    "    emp2.attend_meeting(\"Budget planning\")\n",
    "\n",
    "    dep.remove_employee(emp3)\n",
    "\n",
    "    dep.list_employees()\n"
   ]
  },
  {
   "cell_type": "markdown",
   "id": "e48950de",
   "metadata": {},
   "source": [
    "In this implementation, the Employee class is the base class, which contains attributes like name, salary, and department. The Manager and Staff classes are subclasses that inherit from the Employee class. Each subclass has additional methods specific to their roles, such as assign_task() for managers and attend_meeting() for staff members.\n",
    "\n",
    "The Department class contains a list of employees and methods to add or remove employees from the department. You can create instances of Manager and Staff classes and add them to the department using the add_employee() method. Similarly, you can remove employees from the department using the remove_employee() method. The list_employees() method allows you to see the current list of employees in the department."
   ]
  },
  {
   "cell_type": "code",
   "execution_count": 3,
   "id": "dfa2ae0e",
   "metadata": {},
   "outputs": [
    {
     "name": "stdout",
     "output_type": "stream",
     "text": [
      "Employees in the department:\n",
      "Name: John Doe, Salary: 50000, Department: Management\n",
      "Name: Jane Smith, Salary: 30000, Department: Sales\n",
      "Name: Bob Johnson, Salary: 35000, Department: Marketing\n",
      "Manager John Doe assigned the task: Prepare the quarterly report\n",
      "Staff Jane Smith is attending the meeting: Sales strategy meeting\n",
      "Staff Bob Johnson is attending the meeting: Marketing campaign planning\n",
      "\n",
      "After removing an employee:\n",
      "Employees in the department:\n",
      "Name: John Doe, Salary: 50000, Department: Management\n",
      "Name: Bob Johnson, Salary: 35000, Department: Marketing\n"
     ]
    }
   ],
   "source": [
    "class Employee:\n",
    "    def __init__(self, name, salary, department):\n",
    "        self.name = name\n",
    "        self.salary = salary\n",
    "        self.department = department\n",
    "\n",
    "    def display_info(self):\n",
    "        print(f\"Name: {self.name}, Salary: {self.salary}, Department: {self.department}\")\n",
    "\n",
    "\n",
    "class Manager(Employee):\n",
    "    def assign_task(self, task):\n",
    "        print(f\"Manager {self.name} assigned the task: {task}\")\n",
    "\n",
    "\n",
    "class Staff(Employee):\n",
    "    def attend_meeting(self, meeting):\n",
    "        print(f\"Staff {self.name} is attending the meeting: {meeting}\")\n",
    "\n",
    "\n",
    "class Department:\n",
    "    def __init__(self):\n",
    "        self.employees = []\n",
    "\n",
    "    def add_employee(self, employee):\n",
    "        self.employees.append(employee)\n",
    "\n",
    "    def remove_employee(self, employee):\n",
    "        self.employees.remove(employee)\n",
    "\n",
    "    def display_all_employees(self):\n",
    "        print(\"Employees in the department:\")\n",
    "        for employee in self.employees:\n",
    "            employee.display_info()\n",
    "\n",
    "\n",
    "# Test the classes\n",
    "if __name__ == \"__main__\":\n",
    "    department = Department()\n",
    "\n",
    "    employee1 = Manager(\"John Doe\", 50000, \"Management\")\n",
    "    employee2 = Staff(\"Jane Smith\", 30000, \"Sales\")\n",
    "    employee3 = Staff(\"Bob Johnson\", 35000, \"Marketing\")\n",
    "\n",
    "    department.add_employee(employee1)\n",
    "    department.add_employee(employee2)\n",
    "    department.add_employee(employee3)\n",
    "\n",
    "    department.display_all_employees()\n",
    "\n",
    "    employee1.assign_task(\"Prepare the quarterly report\")\n",
    "    employee2.attend_meeting(\"Sales strategy meeting\")\n",
    "    employee3.attend_meeting(\"Marketing campaign planning\")\n",
    "\n",
    "    department.remove_employee(employee2)\n",
    "\n",
    "    print(\"\\nAfter removing an employee:\")\n",
    "    department.display_all_employees()\n"
   ]
  },
  {
   "cell_type": "markdown",
   "id": "e7e3ceca",
   "metadata": {},
   "source": [
    "In this implementation, the Employee class is the base class, which contains attributes such as name, salary, and department, along with a method display_info() to display employee information. The Manager and Staff classes are subclasses that inherit from the Employee class and have additional methods, such as assign_task() and attend_meeting() respectively.\n",
    "\n",
    "The Department class contains a list of employees and methods to add or remove employees from the department, along with a method display_all_employees() to display all the employees in the department."
   ]
  },
  {
   "cell_type": "code",
   "execution_count": 6,
   "id": "9fec5249",
   "metadata": {},
   "outputs": [
    {
     "name": "stdout",
     "output_type": "stream",
     "text": [
      "John Doe added to the department.\n",
      "Jane Smith added to the department.\n",
      "Manager John Doe assigns the task: Prepare quarterly report\n",
      "Staff Jane Smith attends the meeting: Sales strategy meeting\n",
      "Employees in the department:\n",
      "John Doe - Salary: 70000, Department: Management\n",
      "Jane Smith - Salary: 50000, Department: Sales\n",
      "John Doe removed from the department.\n",
      "Employees in the department:\n",
      "Jane Smith - Salary: 50000, Department: Sales\n"
     ]
    }
   ],
   "source": [
    "class Employee:\n",
    "    def __init__(self, name, salary, department):\n",
    "        self.name = name\n",
    "        self.salary = salary\n",
    "        self.department = department\n",
    "\n",
    "    def assign_task(self):\n",
    "        pass  # To be implemented in subclasses\n",
    "\n",
    "    def __str__(self):\n",
    "        return f\"{self.name} - Salary: {self.salary}, Department: {self.department}\"\n",
    "\n",
    "\n",
    "class Manager(Employee):\n",
    "    def assign_task(self, task):\n",
    "        print(f\"Manager {self.name} assigns the task: {task}\")\n",
    "\n",
    "\n",
    "class Staff(Employee):\n",
    "    def attend_meeting(self, meeting_name):\n",
    "        print(f\"Staff {self.name} attends the meeting: {meeting_name}\")\n",
    "\n",
    "\n",
    "class Department:\n",
    "    def __init__(self):\n",
    "        self.employees = []\n",
    "\n",
    "    def add_employee(self, employee):\n",
    "        if isinstance(employee, Employee):\n",
    "            self.employees.append(employee)\n",
    "            print(f\"{employee.name} added to the department.\")\n",
    "        else:\n",
    "            print(\"Invalid employee. Only instances of Employee class can be added.\")\n",
    "\n",
    "    def remove_employee(self, employee):\n",
    "        if employee in self.employees:\n",
    "            self.employees.remove(employee)\n",
    "            print(f\"{employee.name} removed from the department.\")\n",
    "        else:\n",
    "            print(\"Employee not found in the department.\")\n",
    "\n",
    "    def list_employees(self):\n",
    "        print(\"Employees in the department:\")\n",
    "        for employee in self.employees:\n",
    "            print(employee)\n",
    "\n",
    "\n",
    "# Test the classes\n",
    "if __name__ == \"__main__\":\n",
    "    # Creating instances of Manager and Staff\n",
    "    manager1 = Manager(\"John Doe\", 70000, \"Management\")\n",
    "    staff1 = Staff(\"Jane Smith\", 50000, \"Sales\")\n",
    "\n",
    "    # Creating a Department\n",
    "    department = Department()\n",
    "\n",
    "    # Adding employees to the department\n",
    "    department.add_employee(manager1)\n",
    "    department.add_employee(staff1)\n",
    "\n",
    "    # Assigning a task to the Manager\n",
    "    manager1.assign_task(\"Prepare quarterly report\")\n",
    "\n",
    "    # Staff member attending a meeting\n",
    "    staff1.attend_meeting(\"Sales strategy meeting\")\n",
    "\n",
    "    # Listing employees in the department\n",
    "    department.list_employees()\n",
    "\n",
    "    # Removing an employee from the department\n",
    "    department.remove_employee(manager1)\n",
    "\n",
    "    # Listing employees in the department after removal\n",
    "    department.list_employees()\n"
   ]
  },
  {
   "cell_type": "markdown",
   "id": "d72ee777",
   "metadata": {},
   "source": [
    "In this implementation, the Employee class is the base class, and it has attributes like name, salary, and department, along with the assign_task() method. The Manager class and Staff class are subclasses that inherit from the Employee class and provide specific implementations for the assign_task() and attend_meeting() methods, respectively.\n",
    "\n",
    "The Department class is a separate class that contains a list of employees (employees), and it has methods to add employees to the department, remove employees from the department, and list all the employees in the department."
   ]
  },
  {
   "cell_type": "markdown",
   "id": "3b2ee8bd",
   "metadata": {},
   "source": [
    "### 10. Bank Transactions: Create a base class called BankAccount with attributes such as account_number and balance. Implement subclasses for different types of accounts such as CheckingAccount and SavingsAccount that inherit from BankAccount. Add additional methods to the subclasses, such as withdraw() and deposit(), and handle any specific behavior or rules for each account type."
   ]
  },
  {
   "cell_type": "code",
   "execution_count": 7,
   "id": "7f216a12",
   "metadata": {},
   "outputs": [
    {
     "name": "stdout",
     "output_type": "stream",
     "text": [
      "Deposited 500.00 into Account 12345. New balance: 1500.00\n",
      "Withdrew 1200.00 from Account 12345. New balance: 300.00\n",
      "Insufficient balance. Account 12345 has only 300.00\n",
      "Account Number: 12345, Balance: 300.00\n",
      "Deposited 1000.00 into Account 67890. New balance: 3000.00\n",
      "Interest added to Account 67890. New balance: 3150.00\n",
      "Withdrew 500.00 from Account 67890. New balance: 2650.00\n",
      "Account Number: 67890, Balance: 2650.00\n"
     ]
    }
   ],
   "source": [
    "class BankAccount:\n",
    "    def __init__(self, account_number, balance=0):\n",
    "        self.account_number = account_number\n",
    "        self.balance = balance\n",
    "\n",
    "    def deposit(self, amount):\n",
    "        self.balance += amount\n",
    "        print(f\"Deposited {amount:.2f} into Account {self.account_number}. New balance: {self.balance:.2f}\")\n",
    "\n",
    "    def withdraw(self, amount):\n",
    "        if self.balance >= amount:\n",
    "            self.balance -= amount\n",
    "            print(f\"Withdrew {amount:.2f} from Account {self.account_number}. New balance: {self.balance:.2f}\")\n",
    "        else:\n",
    "            print(f\"Insufficient balance. Account {self.account_number} has only {self.balance:.2f}\")\n",
    "\n",
    "    def __str__(self):\n",
    "        return f\"Account Number: {self.account_number}, Balance: {self.balance:.2f}\"\n",
    "\n",
    "\n",
    "class CheckingAccount(BankAccount):\n",
    "    def __init__(self, account_number, balance=0, overdraft_limit=1000):\n",
    "        super().__init__(account_number, balance)\n",
    "        self.overdraft_limit = overdraft_limit\n",
    "\n",
    "    def withdraw(self, amount):\n",
    "        if self.balance + self.overdraft_limit >= amount:\n",
    "            super().withdraw(amount)\n",
    "        else:\n",
    "            print(f\"Overdraft limit exceeded. Account {self.account_number} has only {self.balance:.2f}\")\n",
    "\n",
    "\n",
    "class SavingsAccount(BankAccount):\n",
    "    def __init__(self, account_number, balance=0, interest_rate=0.01):\n",
    "        super().__init__(account_number, balance)\n",
    "        self.interest_rate = interest_rate\n",
    "\n",
    "    def add_interest(self):\n",
    "        interest = self.balance * self.interest_rate\n",
    "        self.balance += interest\n",
    "        print(f\"Interest added to Account {self.account_number}. New balance: {self.balance:.2f}\")\n",
    "\n",
    "\n",
    "# Test the classes\n",
    "if __name__ == \"__main__\":\n",
    "    checking_account = CheckingAccount(\"12345\", 1000, 500)\n",
    "    checking_account.deposit(500)\n",
    "    checking_account.withdraw(1200)\n",
    "    checking_account.withdraw(800)\n",
    "    print(checking_account)\n",
    "\n",
    "    savings_account = SavingsAccount(\"67890\", 2000, 0.05)\n",
    "    savings_account.deposit(1000)\n",
    "    savings_account.add_interest()\n",
    "    savings_account.withdraw(500)\n",
    "    print(savings_account)\n"
   ]
  },
  {
   "cell_type": "markdown",
   "id": "9f33d66c",
   "metadata": {},
   "source": [
    "In this implementation, the BankAccount class is the base class with attributes account_number and balance, and it has methods for deposit() and withdraw(). The CheckingAccount and SavingsAccount classes are subclasses that inherit from BankAccount. Each subclass can have additional methods, like withdraw() with overdraft protection for CheckingAccount, and add_interest() for SavingsAccount."
   ]
  },
  {
   "cell_type": "code",
   "execution_count": 8,
   "id": "675e8bd9",
   "metadata": {},
   "outputs": [
    {
     "name": "stdout",
     "output_type": "stream",
     "text": [
      "Deposited $500. New balance: $1500\n",
      "Withdrew $1200. New balance: $300.00\n",
      "Deposited $1000. New balance: $6000\n",
      "Added interest: $120.00. New balance: $6120.00\n",
      "Withdrew $5500. New balance: $620.0\n",
      "Account Number: 12345, Balance: $300.00\n",
      "Account Number: 67890, Balance: $620.00\n"
     ]
    }
   ],
   "source": [
    "class BankAccount:\n",
    "    def __init__(self, account_number, balance=0):\n",
    "        self.account_number = account_number\n",
    "        self.balance = balance\n",
    "\n",
    "    def deposit(self, amount):\n",
    "        if amount > 0:\n",
    "            self.balance += amount\n",
    "            print(f\"Deposited ${amount}. New balance: ${self.balance}\")\n",
    "        else:\n",
    "            print(\"Invalid amount for deposit. Amount must be greater than 0.\")\n",
    "\n",
    "    def withdraw(self, amount):\n",
    "        if 0 < amount <= self.balance:\n",
    "            self.balance -= amount\n",
    "            print(f\"Withdrew ${amount}. New balance: ${self.balance}\")\n",
    "        else:\n",
    "            print(\"Insufficient funds or invalid amount for withdrawal.\")\n",
    "\n",
    "    def __str__(self):\n",
    "        return f\"Account Number: {self.account_number}, Balance: ${self.balance:.2f}\"\n",
    "\n",
    "\n",
    "class CheckingAccount(BankAccount):\n",
    "    def __init__(self, account_number, balance=0, overdraft_limit=100):\n",
    "        super().__init__(account_number, balance)\n",
    "        self.overdraft_limit = overdraft_limit\n",
    "\n",
    "    def withdraw(self, amount):\n",
    "        if 0 < amount <= (self.balance + self.overdraft_limit):\n",
    "            self.balance -= amount\n",
    "            print(f\"Withdrew ${amount}. New balance: ${self.balance:.2f}\")\n",
    "        else:\n",
    "            print(\"Insufficient funds or invalid amount for withdrawal.\")\n",
    "\n",
    "\n",
    "class SavingsAccount(BankAccount):\n",
    "    def __init__(self, account_number, balance=0, interest_rate=0.01):\n",
    "        super().__init__(account_number, balance)\n",
    "        self.interest_rate = interest_rate\n",
    "\n",
    "    def add_interest(self):\n",
    "        interest = self.balance * self.interest_rate\n",
    "        self.balance += interest\n",
    "        print(f\"Added interest: ${interest:.2f}. New balance: ${self.balance:.2f}\")\n",
    "\n",
    "\n",
    "# Test the classes\n",
    "if __name__ == \"__main__\":\n",
    "    # Create a CheckingAccount and a SavingsAccount\n",
    "    checking_account = CheckingAccount(\"12345\", 1000, overdraft_limit=200)\n",
    "    savings_account = SavingsAccount(\"67890\", 5000, interest_rate=0.02)\n",
    "\n",
    "    # Deposit and withdraw from the accounts\n",
    "    checking_account.deposit(500)\n",
    "    checking_account.withdraw(1200)\n",
    "\n",
    "    savings_account.deposit(1000)\n",
    "    savings_account.add_interest()\n",
    "    savings_account.withdraw(5500)\n",
    "\n",
    "    # Display the account information\n",
    "    print(checking_account)\n",
    "    print(savings_account)\n"
   ]
  },
  {
   "cell_type": "markdown",
   "id": "298e9346",
   "metadata": {},
   "source": [
    "In this implementation, we have a BankAccount base class that contains attributes like account_number and balance, along with methods deposit() and withdraw(). The CheckingAccount and SavingsAccount subclasses inherit from BankAccount, and they have their specific implementations for the withdraw() method (to allow overdraft in CheckingAccount) and an additional method add_interest() for the SavingsAccount to add interest based on the specified interest_rate.\n",
    "\n",
    "The test section creates instances of CheckingAccount and SavingsAccount to demonstrate the usage of the classes and their respective methods."
   ]
  },
  {
   "cell_type": "code",
   "execution_count": 9,
   "id": "cab67530",
   "metadata": {},
   "outputs": [
    {
     "name": "stdout",
     "output_type": "stream",
     "text": [
      "Account Number: 123456789, Balance: 1000.00, Overdraft Limit: 500.00\n",
      "Withdrew 1200. New balance: -200\n",
      "Withdrew 300. New balance: -500\n",
      "Account Number: 987654321, Balance: 5000.00, Interest Rate: 2.00%\n",
      "Deposited 1000. New balance: 6000\n",
      "Added interest: 120.00. New balance: 6120.0\n"
     ]
    }
   ],
   "source": [
    "class BankAccount:\n",
    "    def __init__(self, account_number, balance):\n",
    "        self.account_number = account_number\n",
    "        self.balance = balance\n",
    "\n",
    "    def deposit(self, amount):\n",
    "        self.balance += amount\n",
    "        print(f\"Deposited {amount}. New balance: {self.balance}\")\n",
    "\n",
    "    def withdraw(self, amount):\n",
    "        if amount <= self.balance:\n",
    "            self.balance -= amount\n",
    "            print(f\"Withdrew {amount}. New balance: {self.balance}\")\n",
    "        else:\n",
    "            print(\"Insufficient funds.\")\n",
    "\n",
    "    def __str__(self):\n",
    "        return f\"Account Number: {self.account_number}, Balance: {self.balance:.2f}\"\n",
    "\n",
    "\n",
    "class CheckingAccount(BankAccount):\n",
    "    def __init__(self, account_number, balance, overdraft_limit):\n",
    "        super().__init__(account_number, balance)\n",
    "        self.overdraft_limit = overdraft_limit\n",
    "\n",
    "    def withdraw(self, amount):\n",
    "        available_balance = self.balance + self.overdraft_limit\n",
    "        if amount <= available_balance:\n",
    "            self.balance -= amount\n",
    "            print(f\"Withdrew {amount}. New balance: {self.balance}\")\n",
    "        else:\n",
    "            print(\"Exceeds overdraft limit.\")\n",
    "\n",
    "    def __str__(self):\n",
    "        return super().__str__() + f\", Overdraft Limit: {self.overdraft_limit:.2f}\"\n",
    "\n",
    "\n",
    "class SavingsAccount(BankAccount):\n",
    "    def __init__(self, account_number, balance, interest_rate):\n",
    "        super().__init__(account_number, balance)\n",
    "        self.interest_rate = interest_rate\n",
    "\n",
    "    def add_interest(self):\n",
    "        interest_amount = self.balance * (self.interest_rate / 100)\n",
    "        self.balance += interest_amount\n",
    "        print(f\"Added interest: {interest_amount:.2f}. New balance: {self.balance}\")\n",
    "\n",
    "    def __str__(self):\n",
    "        return super().__str__() + f\", Interest Rate: {self.interest_rate:.2f}%\"\n",
    "\n",
    "\n",
    "# Test the classes\n",
    "if __name__ == \"__main__\":\n",
    "    checking_account = CheckingAccount(\"123456789\", 1000, 500)\n",
    "    print(checking_account)  # Output: Account Number: 123456789, Balance: 1000.00, Overdraft Limit: 500.00\n",
    "\n",
    "    checking_account.withdraw(1200)  # Output: Exceeds overdraft limit.\n",
    "    checking_account.withdraw(300)   # Output: Withdrew 300. New balance: 700.00\n",
    "\n",
    "    savings_account = SavingsAccount(\"987654321\", 5000, 2)\n",
    "    print(savings_account)  # Output: Account Number: 987654321, Balance: 5000.00, Interest Rate: 2.00%\n",
    "\n",
    "    savings_account.deposit(1000)   # Output: Deposited 1000. New balance: 6000.00\n",
    "    savings_account.add_interest()  # Output: Added interest: 120.00. New balance: 6120.00\n"
   ]
  },
  {
   "cell_type": "markdown",
   "id": "ed9a656f",
   "metadata": {},
   "source": [
    "In this implementation, the BankAccount class is the base class, which has attributes account_number and balance, along with methods deposit() and withdraw().\n",
    "\n",
    "The CheckingAccount class and SavingsAccount class are subclasses that inherit from the BankAccount class. Each subclass has its own specific implementation of the withdraw() method to handle overdraft limits for checking accounts and add interest for savings accounts. The __str__() method is overridden in each subclass to provide more detailed information when printing the account details."
   ]
  },
  {
   "cell_type": "markdown",
   "id": "5c5329f6",
   "metadata": {},
   "source": [
    "### 11. School Management System: Create a base class called Person with attributes such as name, age, and address. Implement subclasses for different roles such as Student, Teacher, and Staff that inherit from Person. Add additional methods to the subclasses, such as take_exam() for students and teach_subject() for teachers."
   ]
  },
  {
   "cell_type": "code",
   "execution_count": 10,
   "id": "3620588e",
   "metadata": {},
   "outputs": [
    {
     "name": "stdout",
     "output_type": "stream",
     "text": [
      "John Doe takes an exam in Mathematics.\n",
      "Jane Smith teaches Physics.\n",
      "Name: John Doe, Age: 20, Address: 123 Main St\n",
      "Name: Jane Smith, Age: 35, Address: 456 Park Ave\n",
      "Name: Mike Johnson, Age: 25, Address: 789 Broad Rd\n"
     ]
    }
   ],
   "source": [
    "class Person:\n",
    "    def __init__(self, name, age, address):\n",
    "        self.name = name\n",
    "        self.age = age\n",
    "        self.address = address\n",
    "\n",
    "    def __str__(self):\n",
    "        return f\"Name: {self.name}, Age: {self.age}, Address: {self.address}\"\n",
    "\n",
    "\n",
    "class Student(Person):\n",
    "    def __init__(self, name, age, address, student_id):\n",
    "        super().__init__(name, age, address)\n",
    "        self.student_id = student_id\n",
    "\n",
    "    def take_exam(self, subject):\n",
    "        print(f\"{self.name} takes an exam in {subject}.\")\n",
    "\n",
    "\n",
    "class Teacher(Person):\n",
    "    def __init__(self, name, age, address, teacher_id):\n",
    "        super().__init__(name, age, address)\n",
    "        self.teacher_id = teacher_id\n",
    "\n",
    "    def teach_subject(self, subject):\n",
    "        print(f\"{self.name} teaches {subject}.\")\n",
    "\n",
    "\n",
    "class Staff(Person):\n",
    "    def __init__(self, name, age, address, staff_id):\n",
    "        super().__init__(name, age, address)\n",
    "        self.staff_id = staff_id\n",
    "\n",
    "\n",
    "# Test the classes\n",
    "if __name__ == \"__main__\":\n",
    "    # Create instances of Student, Teacher, and Staff\n",
    "    student1 = Student(\"John Doe\", 20, \"123 Main St\", \"S12345\")\n",
    "    teacher1 = Teacher(\"Jane Smith\", 35, \"456 Park Ave\", \"T67890\")\n",
    "    staff1 = Staff(\"Mike Johnson\", 25, \"789 Broad Rd\", \"ST123\")\n",
    "\n",
    "    # Call methods specific to each subclass\n",
    "    student1.take_exam(\"Mathematics\")\n",
    "    teacher1.teach_subject(\"Physics\")\n",
    "\n",
    "    # Print the information of all persons\n",
    "    people = [student1, teacher1, staff1]\n",
    "    for person in people:\n",
    "        print(person)\n"
   ]
  },
  {
   "cell_type": "markdown",
   "id": "643c5e1e",
   "metadata": {},
   "source": [
    "In this implementation, the Person class is the base class and contains attributes name, age, and address. The Student, Teacher, and Staff classes are subclasses that inherit from the Person class.\n",
    "\n",
    "Each subclass has its own constructor (__init__) to initialize specific attributes (like student_id for students, teacher_id for teachers, and staff_id for staff) using the super() function to call the base class constructor.\n",
    "\n",
    "The Student class has a method take_exam() to simulate students taking an exam in a particular subject, and the Teacher class has a method teach_subject() to simulate teachers teaching a specific subject.\n",
    "\n",
    "The code provided at the end creates instances of Student, Teacher, and Staff, and calls methods specific to each subclass. It also prints the information of all persons using the __str__ method."
   ]
  },
  {
   "cell_type": "code",
   "execution_count": 11,
   "id": "bd8f7d02",
   "metadata": {},
   "outputs": [
    {
     "name": "stdout",
     "output_type": "stream",
     "text": [
      "John Doe is taking an exam in Math.\n",
      "Jane Smith is teaching History.\n",
      "Staff - Mike Johnson - Age: 25, Address: 789 Elm Rd, Staff ID: S456\n"
     ]
    }
   ],
   "source": [
    "class Person:\n",
    "    def __init__(self, name, age, address):\n",
    "        self.name = name\n",
    "        self.age = age\n",
    "        self.address = address\n",
    "\n",
    "    def __str__(self):\n",
    "        return f\"{self.name} - Age: {self.age}, Address: {self.address}\"\n",
    "\n",
    "\n",
    "class Student(Person):\n",
    "    def __init__(self, name, age, address, student_id):\n",
    "        super().__init__(name, age, address)\n",
    "        self.student_id = student_id\n",
    "\n",
    "    def take_exam(self, subject):\n",
    "        print(f\"{self.name} is taking an exam in {subject}.\")\n",
    "\n",
    "\n",
    "class Teacher(Person):\n",
    "    def __init__(self, name, age, address, teacher_id):\n",
    "        super().__init__(name, age, address)\n",
    "        self.teacher_id = teacher_id\n",
    "\n",
    "    def teach_subject(self, subject):\n",
    "        print(f\"{self.name} is teaching {subject}.\")\n",
    "\n",
    "\n",
    "class Staff(Person):\n",
    "    def __init__(self, name, age, address, staff_id):\n",
    "        super().__init__(name, age, address)\n",
    "        self.staff_id = staff_id\n",
    "\n",
    "    def __str__(self):\n",
    "        return f\"Staff - {super().__str__()}, Staff ID: {self.staff_id}\"\n",
    "\n",
    "\n",
    "# Test the classes\n",
    "if __name__ == \"__main__\":\n",
    "    # Creating instances of Student, Teacher, and Staff\n",
    "    student = Student(\"John Doe\", 18, \"123 Main St\", \"12345\")\n",
    "    teacher = Teacher(\"Jane Smith\", 30, \"456 Oak Ave\", \"T987\")\n",
    "    staff = Staff(\"Mike Johnson\", 25, \"789 Elm Rd\", \"S456\")\n",
    "\n",
    "    # Performing specific actions for each role\n",
    "    student.take_exam(\"Math\")\n",
    "    teacher.teach_subject(\"History\")\n",
    "\n",
    "    # Printing information about the staff member\n",
    "    print(staff)\n"
   ]
  },
  {
   "cell_type": "markdown",
   "id": "a5b05b44",
   "metadata": {},
   "source": [
    "In this implementation, the Person class is the base class, which contains attributes name, age, and address. The __str__() method is overridden in the subclasses to provide a formatted string representation for each role.\n",
    "\n",
    "The Student class and Teacher class are subclasses that inherit from the Person class. They both have additional attributes (student_id and teacher_id, respectively) specific to their roles. Additionally, they have methods take_exam() and teach_subject() to perform role-specific actions.\n",
    "\n",
    "The Staff class is another subclass that inherits from the Person class and has an additional attribute staff_id, specific to staff members. The __str__() method is also overridden in this class to provide a specific representation for staff members."
   ]
  },
  {
   "cell_type": "code",
   "execution_count": 12,
   "id": "e724b294",
   "metadata": {},
   "outputs": [
    {
     "name": "stdout",
     "output_type": "stream",
     "text": [
      "Student Alice takes the Math exam.\n",
      "Teacher Mr. Smith teaches Science.\n",
      "Name: Alice, Age: 18, Address: 123 Main St\n",
      "Name: Mr. Smith, Age: 35, Address: 456 Oak Ave\n",
      "Name: John, Age: 25, Address: 789 Elm Rd\n"
     ]
    }
   ],
   "source": [
    "class Person:\n",
    "    def __init__(self, name, age, address):\n",
    "        self.name = name\n",
    "        self.age = age\n",
    "        self.address = address\n",
    "\n",
    "    def __str__(self):\n",
    "        return f\"Name: {self.name}, Age: {self.age}, Address: {self.address}\"\n",
    "\n",
    "\n",
    "class Student(Person):\n",
    "    def __init__(self, name, age, address, student_id):\n",
    "        super().__init__(name, age, address)\n",
    "        self.student_id = student_id\n",
    "\n",
    "    def take_exam(self, subject):\n",
    "        print(f\"Student {self.name} takes the {subject} exam.\")\n",
    "\n",
    "\n",
    "class Teacher(Person):\n",
    "    def __init__(self, name, age, address, teacher_id):\n",
    "        super().__init__(name, age, address)\n",
    "        self.teacher_id = teacher_id\n",
    "\n",
    "    def teach_subject(self, subject):\n",
    "        print(f\"Teacher {self.name} teaches {subject}.\")\n",
    "\n",
    "\n",
    "class Staff(Person):\n",
    "    def __init__(self, name, age, address, staff_id):\n",
    "        super().__init__(name, age, address)\n",
    "        self.staff_id = staff_id\n",
    "\n",
    "    # Additional methods for Staff can be added here\n",
    "\n",
    "\n",
    "# Test the classes\n",
    "if __name__ == \"__main__\":\n",
    "    # Create instances of Student, Teacher, and Staff\n",
    "    student1 = Student(\"Alice\", 18, \"123 Main St\", \"12345\")\n",
    "    teacher1 = Teacher(\"Mr. Smith\", 35, \"456 Oak Ave\", \"T5678\")\n",
    "    staff1 = Staff(\"John\", 25, \"789 Elm Rd\", \"S9876\")\n",
    "\n",
    "    # Call methods specific to each subclass\n",
    "    student1.take_exam(\"Math\")\n",
    "    teacher1.teach_subject(\"Science\")\n",
    "\n",
    "    # Print information about each person\n",
    "    print(student1)\n",
    "    print(teacher1)\n",
    "    print(staff1)\n"
   ]
  },
  {
   "cell_type": "markdown",
   "id": "ae4230a3",
   "metadata": {},
   "source": [
    "In this implementation, the Person class is the base class with attributes name, age, and address. The Student, Teacher, and Staff classes are subclasses that inherit from Person.\n",
    "\n",
    "The Student class has an additional attribute student_id and a method take_exam() to simulate a student taking an exam for a particular subject.\n",
    "\n",
    "The Teacher class has an additional attribute teacher_id and a method teach_subject() to simulate a teacher teaching a specific subject.\n",
    "\n",
    "The Staff class is a placeholder with the Person attributes and can have additional methods specific to staff members if needed.\n",
    "\n",
    "The test code at the end creates instances of Student, Teacher, and Staff, and calls methods specific to each subclass. It also prints the information about each person using the __str__ method."
   ]
  },
  {
   "cell_type": "code",
   "execution_count": null,
   "id": "da7ded98",
   "metadata": {},
   "outputs": [],
   "source": []
  },
  {
   "cell_type": "code",
   "execution_count": null,
   "id": "c423af00",
   "metadata": {},
   "outputs": [],
   "source": []
  },
  {
   "cell_type": "code",
   "execution_count": null,
   "id": "39755438",
   "metadata": {},
   "outputs": [],
   "source": []
  },
  {
   "cell_type": "code",
   "execution_count": null,
   "id": "dd578cd8",
   "metadata": {},
   "outputs": [],
   "source": []
  },
  {
   "cell_type": "code",
   "execution_count": null,
   "id": "d72172c6",
   "metadata": {},
   "outputs": [],
   "source": []
  },
  {
   "cell_type": "code",
   "execution_count": null,
   "id": "f8ee6f38",
   "metadata": {},
   "outputs": [],
   "source": []
  },
  {
   "cell_type": "code",
   "execution_count": null,
   "id": "9eef47dc",
   "metadata": {},
   "outputs": [],
   "source": []
  },
  {
   "cell_type": "code",
   "execution_count": null,
   "id": "6a64acc6",
   "metadata": {},
   "outputs": [],
   "source": []
  },
  {
   "cell_type": "code",
   "execution_count": null,
   "id": "bf690662",
   "metadata": {},
   "outputs": [],
   "source": []
  },
  {
   "cell_type": "code",
   "execution_count": null,
   "id": "ef193ea8",
   "metadata": {},
   "outputs": [],
   "source": []
  }
 ],
 "metadata": {
  "kernelspec": {
   "display_name": "Python 3 (ipykernel)",
   "language": "python",
   "name": "python3"
  },
  "language_info": {
   "codemirror_mode": {
    "name": "ipython",
    "version": 3
   },
   "file_extension": ".py",
   "mimetype": "text/x-python",
   "name": "python",
   "nbconvert_exporter": "python",
   "pygments_lexer": "ipython3",
   "version": "3.11.4"
  }
 },
 "nbformat": 4,
 "nbformat_minor": 5
}
