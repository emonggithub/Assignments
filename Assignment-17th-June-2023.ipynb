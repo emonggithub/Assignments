{
 "cells": [
  {
   "cell_type": "markdown",
   "metadata": {},
   "source": [
    "#### 1. What is the role of try and exception block?"
   ]
  },
  {
   "cell_type": "markdown",
   "metadata": {},
   "source": [
    "Role of Try and Except:\n",
    "\n",
    "- try block: The code within the try block contains the statements that may potentially raise an exception. It allows you to specify the section of code that you want to monitor for exceptions.\n",
    "\n",
    "- except block: If an exception occurs within the try block, the corresponding except block(s) are executed. The except block allows you to define the actions or code that should be executed when a specific exception is raised. You can have multiple except blocks to handle different types of exceptions.\n",
    "\n",
    "- The else block allows you run code without errors.\n",
    "\n",
    "- The finally block executes code regardless of the try-and-except blocks.\n",
    "\n",
    "- Use the raise keyword to throw (or raise) an exception."
   ]
  },
  {
   "cell_type": "markdown",
   "metadata": {},
   "source": [
    "#### 2. What is the syntax for a basic try-except block?"
   ]
  },
  {
   "cell_type": "code",
   "execution_count": 1,
   "metadata": {},
   "outputs": [],
   "source": [
    "try:\n",
    "    # Code that may raise an exception\n",
    "    # ...\n",
    "    pass\n",
    "\n",
    "except SomeExceptionType as e:\n",
    "    # Code to handle the exception\n",
    "    # ...\n",
    "    pass\n",
    "\n",
    "# Rest of the code continues here\n",
    "# ...\n"
   ]
  },
  {
   "cell_type": "markdown",
   "metadata": {},
   "source": [
    "In Python, the try block contains the code that might raise an exception. If an exception of type SomeExceptionType (e.g., ValueError, ZeroDivisionError, etc.) occurs during the execution of the try block, the program immediately jumps to the corresponding except block. The as e part allows you to capture the exception object so you can access its details if needed. After executing the except block (or if no exception occurred), the program continues its execution after the try-except construct.\n",
    "\n"
   ]
  },
  {
   "cell_type": "markdown",
   "metadata": {},
   "source": [
    "#### 3. What happens if an exception occurs inside a try block and there is no matching except block?"
   ]
  },
  {
   "cell_type": "markdown",
   "metadata": {},
   "source": [
    "If an exception occurs inside a \"try\" block, and there is no matching \"except\" block to handle that specific type of exception, the program will terminate with an unhandled exception error. This means that the exception will propagate up the call stack until it either finds a suitable \"catch\" block to handle it or reaches the top level of the program, where it will cause the program to terminate."
   ]
  },
  {
   "cell_type": "code",
   "execution_count": 3,
   "metadata": {},
   "outputs": [
    {
     "ename": "SyntaxError",
     "evalue": "invalid syntax (<ipython-input-3-4adfd3ee2a4d>, line 10)",
     "output_type": "error",
     "traceback": [
      "\u001b[0;36m  File \u001b[0;32m\"<ipython-input-3-4adfd3ee2a4d>\"\u001b[0;36m, line \u001b[0;32m10\u001b[0m\n\u001b[0;31m    print(\"Program execution continues...\")\u001b[0m\n\u001b[0m        ^\u001b[0m\n\u001b[0;31mSyntaxError\u001b[0m\u001b[0;31m:\u001b[0m invalid syntax\n"
     ]
    }
   ],
   "source": [
    "try:\n",
    "    num = int(input(\"Enter a number: \"))\n",
    "    result = 10 / num\n",
    "    print(\"Result:\", result)\n",
    "\n",
    "# No \"except\" block to handle potential ValueError\n",
    "# except ZeroDivisionError:\n",
    "#     print(\"Error: Cannot divide by zero.\")\n",
    "\n",
    "print(\"Program execution continues...\")\n"
   ]
  },
  {
   "cell_type": "markdown",
   "metadata": {},
   "source": [
    "In this example, if the user enters  a non-numeric value or \"0\" as input, it will raise a ValueError or ZeroDivisionError, respectively. However, since there's no corresponding \"except\" block to handle these exceptions, the program will terminate with an unhandled exception error when one of these exceptions occurs."
   ]
  },
  {
   "cell_type": "markdown",
   "metadata": {},
   "source": [
    "#### 4. What is the difference between using a bare except block and specifying a specific exception type?"
   ]
  },
  {
   "cell_type": "markdown",
   "metadata": {},
   "source": [
    "1. Bare \"except\" block:\n",
    "\n",
    "A bare \"except\" block is used when you don't specify any particular exception type to catch. It is sometimes also referred to as a \"catch-all\" or \"generic\" exception handler. The syntax for a bare \"except\" block varies depending on the programming language, but in Python, it is denoted by using just the keyword \"except\" without specifying any exception type.\n",
    "\n",
    "A bare \"except\" block catches all exceptions that occur within the \"try\" block, regardless of the type. This can lead to unintended consequences, as it makes it difficult to determine the specific cause of the exception and handle different exceptions differently. It may hide errors and make it challenging to debug issues in the code.\n",
    "\n",
    "Here's an example in Python using a bare \"except\" block:"
   ]
  },
  {
   "cell_type": "code",
   "execution_count": 4,
   "metadata": {},
   "outputs": [],
   "source": [
    "try:\n",
    "    # Some code that may raise exceptions\n",
    "    # ...\n",
    "    pass\n",
    "\n",
    "except:\n",
    "    # This is a bare \"except\" block (catch-all)\n",
    "    # It catches all types of exceptions\n",
    "    # ...\n",
    "    pass\n",
    "\n",
    "# Rest of the code continues here\n",
    "# ...\n"
   ]
  },
  {
   "cell_type": "markdown",
   "metadata": {},
   "source": [
    "2. Specifying a specific exception type:\n",
    "\n",
    "In contrast, specifying a specific exception type in the \"except\" block allows you to handle only the exceptions of that particular type. This provides more control and clarity in exception handling because you can tailor your response based on the specific errors that might occur.\n",
    "\n",
    "By specifying the exception type, you can avoid catching and suppressing exceptions that you don't intend to handle, which is particularly important for maintaining the stability and reliability of your code.\n",
    "\n",
    "Here's an example in Python using specific exception types:"
   ]
  },
  {
   "cell_type": "code",
   "execution_count": 5,
   "metadata": {},
   "outputs": [],
   "source": [
    "try:\n",
    "    # Some code that may raise exceptions\n",
    "    # ...\n",
    "    pass\n",
    "\n",
    "except ValueError:\n",
    "    # Handling the specific ValueError exception\n",
    "    # ...\n",
    "    pass\n",
    "\n",
    "except ZeroDivisionError:\n",
    "    # Handling the specific ZeroDivisionError exception\n",
    "    # ...\n",
    "    pass\n",
    "\n",
    "# Rest of the code continues here\n",
    "# ...\n"
   ]
  },
  {
   "cell_type": "markdown",
   "metadata": {},
   "source": [
    "#### 5. Can you have nested try-except blocks in Python? If yes, then give an example."
   ]
  },
  {
   "cell_type": "markdown",
   "metadata": {},
   "source": [
    "#### Solution 1\n",
    "\n",
    "Yes, you can have nested \"try-except\" blocks in Python. This means you can place one \"try-except\" block inside another, allowing you to handle exceptions at different levels of granularity and provide more specific error handling based on the context.\n",
    "\n",
    "Here's an example of nested \"try-except\" blocks in Python:"
   ]
  },
  {
   "cell_type": "code",
   "execution_count": 7,
   "metadata": {},
   "outputs": [
    {
     "name": "stdout",
     "output_type": "stream",
     "text": [
      "Enter the first number: 8\n",
      "Enter the second number: 6\n",
      "Result of division: 1.3333333333333333\n",
      "Program execution continues...\n"
     ]
    }
   ],
   "source": [
    "def divide_numbers(a, b):\n",
    "    try:\n",
    "        result = a / b\n",
    "        print(\"Result of division:\", result)\n",
    "\n",
    "    except ZeroDivisionError:\n",
    "        print(\"Error: Cannot divide by zero.\")\n",
    "\n",
    "try:\n",
    "    num1 = int(input(\"Enter the first number: \"))\n",
    "    num2 = int(input(\"Enter the second number: \"))\n",
    "\n",
    "    try:\n",
    "        divide_numbers(num1, num2)\n",
    "\n",
    "    except ValueError:\n",
    "        print(\"Error: Please enter valid integers for division.\")\n",
    "\n",
    "except Exception as e:\n",
    "    # This is a catch-all for any other unhandled exceptions\n",
    "    print(f\"Unhandled Exception: {type(e).__name__}\")\n",
    "\n",
    "print(\"Program execution continues...\")\n"
   ]
  },
  {
   "cell_type": "markdown",
   "metadata": {},
   "source": [
    "\n",
    "In this example, we have a function called divide_numbers(a, b) that takes two arguments and performs division. The outer \"try-except\" block handles any exceptions that may occur in the main part of the program. Inside the main \"try\" block, we call the divide_numbers() function within a nested \"try-except\" block.\n",
    "\n",
    "- If the user enters invalid inputs for the num1 or num2, the inner \"except\" block catches the ValueError and prints an appropriate error message.\n",
    "- If the user enters 0 as the second number for division, the inner \"except\" block catches the ZeroDivisionError and handles it accordingly.\n",
    "- Any other unhandled exceptions within the inner \"try\" block will be caught by the outer \"except\" block, which provides a catch-all for any unforeseen exceptions.\n",
    "\n",
    "Having nested \"try-except\" blocks allows you to handle exceptions more specifically and provides a hierarchical approach to error handling, making it easier to manage different exceptional situations in your Python code."
   ]
  },
  {
   "cell_type": "markdown",
   "metadata": {},
   "source": [
    "#### Solution 2\n",
    "Yes, you can have nested \"try-except\" blocks in Python. This means you can place one \"try-except\" construct inside another. The inner \"try-except\" block is scoped to the outer \"try\" block, and if an exception occurs within the inner block, the program will search for a matching \"except\" block within that inner block. If not found, it will propagate to the outer \"try-except\" construct for handling.\n",
    "\n",
    "Here's an example of nested \"try-except\" blocks in Python:"
   ]
  },
  {
   "cell_type": "code",
   "execution_count": 8,
   "metadata": {},
   "outputs": [
    {
     "name": "stdout",
     "output_type": "stream",
     "text": [
      "Enter the first number: 86\n",
      "Enter the second number: 2\n",
      "Result: 43.0\n",
      "Division operation completed.\n"
     ]
    }
   ],
   "source": [
    "def division_operation():\n",
    "    try:\n",
    "        num1 = int(input(\"Enter the first number: \"))\n",
    "        num2 = int(input(\"Enter the second number: \"))\n",
    "\n",
    "        try:\n",
    "            result = num1 / num2\n",
    "            print(\"Result:\", result)\n",
    "\n",
    "        except ZeroDivisionError:\n",
    "            print(\"Error: Cannot divide by zero in the inner block.\")\n",
    "\n",
    "    except ValueError:\n",
    "        print(\"Error: Please enter valid integers in the outer block.\")\n",
    "\n",
    "    print(\"Division operation completed.\")\n",
    "\n",
    "\n",
    "def main():\n",
    "    try:\n",
    "        division_operation()\n",
    "\n",
    "    except Exception as e:\n",
    "        print(f\"Unhandled Exception in the main block: {type(e).__name__}\")\n",
    "\n",
    "\n",
    "if __name__ == \"__main__\":\n",
    "    main()\n"
   ]
  },
  {
   "cell_type": "markdown",
   "metadata": {},
   "source": [
    "In this example, the function division_operation() contains an outer \"try-except\" block and an inner \"try-except\" block. The outer block catches ValueError exceptions if the user enters invalid input when calling the function. The inner block catches ZeroDivisionError exceptions that may occur during the division operation inside the division_operation() function.\n",
    "\n",
    "If the user enters invalid inputs (e.g., non-numeric values), the ValueError will be caught in the outer \"except\" block. If the user enters 0 as the second number, causing a division by zero error, the ZeroDivisionError will be caught in the inner \"except\" block.\n",
    "\n",
    "If any other unhandled exception occurs within the division_operation() function or during its call in the main() function, the outermost \"except\" block in the main() function will catch it.\n",
    "\n",
    "Using nested \"try-except\" blocks can be helpful in situations where you want to handle exceptions at different levels of the program and take specific actions based on the context in which the exception occurs. However, it's essential to use them judiciously, as excessive nesting can make code harder to read and understand."
   ]
  },
  {
   "cell_type": "markdown",
   "metadata": {},
   "source": [
    "#### 6. Can we use multiple exception blocks, if yes then give an example."
   ]
  },
  {
   "cell_type": "markdown",
   "metadata": {},
   "source": [
    "Yes, you can use multiple \"except\" blocks to handle different types of exceptions in a \"try-except\" construct. This allows you to respond differently to various exceptional situations based on the specific types of exceptions that might occur. Each \"except\" block is responsible for handling a particular type of exception.\n",
    "\n",
    "Here's an example in Python demonstrating the use of multiple \"except\" blocks:"
   ]
  },
  {
   "cell_type": "code",
   "execution_count": 6,
   "metadata": {},
   "outputs": [
    {
     "name": "stdout",
     "output_type": "stream",
     "text": [
      "Enter the first number: 4\n",
      "Enter the second number: 7\n",
      "Result: 0.5714285714285714\n",
      "Program execution continues...\n"
     ]
    }
   ],
   "source": [
    "try:\n",
    "    num1 = int(input(\"Enter the first number: \"))\n",
    "    num2 = int(input(\"Enter the second number: \"))\n",
    "    result = num1 / num2\n",
    "    print(\"Result:\", result)\n",
    "\n",
    "except ValueError:\n",
    "    # Handling the exception when the inputs are not integers\n",
    "    print(\"Error: Please enter valid integers.\")\n",
    "\n",
    "except ZeroDivisionError:\n",
    "    # Handling the exception when dividing by zero\n",
    "    print(\"Error: Cannot divide by zero.\")\n",
    "\n",
    "except Exception as e:\n",
    "    # Handling any other unanticipated exceptions\n",
    "    # This block will catch any exception not caught by the previous blocks\n",
    "    print(\"An unexpected error occurred:\", e)\n",
    "\n",
    "print(\"Program execution continues...\")\n"
   ]
  },
  {
   "cell_type": "markdown",
   "metadata": {},
   "source": [
    "In this example, we have three \"except\" blocks:\n",
    "\n",
    "1. The first \"except\" block handles the ValueError that occurs if the user enters a non-numeric value for either of the inputs.\n",
    "2. The second \"except\" block handles the ZeroDivisionError that occurs when the user attempts to divide by zero.\n",
    "3. The third \"except\" block is a catch-all block that handles any other unanticipated exceptions. It is a good practice to include a catch-all block to capture unexpected errors and avoid program termination due to unhandled exceptions."
   ]
  },
  {
   "cell_type": "markdown",
   "metadata": {},
   "source": [
    "#### 7. Write the reason due to which following errors are raised:\n",
    "#### a. EOFError\n",
    "#### b. FloatingPointError\n",
    "#### c. IndexError\n",
    "#### d. MemoryError\n",
    "#### e. OverflowError\n",
    "#### f. TabError\n",
    "#### g. ValueError"
   ]
  },
  {
   "cell_type": "markdown",
   "metadata": {},
   "source": [
    "a) EOFError: This error is raised when an input function (like input() in Python) reaches the end-of-file (EOF) condition, but it expects more data to be present. It commonly occurs when reading input from a file or when the user unexpectedly terminates the input (e.g., pressing Ctrl+D or Ctrl+Z to signal EOF during input).\n",
    "\n",
    "b) FloatingPointError: This error occurs when a floating-point operation (e.g., division by zero or an invalid mathematical operation) results in an undefined or unrepresentable value. In most cases, this error arises from invalid calculations with floating-point numbers.\n",
    "\n",
    "c) IndexError: This error is raised when you try to access an index of a sequence (e.g., list, tuple, string) that is out of range, meaning the index does not exist in the sequence. It commonly occurs when you try to access a negative index or an index greater than or equal to the length of the sequence.\n",
    "\n",
    "d) MemoryError: This error is raised when the program runs out of available memory (RAM) while trying to allocate memory for an object or operation. It indicates that the system does not have enough memory to handle the request.\n",
    "\n",
    "e) OverflowError: This error occurs when an arithmetic operation results in a value that exceeds the range of representable values for a numeric type (e.g., integer or floating-point). It typically happens with very large or very small numbers that cannot be represented accurately.\n",
    "\n",
    "f) TabError: This error is raised when there is an issue with the indentation of code using tabs and spaces inconsistently. Python is sensitive to indentation, and mixing tabs and spaces in an indented block can lead to this error.\n",
    "\n",
    "g) ValueError: This error is raised when a function receives an argument of the correct data type but an inappropriate value. It occurs when a function is unable to parse or convert the input to a valid value.\n",
    "\n",
    "Remember that handling these errors appropriately using \"try-except\" blocks or similar exception handling mechanisms is crucial to ensure that your program can gracefully recover from exceptional situations and provide meaningful error messages to users or log the errors for debugging purposes.\n",
    "\n"
   ]
  },
  {
   "cell_type": "markdown",
   "metadata": {},
   "source": [
    "#### 8. Write code for the following given scenario and add try-exception block to it.\n",
    "#### a. Program to divide two numbers\n",
    "#### b. Program to convert a string to an integer\n",
    "#### c. Program to access an element in a list\n",
    "#### d. Program to handle a specific exception\n",
    "#### e. Program to handle any exception"
   ]
  },
  {
   "cell_type": "markdown",
   "metadata": {},
   "source": [
    "a) Program to divide two numbers:"
   ]
  },
  {
   "cell_type": "code",
   "execution_count": 9,
   "metadata": {},
   "outputs": [
    {
     "name": "stdout",
     "output_type": "stream",
     "text": [
      "Enter the first number: 2\n",
      "Enter the second number: 4\n",
      "Result: 0.5\n"
     ]
    }
   ],
   "source": [
    "def divide_numbers():\n",
    "    try:\n",
    "        num1 = int(input(\"Enter the first number: \"))\n",
    "        num2 = int(input(\"Enter the second number: \"))\n",
    "        result = num1 / num2\n",
    "        print(\"Result:\", result)\n",
    "\n",
    "    except ZeroDivisionError:\n",
    "        print(\"Error: Cannot divide by zero.\")\n",
    "\n",
    "    except ValueError:\n",
    "        print(\"Error: Please enter valid integers.\")\n",
    "\n",
    "divide_numbers()\n"
   ]
  },
  {
   "cell_type": "markdown",
   "metadata": {},
   "source": [
    "b) Program to convert a string to an integer:"
   ]
  },
  {
   "cell_type": "code",
   "execution_count": 10,
   "metadata": {},
   "outputs": [
    {
     "name": "stdout",
     "output_type": "stream",
     "text": [
      "Enter a number: Paul\n",
      "Error: Please enter a valid integer.\n"
     ]
    }
   ],
   "source": [
    "def convert_to_integer():\n",
    "    try:\n",
    "        num_str = input(\"Enter a number: \")\n",
    "        num = int(num_str)\n",
    "        print(\"Converted integer:\", num)\n",
    "\n",
    "    except ValueError:\n",
    "        print(\"Error: Please enter a valid integer.\")\n",
    "\n",
    "convert_to_integer()\n"
   ]
  },
  {
   "cell_type": "markdown",
   "metadata": {},
   "source": [
    "c) Program to access an element in a list:"
   ]
  },
  {
   "cell_type": "code",
   "execution_count": 11,
   "metadata": {},
   "outputs": [
    {
     "name": "stdout",
     "output_type": "stream",
     "text": [
      "Enter the index of the element to access: 7\n",
      "Error: Index out of range.\n"
     ]
    }
   ],
   "source": [
    "def access_list_element():\n",
    "    try:\n",
    "        my_list = [1, 2, 3, 4, 5]\n",
    "        index = int(input(\"Enter the index of the element to access: \"))\n",
    "        element = my_list[index]\n",
    "        print(\"Element at index\", index, \":\", element)\n",
    "\n",
    "    except IndexError:\n",
    "        print(\"Error: Index out of range.\")\n",
    "\n",
    "    except ValueError:\n",
    "        print(\"Error: Please enter a valid integer index.\")\n",
    "\n",
    "access_list_element()\n"
   ]
  },
  {
   "cell_type": "markdown",
   "metadata": {},
   "source": [
    "d) Program to handle a specific exception:"
   ]
  },
  {
   "cell_type": "code",
   "execution_count": 12,
   "metadata": {},
   "outputs": [
    {
     "name": "stdout",
     "output_type": "stream",
     "text": [
      "Enter the first number: 56\n",
      "Enter the second number: 34\n",
      "Result: 1.6470588235294117\n"
     ]
    }
   ],
   "source": [
    "def handle_specific_exception():\n",
    "    try:\n",
    "        num1 = int(input(\"Enter the first number: \"))\n",
    "        num2 = int(input(\"Enter the second number: \"))\n",
    "\n",
    "        if num2 == 0:\n",
    "            raise ValueError(\"Error: Second number cannot be zero.\")\n",
    "\n",
    "        result = num1 / num2\n",
    "        print(\"Result:\", result)\n",
    "\n",
    "    except ValueError as ve:\n",
    "        print(ve)\n",
    "\n",
    "    except ZeroDivisionError:\n",
    "        print(\"Error: Cannot divide by zero.\")\n",
    "\n",
    "handle_specific_exception()\n"
   ]
  },
  {
   "cell_type": "markdown",
   "metadata": {},
   "source": [
    "e) Program to handle any exception:"
   ]
  },
  {
   "cell_type": "code",
   "execution_count": 17,
   "metadata": {},
   "outputs": [
    {
     "name": "stdout",
     "output_type": "stream",
     "text": [
      "Enter the first number: 5\n",
      "Enter the second number: 2.7\n",
      "An unexpected error occurred: ValueError\n"
     ]
    }
   ],
   "source": [
    "def handle_any_exception():\n",
    "    try:\n",
    "        num1 = int(input(\"Enter the first number: \"))\n",
    "        num2 = int(input(\"Enter the second number: \"))\n",
    "        result = num1 / num2\n",
    "        print(\"Result:\", result)\n",
    "\n",
    "    except Exception as e:\n",
    "        print(f\"An unexpected error occurred: {type(e).__name__}\")\n",
    "\n",
    "handle_any_exception()\n"
   ]
  },
  {
   "cell_type": "code",
   "execution_count": null,
   "metadata": {},
   "outputs": [],
   "source": []
  }
 ],
 "metadata": {
  "kernelspec": {
   "display_name": "Python 3 (ipykernel)",
   "language": "python",
   "name": "python3"
  },
  "language_info": {
   "codemirror_mode": {
    "name": "ipython",
    "version": 3
   },
   "file_extension": ".py",
   "mimetype": "text/x-python",
   "name": "python",
   "nbconvert_exporter": "python",
   "pygments_lexer": "ipython3",
   "version": "3.11.4"
  }
 },
 "nbformat": 4,
 "nbformat_minor": 2
}
