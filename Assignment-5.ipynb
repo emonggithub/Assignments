{
 "cells": [
  {
   "cell_type": "markdown",
   "metadata": {},
   "source": [
    "#### 1. What does an empty dictionary's code look like?"
   ]
  },
  {
   "cell_type": "markdown",
   "metadata": {},
   "source": [
    "An empty dictionary in Python is represented by a pair of curly braces {} with no key-value pairs inside. It looks like this:"
   ]
  },
  {
   "cell_type": "code",
   "execution_count": 1,
   "metadata": {},
   "outputs": [],
   "source": [
    "empty_dict = {}\n"
   ]
  },
  {
   "cell_type": "markdown",
   "metadata": {},
   "source": [
    "#### 2. What is the value of a dictionary value with the key 'foo' and the value 42?"
   ]
  },
  {
   "cell_type": "code",
   "execution_count": 6,
   "metadata": {},
   "outputs": [
    {
     "name": "stdout",
     "output_type": "stream",
     "text": [
      "42\n"
     ]
    }
   ],
   "source": [
    "my_dict = {'foo': 42, 'bar': 100, 'baz': 'hello'} # Creating the dictionary called my_dict\n",
    "\n",
    "value_of_foo = my_dict['foo'] # To access the value associated with the key 'foo', you can use the key inside square brackets:\n",
    "print(value_of_foo)  # Output: 42\n"
   ]
  },
  {
   "cell_type": "markdown",
   "metadata": {},
   "source": [
    "#### 3. What is the most significant distinction between a dictionary and a list?"
   ]
  },
  {
   "cell_type": "markdown",
   "metadata": {},
   "source": [
    "The most significant distinction between a dictionary and a list in Python is the way they store and access data.\n",
    "\n",
    "1. Data Organization:\n",
    "\n",
    "List: A list is an ordered collection of elements, and each element in the list is identified by its index. Lists maintain the order of elements as they are inserted.\n",
    "Dictionary: A dictionary is an unordered collection of key-value pairs. Each element in the dictionary is identified by a unique key, and the elements are not stored in any specific order.\n",
    "\n",
    "2. Accessing Elements:\n",
    "\n",
    "List: To access elements in a list, you use integer indices. The first element is accessed with index 0, the second with index 1, and so on. Lists are accessed by their position in the list.\n",
    "Dictionary: To access elements in a dictionary, you use keys instead of indices. Each key is associated with a value, and you use the key to retrieve its corresponding value. Dictionaries are accessed by their keys.\n",
    "\n",
    "3. Mutability:\n",
    "\n",
    "List: Lists are mutable, meaning you can modify their elements after the list is created. You can change, add, or remove elements from a list.\n",
    "Dictionary: Dictionaries are also mutable. You can modify the values associated with existing keys or add new key-value pairs to the dictionary.\n",
    "\n",
    "4. Duplicates:\n",
    "\n",
    "List: Lists can contain duplicate elements. You can have multiple elements with the same value in a list.\n",
    "Dictionary: Dictionary keys must be unique. Each key can only appear once in the dictionary, but the values can be duplicated."
   ]
  },
  {
   "cell_type": "markdown",
   "metadata": {},
   "source": [
    "Example of a List:"
   ]
  },
  {
   "cell_type": "code",
   "execution_count": 4,
   "metadata": {},
   "outputs": [
    {
     "name": "stdout",
     "output_type": "stream",
     "text": [
      "20\n"
     ]
    }
   ],
   "source": [
    "my_list = [10, 20, 30, 40]\n",
    "print(my_list[1]) # Output: 20"
   ]
  },
  {
   "cell_type": "markdown",
   "metadata": {},
   "source": [
    "Example of a Dictionary:"
   ]
  },
  {
   "cell_type": "code",
   "execution_count": 5,
   "metadata": {},
   "outputs": [
    {
     "name": "stdout",
     "output_type": "stream",
     "text": [
      "John\n"
     ]
    }
   ],
   "source": [
    "my_dict = {'name': 'John', 'age': 30, 'city': 'New York'}\n",
    "print(my_dict['name'])  # Output: 'John'"
   ]
  },
  {
   "cell_type": "markdown",
   "metadata": {},
   "source": [
    "In summary, lists are ordered collections of elements accessed by indices, while dictionaries are unordered collections of key-value pairs accessed by unique keys. The choice between using a list or a dictionary depends on the specific data structure and the type of data you want to store and access in your program."
   ]
  },
  {
   "cell_type": "markdown",
   "metadata": {},
   "source": [
    "#### 4. What happens if you try to access spam['foo'] if spam is {'bar': 100}?"
   ]
  },
  {
   "cell_type": "markdown",
   "metadata": {},
   "source": [
    "If you try to access spam['foo'] and spam is {'bar': 100}, it will raise a KeyError because the key 'foo' does not exist in the dictionary spam.\n",
    "\n",
    "In Python, when you try to access a dictionary element using a key that does not exist in the dictionary, it raises a KeyError to indicate that the key is not found. This error is raised because dictionaries use keys to access their values, and attempting to access a non-existent key will result in an error.\n",
    "\n",
    "Example:"
   ]
  },
  {
   "cell_type": "code",
   "execution_count": 7,
   "metadata": {},
   "outputs": [
    {
     "ename": "KeyError",
     "evalue": "'foo'",
     "output_type": "error",
     "traceback": [
      "\u001b[0;31m---------------------------------------------------------------------------\u001b[0m",
      "\u001b[0;31mKeyError\u001b[0m                                  Traceback (most recent call last)",
      "\u001b[0;32m<ipython-input-7-d3dcc2720c38>\u001b[0m in \u001b[0;36m<module>\u001b[0;34m()\u001b[0m\n\u001b[1;32m      1\u001b[0m \u001b[0mspam\u001b[0m \u001b[0;34m=\u001b[0m \u001b[0;34m{\u001b[0m\u001b[0;34m'bar'\u001b[0m\u001b[0;34m:\u001b[0m \u001b[0;36m100\u001b[0m\u001b[0;34m}\u001b[0m\u001b[0;34m\u001b[0m\u001b[0m\n\u001b[0;32m----> 2\u001b[0;31m \u001b[0mprint\u001b[0m\u001b[0;34m(\u001b[0m\u001b[0mspam\u001b[0m\u001b[0;34m[\u001b[0m\u001b[0;34m'foo'\u001b[0m\u001b[0;34m]\u001b[0m\u001b[0;34m)\u001b[0m  \u001b[0;31m# Raises KeyError: 'foo' is not a key in the dictionary\u001b[0m\u001b[0;34m\u001b[0m\u001b[0m\n\u001b[0m",
      "\u001b[0;31mKeyError\u001b[0m: 'foo'"
     ]
    }
   ],
   "source": [
    "spam = {'bar': 100}\n",
    "print(spam['foo'])  # Raises KeyError: 'foo' is not a key in the dictionary\n"
   ]
  },
  {
   "cell_type": "markdown",
   "metadata": {},
   "source": [
    "#### 5. If a dictionary is stored in spam, what is the difference between the expressions 'cat' in spam and 'cat' in spam.keys()?"
   ]
  },
  {
   "cell_type": "markdown",
   "metadata": {},
   "source": [
    "1. 'cat' in spam:\n",
    "    \n",
    "This expression checks whether the key 'cat' exists in the dictionary spam. It returns a boolean value (True or False) indicating whether the key is present in the dictionary. It checks for the key in the dictionary's keys, not in the values.\n",
    "\n",
    "Example:"
   ]
  },
  {
   "cell_type": "code",
   "execution_count": 8,
   "metadata": {},
   "outputs": [
    {
     "name": "stdout",
     "output_type": "stream",
     "text": [
      "True\n"
     ]
    }
   ],
   "source": [
    "spam = {'cat': 1, 'dog': 2, 'bird': 3}\n",
    "\n",
    "# Check if the key 'cat' exists in the dictionary 'spam'\n",
    "print('cat' in spam)  # Output: True"
   ]
  },
  {
   "cell_type": "markdown",
   "metadata": {},
   "source": [
    "2. 'cat' in spam.keys():\n",
    "    \n",
    "This expression also checks whether the key 'cat' exists in the dictionary spam, but it does so by explicitly accessing the dictionary's keys using the keys() method. It returns a boolean value (True or False) indicating whether the key is present in the dictionary.\n",
    "\n",
    "Example:"
   ]
  },
  {
   "cell_type": "code",
   "execution_count": 9,
   "metadata": {},
   "outputs": [
    {
     "name": "stdout",
     "output_type": "stream",
     "text": [
      "True\n"
     ]
    }
   ],
   "source": [
    "spam = {'cat': 1, 'dog': 2, 'bird': 3}\n",
    "\n",
    "# Check if the key 'cat' exists in the dictionary 'spam' using keys() method\n",
    "print('cat' in spam.keys())  # Output: True"
   ]
  },
  {
   "cell_type": "markdown",
   "metadata": {},
   "source": [
    "In both cases, the output will be the same, and the expressions will return True if the key 'cat' is present in the dictionary spam and False otherwise. The in operator is used to check for the presence of a key in the dictionary, and the keys() method provides a way to access the dictionary keys explicitly.\n"
   ]
  },
  {
   "cell_type": "markdown",
   "metadata": {},
   "source": [
    "#### 6. If a dictionary is stored in spam, what is the difference between the expressions 'cat' in spam and 'cat' in spam.values()?"
   ]
  },
  {
   "cell_type": "markdown",
   "metadata": {},
   "source": [
    "1. 'cat' in spam:\n",
    "This expression checks whether the key 'cat' exists in the dictionary spam. It looks for the key in the dictionary's keys, not in the values. It returns a boolean value (True or False) indicating whether the key is present in the dictionary.\n",
    "\n",
    "Example:"
   ]
  },
  {
   "cell_type": "code",
   "execution_count": 10,
   "metadata": {},
   "outputs": [
    {
     "name": "stdout",
     "output_type": "stream",
     "text": [
      "True\n"
     ]
    }
   ],
   "source": [
    "spam = {'cat': 1, 'dog': 2, 'bird': 3}\n",
    "\n",
    "# Check if the key 'cat' exists in the dictionary 'spam'\n",
    "print('cat' in spam)  # Output: True"
   ]
  },
  {
   "cell_type": "markdown",
   "metadata": {},
   "source": [
    "2. 'cat' in spam.values():\n",
    "    This expression checks whether the value 'cat' exists in the dictionary spam. It looks for the value in the dictionary's values, not in the keys. It returns a boolean value (True or False) indicating whether the value is present in the dictionary.\n",
    "\n",
    "Example:"
   ]
  },
  {
   "cell_type": "code",
   "execution_count": 11,
   "metadata": {},
   "outputs": [
    {
     "name": "stdout",
     "output_type": "stream",
     "text": [
      "True\n"
     ]
    }
   ],
   "source": [
    "spam = {'cat': 1, 'dog': 2, 'bird': 3}\n",
    "\n",
    "# Check if the value 1 exists in the dictionary 'spam' using values() method\n",
    "print(1 in spam.values())  # Output: True"
   ]
  },
  {
   "cell_type": "markdown",
   "metadata": {},
   "source": [
    "#### 7. What is a shortcut for the following code?\n",
    "if 'color' not in spam:\n",
    "\n",
    "spam['color'] = 'black'"
   ]
  },
  {
   "cell_type": "code",
   "execution_count": 12,
   "metadata": {},
   "outputs": [
    {
     "data": {
      "text/plain": [
       "'black'"
      ]
     },
     "execution_count": 12,
     "metadata": {},
     "output_type": "execute_result"
    }
   ],
   "source": [
    "spam.setdefault('color', 'black')\n"
   ]
  },
  {
   "cell_type": "markdown",
   "metadata": {},
   "source": [
    "#### 8. How do you \"pretty print\" dictionary values using which module and function?\n"
   ]
  },
  {
   "cell_type": "markdown",
   "metadata": {},
   "source": [
    "To \"pretty print\" dictionary values in Python, you can use the pprint module, which stands for \"pretty print.\" The pprint module provides a function called pprint() that formats and displays the dictionary in a more readable and organized manner.\n",
    "\n",
    "Here's how you can use the pprint module to pretty print a dictionary:"
   ]
  },
  {
   "cell_type": "code",
   "execution_count": 13,
   "metadata": {},
   "outputs": [
    {
     "name": "stdout",
     "output_type": "stream",
     "text": [
      "{'age': 30, 'city': 'New York', 'name': 'John'}\n"
     ]
    }
   ],
   "source": [
    "import pprint\n",
    "\n",
    "my_dict = {'name': 'John', 'age': 30, 'city': 'New York'}\n",
    "\n",
    "# Using pprint to pretty print the dictionary\n",
    "pprint.pprint(my_dict)\n"
   ]
  },
  {
   "cell_type": "code",
   "execution_count": null,
   "metadata": {},
   "outputs": [],
   "source": []
  }
 ],
 "metadata": {
  "kernelspec": {
   "display_name": "Python 3",
   "language": "python",
   "name": "python3"
  },
  "language_info": {
   "codemirror_mode": {
    "name": "ipython",
    "version": 3
   },
   "file_extension": ".py",
   "mimetype": "text/x-python",
   "name": "python",
   "nbconvert_exporter": "python",
   "pygments_lexer": "ipython3",
   "version": "3.7.0"
  }
 },
 "nbformat": 4,
 "nbformat_minor": 2
}
