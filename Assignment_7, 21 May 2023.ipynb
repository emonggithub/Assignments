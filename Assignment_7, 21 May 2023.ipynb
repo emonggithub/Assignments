{
 "cells": [
  {
   "cell_type": "markdown",
   "metadata": {},
   "source": [
    "#### Q.1. Create two integer type variables, apply addition, subtraction, division and multiplication and store the results in variables. Then print the data in the following format by calling the variables:\n",
    "\n",
    "First variable is __ & second variable is __.\n",
    "\n",
    "Addition: __ + __ = __\n",
    "\n",
    "Subtraction: __ - __ = __\n",
    "\n",
    "Multiplication: __ * __ = __\n",
    "\n",
    "Division: __ / __ = __"
   ]
  },
  {
   "cell_type": "code",
   "execution_count": 1,
   "metadata": {},
   "outputs": [
    {
     "name": "stdout",
     "output_type": "stream",
     "text": [
      "First variable is 10 & second variable is 5\n",
      "\n",
      "Addition: 10 + 5 = 15\n",
      "Subtraction: 10 - 5 = 5\n",
      "Multiplication: 10 * 5 = 50\n",
      "Division: 10 / 5 = 2.0\n"
     ]
    }
   ],
   "source": [
    "# Create two integer type variables\n",
    "first_variable = 10\n",
    "second_variable = 5\n",
    "\n",
    "# Perform arithmetic operations and store results in variables\n",
    "addition_result = first_variable + second_variable\n",
    "subtraction_result = first_variable - second_variable\n",
    "multiplication_result = first_variable * second_variable\n",
    "division_result = first_variable / second_variable\n",
    "\n",
    "# Print the results in the desired format\n",
    "print(\"First variable is\", first_variable, \"& second variable is\", second_variable)\n",
    "\n",
    "print(\"\\nAddition:\", first_variable, \"+\", second_variable, \"=\", addition_result)\n",
    "print(\"Subtraction:\", first_variable, \"-\", second_variable, \"=\", subtraction_result)\n",
    "print(\"Multiplication:\", first_variable, \"*\", second_variable, \"=\", multiplication_result)\n",
    "print(\"Division:\", first_variable, \"/\", second_variable, \"=\", division_result)\n"
   ]
  },
  {
   "cell_type": "markdown",
   "metadata": {},
   "source": [
    "#### Q.2. What is the difference between the following operators:\n",
    "(i) ‘/’ & ‘//’\n",
    "\n",
    "(ii) ‘**’ & ‘^’"
   ]
  },
  {
   "cell_type": "markdown",
   "metadata": {},
   "source": [
    "#### (i)  ‘/’ & ‘//’:\n",
    "\n",
    "1. / (Division Operator):\n",
    "The / operator is the division operator in Python. It performs normal division between two numbers and returns the result as a floating-point number. For example: 5 / 2 will result in 2.5, because it returns the quotient with decimal points if the division is not exact.\n",
    "\n",
    "2. // (Floor Division Operator):\n",
    "The // operator is the floor division operator in Python. It performs division between two numbers and returns the result as an integer, rounding down to the nearest whole number. For example: 5 // 2 will result in 2, because it returns the integer part of the division result.\n",
    "\n",
    "Example:"
   ]
  },
  {
   "cell_type": "code",
   "execution_count": 4,
   "metadata": {},
   "outputs": [
    {
     "name": "stdout",
     "output_type": "stream",
     "text": [
      "2.5\n",
      "2\n"
     ]
    }
   ],
   "source": [
    "a = 5\n",
    "b = 2\n",
    "result1 = a / b  \n",
    "result2 = a // b \n",
    "\n",
    "print(result1) # Result: 2.5 (floating-point division)\n",
    "print(result2) # Result: 2 (floor division)\n"
   ]
  },
  {
   "cell_type": "markdown",
   "metadata": {},
   "source": [
    "#### (ii) ‘**’ & ‘^’\n",
    "\n",
    "1. ** (Exponentiation Operator):\n",
    "The ** operator is the exponentiation operator in Python. It is used to raise a number to a given power. For example: 2 ** 3 will result in 8, as it calculates 2 raised to the power of 3.\n",
    "\n",
    "2. ^ (Bitwise XOR Operator):\n",
    "The ^ operator is the bitwise XOR operator in Python. It is used for bitwise XOR (exclusive OR) operations between two integers. It performs XOR between the binary representations of the two numbers. For example: 5 ^ 3 will result in 6, as the binary representation of 5 is 101, and the binary representation of 3 is 011, and their XOR is 110, which is equal to 6 in decimal.\n",
    "\n",
    "Example:"
   ]
  },
  {
   "cell_type": "code",
   "execution_count": 6,
   "metadata": {},
   "outputs": [
    {
     "name": "stdout",
     "output_type": "stream",
     "text": [
      "8\n",
      "1\n"
     ]
    }
   ],
   "source": [
    "a = 2\n",
    "b = 3\n",
    "result1 = a ** b \n",
    "result2 = a ^ b   \n",
    "\n",
    "print(result1)  # Result: 8 (2 raised to the power of 3)\n",
    "print(result2)  # Result: 1 (bitwise XOR of 2 and 3)\n",
    "\n"
   ]
  },
  {
   "cell_type": "markdown",
   "metadata": {},
   "source": [
    "#### Q.3. List the logical operators"
   ]
  },
  {
   "cell_type": "markdown",
   "metadata": {},
   "source": [
    "In Python, the logical operators are used to perform logical operations on boolean values (True and False). There are three logical operators in Python:\n",
    "\n",
    "1. and: The and operator returns True if both operands are True, otherwise, it returns False.\n",
    "\n",
    "2. or: The or operator returns True if at least one of the operands is True, otherwise, it returns False.\n",
    "\n",
    "3. not: The not operator returns the opposite of the boolean value. If the operand is True, it returns False, and if the operand is False, it returns True."
   ]
  },
  {
   "cell_type": "code",
   "execution_count": 7,
   "metadata": {},
   "outputs": [],
   "source": [
    "a = True\n",
    "b = False\n",
    "\n",
    "result_and = a and b  # False (Both operands are not True)\n",
    "result_or = a or b    # True (At least one operand is True)\n",
    "result_not_a = not a  # False (Opposite of True is False)\n",
    "result_not_b = not b  # True (Opposite of False is True)\n"
   ]
  },
  {
   "cell_type": "markdown",
   "metadata": {},
   "source": [
    "#### Q.4. Explain right shift operator and left shift operator with examples."
   ]
  },
  {
   "cell_type": "markdown",
   "metadata": {},
   "source": [
    "Right Shift Operator (>>):\n",
    "    \n",
    "The right shift operator (>>) moves the bits of a number to the right by a specified number of positions. It effectively divides the number by 2 raised to the power of the specified shift count. Bits shifted off to the right are discarded, and empty spaces on the left are filled with zeros.\n",
    "\n",
    "Example:"
   ]
  },
  {
   "cell_type": "code",
   "execution_count": 8,
   "metadata": {},
   "outputs": [],
   "source": [
    "num = 12   # Binary representation: 1100\n",
    "\n",
    "# Right shift by 1 position\n",
    "result1 = num >> 1   # Binary representation: 0110, Decimal value: 6\n",
    "\n",
    "# Right shift by 2 positions\n",
    "result2 = num >> 2   # Binary representation: 0011, Decimal value: 3\n"
   ]
  },
  {
   "cell_type": "markdown",
   "metadata": {},
   "source": [
    "Left Shift Operator (<<):\n",
    "\n",
    "The left shift operator (<<) moves the bits of a number to the left by a specified number of positions. It effectively multiplies the number by 2 raised to the power of the specified shift count. Bits shifted off to the left are discarded, and empty spaces on the right are filled with zeros.\n",
    "\n",
    "Example:"
   ]
  },
  {
   "cell_type": "code",
   "execution_count": 9,
   "metadata": {},
   "outputs": [],
   "source": [
    "num = 3   # Binary representation: 0011\n",
    "\n",
    "# Left shift by 1 position\n",
    "result1 = num << 1   # Binary representation: 0110, Decimal value: 6\n",
    "\n",
    "# Left shift by 2 positions\n",
    "result2 = num << 2   # Binary representation: 1100, Decimal value: 12\n"
   ]
  },
  {
   "cell_type": "markdown",
   "metadata": {},
   "source": [
    "#### Q.5. Create a list containing integer type data of length 15. Then write a code to check if 10 is present in the list or not."
   ]
  },
  {
   "cell_type": "code",
   "execution_count": 10,
   "metadata": {},
   "outputs": [
    {
     "name": "stdout",
     "output_type": "stream",
     "text": [
      "10 is present in the list.\n"
     ]
    }
   ],
   "source": [
    "# Create a list containing integer type data of length 15\n",
    "my_list = [5, 2, 7, 3, 10, 15, 8, 9, 12, 18, 6, 4, 1, 11, 14]\n",
    "\n",
    "# Check if 10 is present in the list\n",
    "if 10 in my_list:\n",
    "    print(\"10 is present in the list.\")\n",
    "else:\n",
    "    print(\"10 is not present in the list.\")\n"
   ]
  },
  {
   "cell_type": "code",
   "execution_count": null,
   "metadata": {},
   "outputs": [],
   "source": []
  }
 ],
 "metadata": {
  "kernelspec": {
   "display_name": "Python 3",
   "language": "python",
   "name": "python3"
  },
  "language_info": {
   "codemirror_mode": {
    "name": "ipython",
    "version": 3
   },
   "file_extension": ".py",
   "mimetype": "text/x-python",
   "name": "python",
   "nbconvert_exporter": "python",
   "pygments_lexer": "ipython3",
   "version": "3.7.0"
  }
 },
 "nbformat": 4,
 "nbformat_minor": 2
}
