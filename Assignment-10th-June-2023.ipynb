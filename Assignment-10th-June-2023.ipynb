{
 "cells": [
  {
   "cell_type": "markdown",
   "metadata": {},
   "source": [
    "#### 1. In Python, what is the difference between a built-in function and a user-defined function? Provide an example of each."
   ]
  },
  {
   "cell_type": "markdown",
   "metadata": {},
   "source": [
    "#### Built-in functions:\n",
    "Built-in functions are functions that are pre-defined and readily available in Python. They are part of the Python language itself and are accessible without requiring any additional imports or declarations. These functions serve common purposes and are included in Python's standard library. Examples of built-in functions include print(), len(), type(), range(), and sum()."
   ]
  },
  {
   "cell_type": "markdown",
   "metadata": {},
   "source": [
    "#### Example of a built-in function:"
   ]
  },
  {
   "cell_type": "code",
   "execution_count": 1,
   "metadata": {},
   "outputs": [
    {
     "name": "stdout",
     "output_type": "stream",
     "text": [
      "Hello, world!\n"
     ]
    }
   ],
   "source": [
    "# Using the built-in function print()\n",
    "print(\"Hello, world!\")\n"
   ]
  },
  {
   "cell_type": "markdown",
   "metadata": {},
   "source": [
    "#### User-defined functions:\n",
    "User-defined functions are functions created by the user to perform specific tasks. They are defined using the def keyword followed by a function name, parameters (optional), and a block of code that defines the function's behavior. User-defined functions allow you to modularize your code and encapsulate specific functionality. They need to be explicitly defined by the user before they can be used."
   ]
  },
  {
   "cell_type": "markdown",
   "metadata": {},
   "source": [
    "#### Example of a user-defined function:"
   ]
  },
  {
   "cell_type": "code",
   "execution_count": 2,
   "metadata": {},
   "outputs": [
    {
     "name": "stdout",
     "output_type": "stream",
     "text": [
      "The area of the circle is: 78.5\n",
      "15\n"
     ]
    }
   ],
   "source": [
    "\n",
    "# Defining a user-defined function to calculate the area of a circle\n",
    "def calculate_circle_area(radius):\n",
    "    return 3.14 * radius ** 2\n",
    "\n",
    "# Calling the user-defined function\n",
    "area = calculate_circle_area(5)\n",
    "print(\"The area of the circle is:\", area)\n",
    "\n",
    "\n",
    "def multiply(a, b):\n",
    "    return a * b\n",
    "\n",
    "result = multiply(5, 3)\n",
    "print(result) "
   ]
  },
  {
   "cell_type": "markdown",
   "metadata": {},
   "source": [
    "#### 2. How can you pass arguments to a function in Python? Explain the difference between positional arguments and keyword arguments."
   ]
  },
  {
   "cell_type": "markdown",
   "metadata": {},
   "source": [
    "#### Positional arguments:\n",
    "Positional arguments are passed to a function based on their position or order. The function receives the arguments in the same order as they are passed when calling the function. The number and order of the arguments must match the function's parameter list. Positional arguments are the default way of passing arguments in Python.\n",
    "\n",
    "Here's an example of a function called add that takes two positional arguments and returns their sum:"
   ]
  },
  {
   "cell_type": "code",
   "execution_count": 3,
   "metadata": {},
   "outputs": [
    {
     "name": "stdout",
     "output_type": "stream",
     "text": [
      "8\n"
     ]
    }
   ],
   "source": [
    "def add(a, b):\n",
    "    return a + b\n",
    "\n",
    "result = add(3, 5)\n",
    "print(result)  \n"
   ]
  },
  {
   "cell_type": "markdown",
   "metadata": {},
   "source": [
    "#### Keyword arguments:\n",
    "Keyword arguments are passed to a function using the name of the parameter along with the corresponding value. This allows you to specify the arguments in any order, regardless of their position in the function's parameter list. Keyword arguments are useful when a function has many parameters or when you want to make the code more readable by explicitly specifying the arguments.\n",
    "\n",
    "Here's an example of a function called greet that takes two keyword arguments and prints a greeting message:"
   ]
  },
  {
   "cell_type": "code",
   "execution_count": 4,
   "metadata": {},
   "outputs": [
    {
     "name": "stdout",
     "output_type": "stream",
     "text": [
      "Hello, Alice! How are you?\n"
     ]
    }
   ],
   "source": [
    "def greet(name, message):\n",
    "    print(f\"Hello, {name}! {message}\")\n",
    "\n",
    "greet(name=\"Alice\", message=\"How are you?\")\n",
    "\n",
    "# In this example, we explicitly mention the parameter names name= and message= when calling the greet function, \n",
    "# which allows us to pass the arguments in any order."
   ]
  },
  {
   "cell_type": "code",
   "execution_count": 5,
   "metadata": {},
   "outputs": [
    {
     "name": "stdout",
     "output_type": "stream",
     "text": [
      "8\n"
     ]
    }
   ],
   "source": [
    "def power(base, exponent):\n",
    "    return base ** exponent\n",
    "\n",
    "result = power(base=2, exponent=3)\n",
    "print(result)  \n"
   ]
  },
  {
   "cell_type": "code",
   "execution_count": 6,
   "metadata": {},
   "outputs": [
    {
     "name": "stdout",
     "output_type": "stream",
     "text": [
      "Hello Alice\n",
      "Hi Bob\n",
      "Hi Charlie\n"
     ]
    }
   ],
   "source": [
    "def greet(name, message=\"Hello\"):\n",
    "    print(message, name)\n",
    "\n",
    "greet(\"Alice\")                     \n",
    "greet(\"Bob\", message=\"Hi\")         \n",
    "greet(name=\"Charlie\", message=\"Hi\")  \n"
   ]
  },
  {
   "cell_type": "markdown",
   "metadata": {},
   "source": [
    "#### NOTE: In the greet() function, the message parameter has a default value of \"Hello\". If no value is explicitly passed for message, it takes the default value. However, if a value is passed for message, it overrides the default value.\n",
    "\n",
    "Both positional arguments and keyword arguments can be used together in a function call. Positional arguments are specified first, followed by keyword arguments.\n",
    "\n",
    "It's important to note that when defining a function, positional arguments must come before keyword arguments. This is because positional arguments are assigned based on their position, while keyword arguments can be assigned based on their names.\n",
    "\n"
   ]
  },
  {
   "cell_type": "markdown",
   "metadata": {},
   "source": [
    "#### 3. What is the purpose of the return statement in a function? Can a function have multiple return statements? Explain with an example."
   ]
  },
  {
   "cell_type": "markdown",
   "metadata": {},
   "source": [
    "#### The return statement in a function is used to specify the value that the function should output or return. When a return statement is encountered in a function, it immediately ends the function execution and returns the specified value back to the caller."
   ]
  },
  {
   "cell_type": "markdown",
   "metadata": {},
   "source": [
    "#### A function can indeed have multiple return statements. However, only one return statement is executed during the function's execution, and it determines the value that is returned. Once a return statement is encountered, the function immediately exits, and no further statements are executed."
   ]
  },
  {
   "cell_type": "markdown",
   "metadata": {},
   "source": [
    "#### Here's an example of a function get_greeting() that returns different greetings based on the input name:"
   ]
  },
  {
   "cell_type": "code",
   "execution_count": 7,
   "metadata": {},
   "outputs": [
    {
     "name": "stdout",
     "output_type": "stream",
     "text": [
      "Hello, Alice!\n",
      "Hi, Bob!\n",
      "Greetings!\n"
     ]
    }
   ],
   "source": [
    "def get_greeting(name):\n",
    "    if name == \"Alice\":\n",
    "        return \"Hello, Alice!\"\n",
    "    elif name == \"Bob\":\n",
    "        return \"Hi, Bob!\"\n",
    "    else:\n",
    "        return \"Greetings!\"\n",
    "\n",
    "result1 = get_greeting(\"Alice\")\n",
    "print(result1)  \n",
    "\n",
    "result2 = get_greeting(\"Bob\")\n",
    "print(result2)  \n",
    "\n",
    "result3 = get_greeting(\"Charlie\")\n",
    "print(result3)  \n"
   ]
  },
  {
   "cell_type": "markdown",
   "metadata": {},
   "source": [
    "#### In the example above, the function get_greeting() has three different return statements. Depending on the value of the name parameter, one of the return statements is executed, and the corresponding greeting is returned. The other return statements are not executed since the flow of execution terminates when the first matching return statement is encountered."
   ]
  },
  {
   "cell_type": "markdown",
   "metadata": {},
   "source": [
    "#### 4. What are lambda functions in Python? How are they different from regular functions? Provide an example where a lambda function can be useful."
   ]
  },
  {
   "cell_type": "markdown",
   "metadata": {},
   "source": [
    "#### In Python, a lambda function, also known as an anonymous function, is a small and concise function that does not require a function name. It is defined using the lambda keyword, followed by a comma-separated list of parameters (if any), a colon :, and the expression to be evaluated."
   ]
  },
  {
   "cell_type": "markdown",
   "metadata": {},
   "source": [
    "#### Lambda functions are particularly useful in situations where a small function is required for a specific task, and defining a regular function would be unnecessarily verbose. They are commonly used with higher-order functions like map(), filter(), and reduce() or in scenarios where a function is needed as an argument to another function.  For example, using a lambda function with map() to square a list of numbers:"
   ]
  },
  {
   "cell_type": "code",
   "execution_count": 8,
   "metadata": {},
   "outputs": [
    {
     "name": "stdout",
     "output_type": "stream",
     "text": [
      "[1, 4, 9, 16, 25]\n"
     ]
    }
   ],
   "source": [
    "\n",
    "numbers = [1, 2, 3, 4, 5]\n",
    "squared = list(map(lambda x: x ** 2, numbers))\n",
    "print(squared)\n",
    "\n"
   ]
  },
  {
   "cell_type": "markdown",
   "metadata": {},
   "source": [
    "#### In this case, the lambda function lambda x: x ** 2 is used as the transformation function within map(). It squares each element in the numbers list, resulting in a new list squared with the squared values."
   ]
  },
  {
   "cell_type": "markdown",
   "metadata": {},
   "source": [
    "#### 4. How does the concept of \"scope\" apply to functions in Python? Explain the difference between local scope and global scope."
   ]
  },
  {
   "cell_type": "code",
   "execution_count": null,
   "metadata": {},
   "outputs": [],
   "source": []
  }
 ],
 "metadata": {
  "kernelspec": {
   "display_name": "Python 3",
   "language": "python",
   "name": "python3"
  },
  "language_info": {
   "codemirror_mode": {
    "name": "ipython",
    "version": 3
   },
   "file_extension": ".py",
   "mimetype": "text/x-python",
   "name": "python",
   "nbconvert_exporter": "python",
   "pygments_lexer": "ipython3",
   "version": "3.7.0"
  }
 },
 "nbformat": 4,
 "nbformat_minor": 2
}
