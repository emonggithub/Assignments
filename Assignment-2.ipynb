{
 "cells": [
  {
   "cell_type": "markdown",
   "metadata": {},
   "source": [
    "#### 1. What are the two values of the Boolean data type? How do you write them?"
   ]
  },
  {
   "cell_type": "markdown",
   "metadata": {},
   "source": [
    "The two values of the Boolean data type are:\n",
    "\n",
    "1. True: This represents a true or positive condition.\n",
    "2. False: This represents a false or negative condition.\n",
    "\n",
    "In Python, these Boolean values are written as True and False (note the capitalization). These values are used in Python to represent the results of comparisons and logical operations.\n",
    "\n",
    "For example:"
   ]
  },
  {
   "cell_type": "code",
   "execution_count": 1,
   "metadata": {},
   "outputs": [],
   "source": [
    "# Assigning Boolean values to variables\n",
    "is_sunny = True\n",
    "is_raining = False\n",
    "\n",
    "# Using Boolean values in comparisons\n",
    "x = 5\n",
    "y = 10\n",
    "is_greater = x > y  # Evaluates to False\n",
    "is_equal = x == y   # Evaluates to False\n",
    "\n",
    "# Using Boolean values in logical operations\n",
    "result = is_sunny and not is_raining  # Evaluates to True"
   ]
  },
  {
   "cell_type": "markdown",
   "metadata": {},
   "source": [
    "In the example above, we have defined two variables, is_sunny and is_raining, to store Boolean values. We use these Boolean values in comparisons (x > y and x == y) and logical operations (and and not). The results of these operations are also Boolean values (True or False), depending on the conditions being evaluated.\n",
    "\n",
    "Boolean values are fundamental in programming as they allow us to make decisions and control the flow of our programs based on different conditions and states. They are essential for creating conditional statements and loops, allowing programs to respond dynamically to different scenarios."
   ]
  },
  {
   "cell_type": "code",
   "execution_count": 2,
   "metadata": {},
   "outputs": [
    {
     "name": "stdout",
     "output_type": "stream",
     "text": [
      "It's a sunny day!\n",
      "It's not raining.\n",
      "True\n",
      "False\n"
     ]
    }
   ],
   "source": [
    "# Assigning Boolean values to variables\n",
    "is_sunny = True\n",
    "is_raining = False\n",
    "\n",
    "# Using Boolean values in conditional statements\n",
    "if is_sunny:\n",
    "    print(\"It's a sunny day!\")\n",
    "else:\n",
    "    print(\"It's not sunny today.\")\n",
    "\n",
    "if not is_raining:\n",
    "    print(\"It's not raining.\")\n",
    "\n",
    "# Using Boolean values in expressions\n",
    "result = 10 > 5  # result will be True\n",
    "print(result)\n",
    "\n",
    "# Using Boolean values with comparison operators\n",
    "x = 5\n",
    "y = 7\n",
    "is_greater = x > y  # is_greater will be False\n",
    "print(is_greater)"
   ]
  },
  {
   "cell_type": "markdown",
   "metadata": {},
   "source": [
    "In the examples above, True and False are used to assign values to variables, evaluate conditional statements, and create expressions. They play a crucial role in controlling the flow of a program, especially in decision-making and branching structures like if statements and loops."
   ]
  },
  {
   "cell_type": "markdown",
   "metadata": {},
   "source": [
    "#### 2. What are the three different types of Boolean operators?"
   ]
  },
  {
   "cell_type": "markdown",
   "metadata": {},
   "source": [
    "The three different types of Boolean operators are:\n",
    "\n",
    "1. Logical AND (and): The and operator returns True if both operands are true, otherwise, it returns False. It performs a logical \"and\" operation between two Boolean expressions."
   ]
  },
  {
   "cell_type": "code",
   "execution_count": 4,
   "metadata": {},
   "outputs": [
    {
     "name": "stdout",
     "output_type": "stream",
     "text": [
      "False\n"
     ]
    }
   ],
   "source": [
    "x = True\n",
    "y = False\n",
    "result = x and y  # result will be False\n",
    "print(result)"
   ]
  },
  {
   "cell_type": "markdown",
   "metadata": {},
   "source": [
    "2. Logical OR (or): The or operator returns True if at least one of the operands is true, otherwise, it returns False. It performs a logical \"or\" operation between two Boolean expressions."
   ]
  },
  {
   "cell_type": "code",
   "execution_count": 5,
   "metadata": {},
   "outputs": [
    {
     "name": "stdout",
     "output_type": "stream",
     "text": [
      "True\n"
     ]
    }
   ],
   "source": [
    "x = True\n",
    "y = False\n",
    "result = x or y  # result will be True\n",
    "print(result)"
   ]
  },
  {
   "cell_type": "markdown",
   "metadata": {},
   "source": [
    "3. Logical NOT (not): The not operator is a unary operator that returns the opposite Boolean value of its operand. If the operand is True, not returns False, and if the operand is False, not returns True."
   ]
  },
  {
   "cell_type": "code",
   "execution_count": 6,
   "metadata": {},
   "outputs": [
    {
     "name": "stdout",
     "output_type": "stream",
     "text": [
      "False\n"
     ]
    }
   ],
   "source": [
    "x = True\n",
    "result = not x  # result will be False\n",
    "print(result)"
   ]
  },
  {
   "cell_type": "markdown",
   "metadata": {},
   "source": [
    "These Boolean operators are used to combine or modify Boolean expressions in Python. They play a vital role in creating complex conditions, controlling program flow, and making decisions based on different conditions."
   ]
  },
  {
   "cell_type": "markdown",
   "metadata": {},
   "source": [
    "#### 3. Make a list of each Boolean operator's truth tables (i.e. every possible combination of Boolean values for the operator and what it evaluate )."
   ]
  },
  {
   "cell_type": "markdown",
   "metadata": {},
   "source": [
    "1. Logical AND (and):"
   ]
  },
  {
   "cell_type": "code",
   "execution_count": 9,
   "metadata": {},
   "outputs": [
    {
     "name": "stdout",
     "output_type": "stream",
     "text": [
      "AND Truth Table\n",
      "False and False = False\n",
      "False and True  = False\n",
      "True  and False = False\n",
      "True  and True  = True\n"
     ]
    }
   ],
   "source": [
    "print(\"AND Truth Table\")\n",
    "print(\"False and False =\", False and False)\n",
    "print(\"False and True  =\", False and True)\n",
    "print(\"True  and False =\", True and False)\n",
    "print(\"True  and True  =\", True and True)"
   ]
  },
  {
   "cell_type": "markdown",
   "metadata": {},
   "source": [
    "2. Logical OR (or):"
   ]
  },
  {
   "cell_type": "code",
   "execution_count": 10,
   "metadata": {},
   "outputs": [
    {
     "name": "stdout",
     "output_type": "stream",
     "text": [
      "OR Truth Table\n",
      "False or False = False\n",
      "False or True  = True\n",
      "True  or False = True\n",
      "True  or True  = True\n"
     ]
    }
   ],
   "source": [
    "print(\"OR Truth Table\")\n",
    "print(\"False or False =\", False or False)\n",
    "print(\"False or True  =\", False or True)\n",
    "print(\"True  or False =\", True or False)\n",
    "print(\"True  or True  =\", True or True)"
   ]
  },
  {
   "cell_type": "markdown",
   "metadata": {},
   "source": [
    "3. Logical NOT (not):"
   ]
  },
  {
   "cell_type": "code",
   "execution_count": 11,
   "metadata": {},
   "outputs": [
    {
     "name": "stdout",
     "output_type": "stream",
     "text": [
      "NOT Truth Table\n",
      "not False = True\n",
      "not True  = False\n"
     ]
    }
   ],
   "source": [
    "print(\"NOT Truth Table\")\n",
    "print(\"not False =\", not False)\n",
    "print(\"not True  =\", not True)"
   ]
  },
  {
   "cell_type": "markdown",
   "metadata": {},
   "source": [
    "In Python, the and, or, and not operators perform logical operations on Boolean values, and the truth tables demonstrate how these operators evaluate the combinations of True and False inputs to produce the results."
   ]
  },
  {
   "cell_type": "markdown",
   "metadata": {},
   "source": [
    "#### 4. What are the values of the following expressions?\n",
    "(5 > 4) and (3 == 5)\n",
    "\n",
    "not (5 > 4)\n",
    "\n",
    "(5 > 4) or (3 == 5)\n",
    "\n",
    "not ((5 > 4) or (3 == 5))\n",
    "\n",
    "(True and True) and (True == False)\n",
    "\n",
    "(not False) or (not True)"
   ]
  },
  {
   "cell_type": "markdown",
   "metadata": {},
   "source": [
    "\n",
    "Let's evaluate each expression step by step:\n",
    "\n",
    "1. (5 > 4) and (3 == 5)\n",
    "\n",
    "- (5 > 4) is True because 5 is greater than 4.\n",
    "- (3 == 5) is False because 3 is not equal to 5.\n",
    "\n",
    "The expression becomes True and False (True and False), which evaluates to False.\n",
    "\n",
    "2. not (5 > 4)\n",
    "\n",
    "- (5 > 4) is True because 5 is greater than 4.\n",
    "\n",
    "The not operator negates the result, so the expression becomes False.\n",
    "\n",
    "3. (5 > 4) or (3 == 5)\n",
    "\n",
    "- (5 > 4) is True because 5 is greater than 4.\n",
    "- (3 == 5) is False because 3 is not equal to 5.\n",
    "\n",
    "The expression becomes True or False (True or False), which evaluates to True.\n",
    "\n",
    "4. not ((5 > 4) or (3 == 5))\n",
    "\n",
    "- (5 > 4) is True because 5 is greater than 4.\n",
    "- (3 == 5) is False because 3 is not equal to 5.\n",
    "- (True or False) is True.\n",
    "\n",
    "The not operator negates the result, so the expression becomes False.\n",
    "\n",
    "5. (True and True) and (True == False)\n",
    "\n",
    "- (True and True) is True because both operands are True.\n",
    "- (True == False) is False because True is not equal to False.\n",
    "\n",
    "The expression becomes True and False (True and False), which evaluates to False.\n",
    "\n",
    "6. (not False) or (not True)\n",
    "\n",
    "- not False is True because it negates False.\n",
    "- not True is False because it negates True.\n",
    "\n",
    "The expression becomes True or False (True or False), which evaluates to True."
   ]
  },
  {
   "cell_type": "markdown",
   "metadata": {},
   "source": [
    "#### 5. What are the six comparison operators?"
   ]
  },
  {
   "cell_type": "markdown",
   "metadata": {},
   "source": [
    "The six comparison operators in most programming languages, including Python, are:\n",
    "\n",
    "1. Equal to (==): Checks if the operands on both sides are equal.\n",
    "\n",
    "Example: x == y evaluates to True if the value of x is equal to the value of y.\n",
    "\n",
    "2. Not equal to (!=): Checks if the operands on both sides are not equal.\n",
    "\n",
    "Example: x != y evaluates to True if the value of x is not equal to the value of y.\n",
    "\n",
    "3. Greater than (>): Checks if the value on the left side is greater than the value on the right side.\n",
    "\n",
    "Example: x > y evaluates to True if the value of x is greater than the value of y.\n",
    "\n",
    "4. Less than (<): Checks if the value on the left side is less than the value on the right side.\n",
    "\n",
    "Example: x < y evaluates to True if the value of x is less than the value of y.\n",
    "\n",
    "5. Greater than or equal to (>=): Checks if the value on the left side is greater than or equal to the value on the right side.\n",
    "\n",
    "Example: x >= y evaluates to True if the value of x is greater than or equal to the value of y.\n",
    "\n",
    "6. Less than or equal to (<=): Checks if the value on the left side is less than or equal to the value on the right side.\n",
    "\n",
    "Example: x <= y evaluates to True if the value of x is less than or equal to the value of y.\n",
    "\n",
    "These comparison operators are used to compare values in conditional statements and expressions, allowing you to make decisions based on whether certain conditions are met or not."
   ]
  },
  {
   "cell_type": "markdown",
   "metadata": {},
   "source": [
    "#### 6. How do you tell the difference between the equal to and assignment operators?Describe a condition and when you would use one."
   ]
  },
  {
   "cell_type": "markdown",
   "metadata": {},
   "source": [
    "The equal to and assignment operators can sometimes look similar, but they serve different purposes and have distinct syntax:\n",
    "\n",
    "1. Equal To Operator (==):\n",
    "\n",
    "The equal to operator == is used to compare two values for equality. It checks whether the values on both sides of the operator are equal and returns a Boolean value (True or False) based on the comparison result.\n",
    "\n",
    "Example:"
   ]
  },
  {
   "cell_type": "code",
   "execution_count": 2,
   "metadata": {},
   "outputs": [
    {
     "name": "stdout",
     "output_type": "stream",
     "text": [
      "False\n"
     ]
    }
   ],
   "source": [
    "x = 5\n",
    "y = 10\n",
    "result = x == y  # This will be False, as x is not equal to y\n",
    "print(result)"
   ]
  },
  {
   "cell_type": "markdown",
   "metadata": {},
   "source": [
    "2. Assignment Operator (=):\n",
    "\n",
    "The assignment operator = is used to assign a value to a variable. It assigns the value on the right side of the operator to the variable on the left side.\n",
    "\n",
    "Example:"
   ]
  },
  {
   "cell_type": "code",
   "execution_count": 4,
   "metadata": {},
   "outputs": [
    {
     "name": "stdout",
     "output_type": "stream",
     "text": [
      "5\n"
     ]
    }
   ],
   "source": [
    "x = 5  # Assign the value 5 to the variable x\n",
    "print(x)"
   ]
  },
  {
   "cell_type": "markdown",
   "metadata": {},
   "source": [
    "Condition to use the Equal To Operator (==):\n",
    "\n",
    "The equal to operator is used when you want to check if two values are equal or not. It is commonly used in conditional statements (e.g., if, while, elif) to make decisions based on whether a particular condition is met.\n",
    "\n",
    "Example:"
   ]
  },
  {
   "cell_type": "code",
   "execution_count": 5,
   "metadata": {},
   "outputs": [
    {
     "name": "stdout",
     "output_type": "stream",
     "text": [
      "x is equal to 5\n"
     ]
    }
   ],
   "source": [
    "x = 5\n",
    "if x == 5:\n",
    "    print(\"x is equal to 5\")\n",
    "else:\n",
    "    print(\"x is not equal to 5\")\n"
   ]
  },
  {
   "cell_type": "markdown",
   "metadata": {},
   "source": [
    "In the above example, we are using the equal to operator (x == 5) to check if the value of x is equal to 5. If the condition is true, the first block of code will be executed, otherwise, the else block will be executed."
   ]
  },
  {
   "cell_type": "markdown",
   "metadata": {},
   "source": [
    "Condition to use the Assignment Operator (=):\n",
    "    \n",
    "The assignment operator is used when you want to store a value in a variable. It is essential to use the assignment operator to initialize variables or update their values during the program's execution.\n",
    "\n",
    "Example:"
   ]
  },
  {
   "cell_type": "code",
   "execution_count": 6,
   "metadata": {},
   "outputs": [],
   "source": [
    "x = 5  # Assign the value 5 to the variable x"
   ]
  },
  {
   "cell_type": "markdown",
   "metadata": {},
   "source": [
    "In this example, we use the assignment operator to assign the value 5 to the variable x. The variable x will hold this value throughout the program, allowing us to use it in different parts of the code."
   ]
  },
  {
   "cell_type": "markdown",
   "metadata": {},
   "source": [
    "#### 7. Identify the three blocks in this code:\n",
    "spam = 0\n",
    "\n",
    "if spam == 10:\n",
    "\n",
    "print('eggs')\n",
    "\n",
    "if spam > 5:\n",
    "\n",
    "print('bacon')\n",
    "\n",
    "else:\n",
    "\n",
    "print('ham')\n",
    "\n",
    "print('spam')\n",
    "\n",
    "print('spam')"
   ]
  },
  {
   "cell_type": "markdown",
   "metadata": {},
   "source": [
    "The code provided lacks proper indentation, which is crucial in Python to define code blocks. However, based on the code's intended logic and structure, I will identify the three blocks as follows:\n",
    "\n",
    " Block 1:"
   ]
  },
  {
   "cell_type": "code",
   "execution_count": 7,
   "metadata": {},
   "outputs": [],
   "source": [
    "spam = 0\n",
    "\n",
    "if spam == 10:\n",
    "    print('eggs')\n"
   ]
  },
  {
   "cell_type": "markdown",
   "metadata": {},
   "source": [
    "This is an if statement block. It checks if the variable spam is equal to 10. If the condition is true, it will execute the indented line print('eggs')."
   ]
  },
  {
   "cell_type": "markdown",
   "metadata": {},
   "source": [
    "Block 2:"
   ]
  },
  {
   "cell_type": "code",
   "execution_count": 8,
   "metadata": {},
   "outputs": [
    {
     "name": "stdout",
     "output_type": "stream",
     "text": [
      "ham\n"
     ]
    }
   ],
   "source": [
    "if spam > 5:\n",
    "    print('bacon')\n",
    "else:\n",
    "    print('ham')"
   ]
  },
  {
   "cell_type": "markdown",
   "metadata": {},
   "source": [
    "This is another if statement block with an else clause. It checks if the variable spam is greater than 5. If the condition is true, it will execute the indented line print('bacon'), otherwise, it will execute the line print('ham')."
   ]
  },
  {
   "cell_type": "markdown",
   "metadata": {},
   "source": [
    "Block 3:"
   ]
  },
  {
   "cell_type": "code",
   "execution_count": 9,
   "metadata": {},
   "outputs": [
    {
     "name": "stdout",
     "output_type": "stream",
     "text": [
      "spam\n",
      "spam\n"
     ]
    }
   ],
   "source": [
    "print('spam')\n",
    "print('spam')"
   ]
  },
  {
   "cell_type": "markdown",
   "metadata": {},
   "source": [
    "These are two consecutive print statements. They are not inside any if or loop, so they will be executed unconditionally after the previous blocks, regardless of the value of the variable spam."
   ]
  },
  {
   "cell_type": "markdown",
   "metadata": {},
   "source": [
    "#### 8. Write code that prints Hello if 1 is stored in spam, prints Howdy if 2 is stored in spam, and prints Greetings! if anything else is stored in spam."
   ]
  },
  {
   "cell_type": "markdown",
   "metadata": {},
   "source": [
    "You can achieve this using a simple if-elif-else statement. Here's the code that prints the desired messages based on the value stored in the spam variable:"
   ]
  },
  {
   "cell_type": "code",
   "execution_count": 10,
   "metadata": {},
   "outputs": [
    {
     "name": "stdout",
     "output_type": "stream",
     "text": [
      "Hello\n"
     ]
    }
   ],
   "source": [
    "spam = 1\n",
    "\n",
    "if spam == 1:\n",
    "    print('Hello')\n",
    "elif spam == 2:\n",
    "    print('Howdy')\n",
    "else:\n",
    "    print('Greetings!')"
   ]
  },
  {
   "cell_type": "markdown",
   "metadata": {},
   "source": [
    "In this code, we check the value of spam using the if-elif-else statement. If spam is equal to 1, it will print \"Hello\". If spam is equal to 2, it will print \"Howdy\". Otherwise, if spam has any other value, it will print \"Greetings!\"."
   ]
  },
  {
   "cell_type": "markdown",
   "metadata": {},
   "source": [
    "#### 9. If your programme is stuck in an endless loop, what keys you’ll press?"
   ]
  },
  {
   "cell_type": "markdown",
   "metadata": {},
   "source": [
    "If your program is stuck in an endless loop and you want to stop its execution, you can typically press the following key combinations:\n",
    "\n",
    "1. Ctrl + C (Control + C) - This is the most common and widely used way to interrupt a running program on most systems, including Unix-based systems (Linux, macOS) and Windows. Pressing Ctrl + C sends a \"SIGINT\" signal to the running process, which causes it to terminate.\n",
    "\n",
    "2. Ctrl + Z (Control + Z) - On Unix-based systems, including Linux and macOS, pressing Ctrl + Z sends a \"SIGTSTP\" signal to the running process, which pauses it and puts it in the background. This allows you to regain control of the terminal. To terminate the program after pausing it, you can use the kill command or the fg command to bring it back to the foreground and then use Ctrl + C."
   ]
  },
  {
   "cell_type": "markdown",
   "metadata": {},
   "source": [
    "#### 10. How can you tell the difference between break and continue?"
   ]
  },
  {
   "cell_type": "markdown",
   "metadata": {},
   "source": [
    "In programming, both break and continue are control flow statements used inside loops to alter the flow of the loop execution. However, they have different purposes and behaviors:\n",
    "\n",
    "1. break:\n",
    "\n",
    "The break statement is used to exit the current loop prematurely when a certain condition is met. When encountered, it immediately terminates the loop, and the control flow moves to the next statement after the loop. break is often used when you want to stop the loop as soon as a specific condition is satisfied.\n",
    "\n",
    "Example: "
   ]
  },
  {
   "cell_type": "code",
   "execution_count": 11,
   "metadata": {},
   "outputs": [
    {
     "name": "stdout",
     "output_type": "stream",
     "text": [
      "0\n",
      "1\n",
      "2\n"
     ]
    }
   ],
   "source": [
    "for i in range(5):\n",
    "    if i == 3:\n",
    "        break\n",
    "    print(i)"
   ]
  },
  {
   "cell_type": "markdown",
   "metadata": {},
   "source": [
    "In this example, the loop stops when i becomes 3 because of the break statement."
   ]
  },
  {
   "cell_type": "markdown",
   "metadata": {},
   "source": [
    "2. continue:\n",
    "    \n",
    "The continue statement is used to skip the rest of the current iteration of the loop and move on to the next iteration. When encountered, it jumps back to the beginning of the loop and evaluates the next iteration. continue is often used when you want to skip certain elements in the loop based on a specific condition.\n",
    "\n",
    "Example:"
   ]
  },
  {
   "cell_type": "code",
   "execution_count": 12,
   "metadata": {},
   "outputs": [
    {
     "name": "stdout",
     "output_type": "stream",
     "text": [
      "0\n",
      "1\n",
      "3\n",
      "4\n"
     ]
    }
   ],
   "source": [
    "for i in range(5):\n",
    "    if i == 2:\n",
    "        continue\n",
    "    print(i)"
   ]
  },
  {
   "cell_type": "markdown",
   "metadata": {},
   "source": [
    "In this example, when i is equal to 2, the continue statement is executed, and the loop skips printing 2 and moves on to the next iteration."
   ]
  },
  {
   "cell_type": "markdown",
   "metadata": {},
   "source": [
    "#### 11. In a for loop, what is the difference between range(10), range(0, 10), and range(0, 10, 1)?"
   ]
  },
  {
   "cell_type": "markdown",
   "metadata": {},
   "source": [
    "1. range(10):\n",
    "\n",
    "- This expression generates a sequence of numbers from 0 to 9 (inclusive).\n",
    "- It starts with the default value of 0 and goes up to (but does not include) the specified stop value, which is 10.\n",
    "- The step size is implicitly set to 1, which means it increments by 1 in each iteration.\n",
    "\n",
    "Example:"
   ]
  },
  {
   "cell_type": "code",
   "execution_count": 13,
   "metadata": {},
   "outputs": [
    {
     "name": "stdout",
     "output_type": "stream",
     "text": [
      "0\n",
      "1\n",
      "2\n",
      "3\n",
      "4\n",
      "5\n",
      "6\n",
      "7\n",
      "8\n",
      "9\n"
     ]
    }
   ],
   "source": [
    "for i in range(10):\n",
    "    print(i)"
   ]
  },
  {
   "cell_type": "markdown",
   "metadata": {},
   "source": [
    "2. range(0, 10):\n",
    "\n",
    "- This expression also generates a sequence of numbers from 0 to 9 (inclusive).\n",
    "- It explicitly specifies the start value as 0 and goes up to (but does not include) the specified stop value, which is 10.\n",
    "- The step size is implicitly set to 1, which means it increments by 1 in each iteration.\n",
    "\n",
    "Example:"
   ]
  },
  {
   "cell_type": "code",
   "execution_count": 14,
   "metadata": {},
   "outputs": [
    {
     "name": "stdout",
     "output_type": "stream",
     "text": [
      "0\n",
      "1\n",
      "2\n",
      "3\n",
      "4\n",
      "5\n",
      "6\n",
      "7\n",
      "8\n",
      "9\n"
     ]
    }
   ],
   "source": [
    "for i in range(0, 10):\n",
    "    print(i)"
   ]
  },
  {
   "cell_type": "markdown",
   "metadata": {},
   "source": [
    "3. range(0, 10, 1):\n",
    "\n",
    "- This expression also generates a sequence of numbers from 0 to 9 (inclusive).\n",
    "- It explicitly specifies the start value as 0, the stop value as 10, and the step size as 1.\n",
    "- Since the step size is 1, it increments by 1 in each iteration.\n",
    "\n",
    "Example:"
   ]
  },
  {
   "cell_type": "code",
   "execution_count": 15,
   "metadata": {},
   "outputs": [
    {
     "name": "stdout",
     "output_type": "stream",
     "text": [
      "0\n",
      "1\n",
      "2\n",
      "3\n",
      "4\n",
      "5\n",
      "6\n",
      "7\n",
      "8\n",
      "9\n"
     ]
    }
   ],
   "source": [
    "for i in range(0, 10, 1):\n",
    "    print(i)"
   ]
  },
  {
   "cell_type": "markdown",
   "metadata": {},
   "source": [
    "#### 12. Write a short program that prints the numbers 1 to 10 using a for loop. Then write an equivalent program that prints the numbers 1 to 10 using a while loop."
   ]
  },
  {
   "cell_type": "markdown",
   "metadata": {},
   "source": [
    "1. Using for loop:"
   ]
  },
  {
   "cell_type": "code",
   "execution_count": 16,
   "metadata": {},
   "outputs": [
    {
     "name": "stdout",
     "output_type": "stream",
     "text": [
      "1\n",
      "2\n",
      "3\n",
      "4\n",
      "5\n",
      "6\n",
      "7\n",
      "8\n",
      "9\n",
      "10\n"
     ]
    }
   ],
   "source": [
    "# Using a for loop to print numbers from 1 to 10\n",
    "for i in range(1, 11):\n",
    "    print(i)"
   ]
  },
  {
   "cell_type": "markdown",
   "metadata": {},
   "source": [
    "2. Using while loop:"
   ]
  },
  {
   "cell_type": "code",
   "execution_count": 17,
   "metadata": {},
   "outputs": [
    {
     "name": "stdout",
     "output_type": "stream",
     "text": [
      "1\n",
      "2\n",
      "3\n",
      "4\n",
      "5\n",
      "6\n",
      "7\n",
      "8\n",
      "9\n",
      "10\n"
     ]
    }
   ],
   "source": [
    "# Using a while loop to print numbers from 1 to 10\n",
    "num = 1\n",
    "while num <= 10:\n",
    "    print(num)\n",
    "    num += 1"
   ]
  },
  {
   "cell_type": "markdown",
   "metadata": {},
   "source": [
    "#### 13. If you had a function named bacon() inside a module named spam, how would you call it after importing spam?"
   ]
  },
  {
   "cell_type": "markdown",
   "metadata": {},
   "source": [
    "If you have a function named bacon() inside a module named spam, you can call it after importing the spam module using the dot notation.\n",
    "\n",
    "Assuming you have the following bacon() function inside the spam.py module:\n",
    "\n",
    "spam.py:"
   ]
  },
  {
   "cell_type": "code",
   "execution_count": 18,
   "metadata": {},
   "outputs": [],
   "source": [
    "def bacon():\n",
    "    print(\"I am bacon!\")"
   ]
  },
  {
   "cell_type": "markdown",
   "metadata": {},
   "source": [
    "To call the bacon() function after importing the spam module, you can use the following syntax:"
   ]
  },
  {
   "cell_type": "code",
   "execution_count": 19,
   "metadata": {},
   "outputs": [
    {
     "ename": "ModuleNotFoundError",
     "evalue": "No module named 'spam'",
     "output_type": "error",
     "traceback": [
      "\u001b[0;31m---------------------------------------------------------------------------\u001b[0m",
      "\u001b[0;31mModuleNotFoundError\u001b[0m                       Traceback (most recent call last)",
      "Cell \u001b[0;32mIn [19], line 1\u001b[0m\n\u001b[0;32m----> 1\u001b[0m \u001b[38;5;28;01mimport\u001b[39;00m \u001b[38;5;21;01mspam\u001b[39;00m\n\u001b[1;32m      3\u001b[0m spam\u001b[38;5;241m.\u001b[39mbacon()\n",
      "\u001b[0;31mModuleNotFoundError\u001b[0m: No module named 'spam'"
     ]
    }
   ],
   "source": [
    "import spam\n",
    "\n",
    "spam.bacon()"
   ]
  },
  {
   "cell_type": "markdown",
   "metadata": {},
   "source": [
    "The import spam statement imports the spam module, and then you can access the bacon() function using the dot notation (spam.bacon()). This way, you are calling the bacon() function from the spam module."
   ]
  },
  {
   "cell_type": "code",
   "execution_count": null,
   "metadata": {},
   "outputs": [],
   "source": []
  }
 ],
 "metadata": {
  "kernelspec": {
   "display_name": "Python 3 (ipykernel)",
   "language": "python",
   "name": "python3"
  },
  "language_info": {
   "codemirror_mode": {
    "name": "ipython",
    "version": 3
   },
   "file_extension": ".py",
   "mimetype": "text/x-python",
   "name": "python",
   "nbconvert_exporter": "python",
   "pygments_lexer": "ipython3",
   "version": "3.11.2"
  }
 },
 "nbformat": 4,
 "nbformat_minor": 2
}
