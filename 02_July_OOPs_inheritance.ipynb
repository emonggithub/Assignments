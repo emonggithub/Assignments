{
 "cells": [
  {
   "cell_type": "markdown",
   "metadata": {},
   "source": [
    "## 1. Explain what inheritance is in object-oriented programming and why it is used."
   ]
  },
  {
   "cell_type": "markdown",
   "metadata": {},
   "source": [
    "Inheritance is a fundamental concept in object-oriented programming (OOP) that allows one class (called the subclass or derived class) to inherit the properties and behaviors (i.e., attributes and methods) of another class (called the superclass or base class). Inheritance facilitates the creation of a hierarchy of classes, where more specialized classes inherit the characteristics of more general classes. This promotes code reusability, modularity, and the creation of a more organized and structured codebase.\n",
    "\n",
    "Inheritance is used for several reasons:\n",
    "\n",
    "1. Code Reusability: Inheritance allows you to create a new class by reusing the attributes and methods of an existing class. Instead of rewriting the same code for similar functionality, you can extend an existing class to add or modify specific behaviors.\n",
    "\n",
    "2. Hierarchy and Specialization: In a program, you often have a set of classes that share common attributes and methods but also have some differences. Inheritance allows you to create a hierarchy of classes where subclasses can specialize or override certain behaviors while inheriting the common ones from the superclass.\n",
    "\n",
    "3. Modularity and Maintainability: Inheritance promotes modularity by separating different aspects of a program's functionality into different classes. This makes the codebase easier to understand, maintain, and extend because changes made to the superclass are automatically inherited by all its subclasses.\n",
    "\n",
    "4. Polymorphism: Inheritance is closely tied to the concept of polymorphism, where different objects of related classes can be treated as instances of a common superclass. This enables more flexible and abstract programming, as you can write code that works with general types and can be applied to specific subclasses as well.\n",
    "\n",
    "Here's a simple example in Python to illustrate inheritance:"
   ]
  },
  {
   "cell_type": "code",
   "execution_count": 2,
   "metadata": {},
   "outputs": [
    {
     "name": "stdout",
     "output_type": "stream",
     "text": [
      "Buddy says: Woof!\n",
      "Whiskers says: Meow!\n"
     ]
    }
   ],
   "source": [
    "class Animal:\n",
    "    def __init__(self, name):\n",
    "        self.name = name\n",
    "    \n",
    "    def speak(self):\n",
    "        pass  # This method will be overridden in subclasses\n",
    "\n",
    "class Dog(Animal):\n",
    "    def speak(self):\n",
    "        return \"Woof!\"\n",
    "\n",
    "class Cat(Animal):\n",
    "    def speak(self):\n",
    "        return \"Meow!\"\n",
    "\n",
    "# Creating instances of subclasses\n",
    "dog = Dog(\"Buddy\")\n",
    "cat = Cat(\"Whiskers\")\n",
    "\n",
    "print(dog.name, \"says:\", dog.speak())\n",
    "print(cat.name, \"says:\", cat.speak())\n"
   ]
  },
  {
   "cell_type": "markdown",
   "metadata": {},
   "source": [
    "In this example, the Animal class serves as the parent class with a common attribute name and a placeholder method speak(). The Dog and Cat classes are subclasses that inherit from Animal. They override the speak() method to provide their own unique implementations. This inheritance hierarchy allows you to create instances of specialized animals with consistent interfaces.\n",
    "\n",
    "In summary, inheritance is a powerful mechanism in object-oriented programming that facilitates code reuse, hierarchy creation, modularity, and polymorphism, making it easier to design and maintain complex software systems."
   ]
  },
  {
   "cell_type": "markdown",
   "metadata": {},
   "source": [
    "## 2. Discuss the concept of single inheritance and multiple inheritance, highlighting their differences and advantages."
   ]
  },
  {
   "cell_type": "markdown",
   "metadata": {},
   "source": [
    "Single Inheritance:\n",
    "\n",
    "In single inheritance, a class can inherit from only one parent class. This means that a child class can have only one immediate superclass. This approach encourages a simpler and more linear class hierarchy.\n",
    "\n",
    "Advantages of Single Inheritance:\n",
    "\n",
    "1. Simplicity: Single inheritance enforces a clear and straightforward hierarchy. It's easier to understand the relationships between classes when there's only one parent-child connection.\n",
    "\n",
    "2. Reduced Complexity: With only one parent class, potential issues related to ambiguity and conflicts in method and attribute resolution are minimized. It's generally easier to manage and debug the codebase.\n",
    "\n",
    "3. Code Reusability: Single inheritance still promotes code reusability by allowing you to create a base class with common attributes and behaviors that can be inherited by multiple subclasses.\n",
    "\n",
    "Multiple Inheritance:\n",
    "\n",
    "In multiple inheritance, a class can inherit from more than one parent class. This allows a child class to inherit attributes and behaviors from multiple sources. Each parent class contributes its own set of features to the child class.\n",
    "\n",
    "Advantages of Multiple Inheritance:\n",
    "\n",
    "1. Rich Functionality: Multiple inheritance allows you to combine features from multiple sources, creating classes with diverse functionalities. This can lead to more flexible and feature-rich designs.\n",
    "\n",
    "2. Modularity and Mixins: You can use multiple inheritance to create specialized classes known as \"mixins.\" These mixins can encapsulate specific features or behaviors and can be combined to construct complex classes without having to reimplement the same behavior.\n",
    "\n",
    "3. Fine-Grained Specialization: With multiple inheritance, you can achieve fine-grained specialization by inheriting only the relevant features from different parent classes. This can result in more efficient and targeted designs.\n",
    "\n",
    "Differences:\n",
    "\n",
    "The primary difference between single inheritance and multiple inheritance lies in the number of parent classes a child class can have:\n",
    "\n",
    "- Single Inheritance: A child class can have only one parent class.\n",
    "- Multiple Inheritance: A child class can have more than one parent class."
   ]
  },
  {
   "cell_type": "markdown",
   "metadata": {},
   "source": [
    "Example of single inheritance in Python"
   ]
  },
  {
   "cell_type": "code",
   "execution_count": 19,
   "metadata": {},
   "outputs": [
    {
     "name": "stdout",
     "output_type": "stream",
     "text": [
      "This is a Canine, Breed: Golden Retriever\n"
     ]
    }
   ],
   "source": [
    "class Animal:\n",
    "    def __init__(self, species):\n",
    "        self.species = species\n",
    "    \n",
    "    def display_species(self):\n",
    "        return f\"This is a {self.species}\"\n",
    "\n",
    "class Dog(Animal):\n",
    "    def __init__(self, species, breed):\n",
    "        super().__init__(species)  # Call base class constructor\n",
    "        self.breed = breed\n",
    "    \n",
    "    def display_info(self):\n",
    "        animal_info = self.display_species()  # Call base class method\n",
    "        return f\"{animal_info}, Breed: {self.breed}\"\n",
    "\n",
    "# Create an instance of the derived class\n",
    "dog = Dog(\"Canine\", \"Golden Retriever\")\n",
    "\n",
    "# Display information about the dog\n",
    "print(dog.display_info())\n"
   ]
  },
  {
   "cell_type": "markdown",
   "metadata": {},
   "source": [
    "In this example, Animal is the base class with an attribute \"species\" and a method display_species(). The Dog class is derived from Animal and adds an additional attribute \"breed.\" It calls the base class constructor using super().__init__() and also calls the base class method display_species() using self.display_species(). The result demonstrates single inheritance, where the Dog class inherits from the Animal class."
   ]
  },
  {
   "cell_type": "markdown",
   "metadata": {},
   "source": [
    "Example of multiple inheritance in Python"
   ]
  },
  {
   "cell_type": "code",
   "execution_count": 20,
   "metadata": {},
   "outputs": [
    {
     "name": "stdout",
     "output_type": "stream",
     "text": [
      "Variable 1 from Parent 1\n"
     ]
    },
    {
     "ename": "AttributeError",
     "evalue": "'Child' object has no attribute 'var2'",
     "output_type": "error",
     "traceback": [
      "\u001b[0;31m---------------------------------------------------------------------------\u001b[0m",
      "\u001b[0;31mAttributeError\u001b[0m                            Traceback (most recent call last)",
      "\u001b[0;32m<ipython-input-20-fba9d7900164>\u001b[0m in \u001b[0;36m<module>\u001b[0;34m()\u001b[0m\n\u001b[1;32m     26\u001b[0m \u001b[0;31m# Accessing attributes and methods using the instance\u001b[0m\u001b[0;34m\u001b[0m\u001b[0;34m\u001b[0m\u001b[0m\n\u001b[1;32m     27\u001b[0m \u001b[0mprint\u001b[0m\u001b[0;34m(\u001b[0m\u001b[0mchild_instance\u001b[0m\u001b[0;34m.\u001b[0m\u001b[0mvar1\u001b[0m\u001b[0;34m)\u001b[0m  \u001b[0;31m# From Parent1\u001b[0m\u001b[0;34m\u001b[0m\u001b[0m\n\u001b[0;32m---> 28\u001b[0;31m \u001b[0mprint\u001b[0m\u001b[0;34m(\u001b[0m\u001b[0mchild_instance\u001b[0m\u001b[0;34m.\u001b[0m\u001b[0mvar2\u001b[0m\u001b[0;34m)\u001b[0m  \u001b[0;31m# From Parent2\u001b[0m\u001b[0;34m\u001b[0m\u001b[0m\n\u001b[0m\u001b[1;32m     29\u001b[0m \u001b[0mprint\u001b[0m\u001b[0;34m(\u001b[0m\u001b[0mchild_instance\u001b[0m\u001b[0;34m.\u001b[0m\u001b[0mvar3\u001b[0m\u001b[0;34m)\u001b[0m  \u001b[0;31m# From Child\u001b[0m\u001b[0;34m\u001b[0m\u001b[0m\n\u001b[1;32m     30\u001b[0m \u001b[0;34m\u001b[0m\u001b[0m\n",
      "\u001b[0;31mAttributeError\u001b[0m: 'Child' object has no attribute 'var2'"
     ]
    }
   ],
   "source": [
    "class Parent1:\n",
    "    def __init__(self):\n",
    "        print(\"Initializing Parent 1\")\n",
    "\n",
    "    def method1(self):\n",
    "        print(\"Method 1 from Parent 1\")\n",
    "\n",
    "class Parent2:\n",
    "    def __init__(self):\n",
    "        print(\"Initializing Parent 2\")\n",
    "\n",
    "    def method2(self):\n",
    "        print(\"Method 2 from Parent 2\")\n",
    "\n",
    "class Child(Parent1, Parent2):\n",
    "    def __init__(self):\n",
    "        super().__init__()  # Calls the __init__ of Parent1\n",
    "        super().method2()   # Calls method2 from Parent2\n",
    "\n",
    "    def method3(self):\n",
    "        print(\"Method 3 in Child class\")\n",
    "\n",
    "# Create an instance of the Child class\n",
    "child_instance = Child()\n",
    "\n",
    "# Calling methods from parent classes and the child class\n",
    "child_instance.method1()\n",
    "child_instance.method2()\n",
    "child_instance.method3()"
   ]
  },
  {
   "cell_type": "markdown",
   "metadata": {},
   "source": [
    "In this example, the Child class inherits from both Parent1 and Parent2 classes using multiple inheritance.\n",
    "\n",
    "When you create an instance of the Child class, its constructor calls super().__init__() to initialize the Parent1 class. Similarly, within the Child class, super().method2() is used to call the method2 from Parent2. This demonstrates how the super() keyword allows you to access and call methods from specific parent classes in the multiple inheritance hierarchy."
   ]
  },
  {
   "cell_type": "markdown",
   "metadata": {},
   "source": [
    "## 3. Explain the terms \"base class\" and \"derived class\" in the context of inheritance."
   ]
  },
  {
   "cell_type": "markdown",
   "metadata": {},
   "source": [
    "1. Base Class (Superclass or Parent Class):\n",
    "    \n",
    "A base class is a class that serves as the foundation for other classes in an inheritance hierarchy. It defines common attributes and methods that are shared by its derived classes. The base class is also referred to as the \"superclass\" or \"parent class.\" It encapsulates the core behavior and properties that are common to the group of related classes.\n",
    "Inheritance allows derived classes to inherit the attributes and methods of the base class. The derived classes can then add their own specific attributes and methods or override the ones inherited from the base class.\n",
    "\n",
    "Example:"
   ]
  },
  {
   "cell_type": "code",
   "execution_count": 3,
   "metadata": {},
   "outputs": [],
   "source": [
    "class Shape:\n",
    "    def __init__(self, color):\n",
    "        self.color = color\n",
    "    \n",
    "    def area(self):\n",
    "        pass\n",
    "\n",
    "class Circle(Shape):\n",
    "    def __init__(self, color, radius):\n",
    "        super().__init__(color)\n",
    "        self.radius = radius\n",
    "    \n",
    "    def area(self):\n",
    "        return 3.14 * self.radius ** 2"
   ]
  },
  {
   "cell_type": "markdown",
   "metadata": {},
   "source": [
    "In this example, the Shape class is the base class that defines the common attribute color and a method area(). The Circle class is a derived class that inherits from Shape and adds its own attribute radius and an overridden area() method."
   ]
  },
  {
   "cell_type": "markdown",
   "metadata": {},
   "source": [
    "2. Derived Class (Subclass or Child Class):\n",
    "\n",
    "A derived class is a class that inherits attributes and methods from a base class. It extends or specializes the behavior of the base class by adding new attributes and methods or by overriding the ones inherited from the base class. A derived class is also referred to as a \"subclass\" or \"child class.\"\n",
    "The derived class can access the attributes and methods of the base class, and it can choose to modify, extend, or replace them to suit its specific requirements.\n",
    "\n",
    "Example (continuing from the previous example):"
   ]
  },
  {
   "cell_type": "code",
   "execution_count": 4,
   "metadata": {},
   "outputs": [],
   "source": [
    "class Rectangle(Shape):\n",
    "    def __init__(self, color, width, height):\n",
    "        super().__init__(color)\n",
    "        self.width = width\n",
    "        self.height = height\n",
    "    \n",
    "    def area(self):\n",
    "        return self.width * self.height"
   ]
  },
  {
   "cell_type": "markdown",
   "metadata": {},
   "source": [
    "In this example, the Rectangle class is another derived class that inherits from Shape. It introduces its own attributes width and height and overrides the area() method to calculate the area of a rectangle.\n",
    "\n",
    "In summary, the base class provides a template for common behavior and properties, while derived classes extend or specialize that behavior to create more specific implementations. The relationship between a base class and its derived classes forms the foundation of inheritance in object-oriented programming."
   ]
  },
  {
   "cell_type": "markdown",
   "metadata": {},
   "source": [
    "## 4. What is the significance of the \"protected\" access modifier in inheritance? How does it differ from \"private\" and \"public\" modifiers?"
   ]
  },
  {
   "cell_type": "markdown",
   "metadata": {},
   "source": [
    "1. Private Access Modifier:\n",
    "\n",
    "- Private members are only accessible within the class that defines them. They are not visible to any external class, including subclasses (derived classes).\n",
    "\n",
    "- In Python, attributes and methods are made \"private\" by adding a double underscore (__) prefix to their names (e.g., __attribute or __method).\n",
    "\n",
    "- Private members cannot be inherited by subclasses, and they are meant to encapsulate the internal implementation details of a class.\n",
    "\n",
    "Example:"
   ]
  },
  {
   "cell_type": "code",
   "execution_count": 1,
   "metadata": {},
   "outputs": [
    {
     "name": "stdout",
     "output_type": "stream",
     "text": [
      "Name is Paul and roll number is 2023\n"
     ]
    }
   ],
   "source": [
    "class Student:\n",
    "    def __init__(self, name, roll):\n",
    "        self.__name = name  # private attribute\n",
    "        self.__roll = roll\n",
    "\n",
    "    def __display(self):  # private method\n",
    "        print(f\"Name is {self.__name} and roll number is {self.__roll}\")\n",
    "\n",
    "    def display(self):  # This is the method for displaying the output\n",
    "        self.__display()\n",
    "\n",
    "# Create an instance of the Student class\n",
    "student2 = Student(\"Paul\", 2023)\n",
    "student2.display()  # Call the display method on the student2 instance"
   ]
  },
  {
   "cell_type": "markdown",
   "metadata": {},
   "source": [
    "A few things to note:\n",
    "\n",
    "1. The attributes __name and __roll are intended to be private, indicated by the use of double underscores at the beginning of their names. However, in Python, attributes with a double underscore name mangling (e.g., __name) are still accessible using _classname__attribute (e.g., _Student__name), although it's not the recommended way to access private attributes.\n",
    "\n",
    "2. The method __display is also marked as private using a double underscore prefix. It's intended to print out the student's name and roll number.\n",
    "\n",
    "3. The display method is a public method that serves as a way to access the private __display method.\n",
    "\n",
    "4. The student2 instance is created with the name \"Paul\" and roll number 2023.\n",
    "\n",
    "5. The display method is called on the student2 instance, which internally calls the private __display method to display the name and roll number.\n",
    "\n",
    "6. It's important to mention that the __display method can also be accessed using _Student__display(), but this isn't recommended either due to the private nature of the method."
   ]
  },
  {
   "cell_type": "markdown",
   "metadata": {},
   "source": [
    "\n",
    "2. Protected Access Modifier:\n",
    "\n",
    "- Protected members are accessible within the class that defines them and within subclasses (derived classes) of that class.\n",
    "\n",
    "- In Python, there is no strict mechanism to define \"protected\" members. Conventionally, a single underscore (_) prefix is used to indicate that a member is intended to be protected (e.g., _attribute or _method).\n",
    "\n",
    "- Protected members are not strictly enforced in Python, but they convey the intention that the member is meant to be accessed within subclasses and is not part of the public interface.\n",
    "\n",
    "Example:"
   ]
  },
  {
   "cell_type": "code",
   "execution_count": 2,
   "metadata": {},
   "outputs": [
    {
     "name": "stdout",
     "output_type": "stream",
     "text": [
      "Accessing protected attribute: 42\n",
      "This is a protected method.\n",
      "Accessing protected attribute directly: 42\n",
      "This is a protected method.\n"
     ]
    }
   ],
   "source": [
    "class Base:\n",
    "    def __init__(self):\n",
    "        self._protected_attribute = 42\n",
    "    \n",
    "    def _protected_method(self):\n",
    "        print(\"This is a protected method.\")\n",
    "\n",
    "class Derived(Base):\n",
    "    def __init__(self):\n",
    "        super().__init__()\n",
    "    \n",
    "    def access_protected(self):\n",
    "        print(\"Accessing protected attribute:\", self._protected_attribute)\n",
    "        self._protected_method()\n",
    "\n",
    "# Create instances of the classes\n",
    "base_instance = Base()\n",
    "derived_instance = Derived()\n",
    "\n",
    "# Accessing protected members from the derived class\n",
    "derived_instance.access_protected()\n",
    "\n",
    "# Accessing protected members directly (not recommended)\n",
    "print(\"Accessing protected attribute directly:\", base_instance._protected_attribute)\n",
    "base_instance._protected_method()"
   ]
  },
  {
   "cell_type": "markdown",
   "metadata": {},
   "source": [
    "In this example:\n",
    "\n",
    "- The Base class has a protected attribute _protected_attribute and a protected method _protected_method.\n",
    "\n",
    "- The Derived class inherits from Base and can access the protected attribute and method of the base class.\n",
    "\n",
    "- The access_protected method in the Derived class demonstrates how to access these protected members from within the derived class.\n",
    "\n",
    "- The code also shows that it's possible to directly access protected members from outside the class hierarchy, but this is discouraged."
   ]
  },
  {
   "cell_type": "markdown",
   "metadata": {},
   "source": [
    "One more example of protected access modifier:"
   ]
  },
  {
   "cell_type": "code",
   "execution_count": 3,
   "metadata": {},
   "outputs": [
    {
     "name": "stdout",
     "output_type": "stream",
     "text": [
      "Toyota\n",
      "Engine started\n",
      "Toyota Camry is ready to go\n"
     ]
    }
   ],
   "source": [
    "class Vehicle:\n",
    "    def __init__(self, make, model):\n",
    "        self._make = make  # Protected attribute\n",
    "        self._model = model\n",
    "\n",
    "    def _start_engine(self):  # Protected method\n",
    "        print(\"Engine started\")\n",
    "\n",
    "class Car(Vehicle):\n",
    "    def start_car(self):\n",
    "        self._start_engine()  # Accessing the protected method from a derived class\n",
    "        print(f\"{self._make} {self._model} is ready to go\")\n",
    "\n",
    "# Create a Car instance\n",
    "my_car = Car(\"Toyota\", \"Camry\")\n",
    "\n",
    "# Access the protected attribute directly (not recommended, just for demonstration)\n",
    "print(my_car._make)  # This is possible, but it's considered against the convention\n",
    "\n",
    "# Call the protected method through a derived class instance\n",
    "my_car.start_car()"
   ]
  },
  {
   "cell_type": "markdown",
   "metadata": {},
   "source": [
    "In this example, we have a base class Vehicle with a protected attribute _make and a protected method _start_engine. The derived class Car accesses the protected method from the base class and also accesses the protected attribute (although this is not recommended). Remember that this access is not enforced by the language itself; it's more of a guideline for developers."
   ]
  },
  {
   "cell_type": "markdown",
   "metadata": {},
   "source": [
    "3. Public Access Modifier:\n",
    "\n",
    "- Public members are accessible from anywhere, both within the class and from external code.\n",
    "\n",
    "- In Python, members without any prefix are considered public by default.\n",
    "\n",
    "Example:"
   ]
  },
  {
   "cell_type": "code",
   "execution_count": 5,
   "metadata": {},
   "outputs": [
    {
     "name": "stdout",
     "output_type": "stream",
     "text": [
      "My dog's name is Buddy\n",
      "Buddy is barking\n"
     ]
    }
   ],
   "source": [
    "class Dog:\n",
    "    def __init__(self, name):\n",
    "        self.name = name  # Public attribute\n",
    "\n",
    "    def bark(self):  # Public method\n",
    "        print(f\"{self.name} is barking\")\n",
    "\n",
    "# Create a Dog instance\n",
    "my_dog = Dog(\"Buddy\")\n",
    "\n",
    "# Access the public attribute and call the public method\n",
    "print(f\"My dog's name is {my_dog.name}\")\n",
    "my_dog.bark()"
   ]
  },
  {
   "cell_type": "markdown",
   "metadata": {},
   "source": [
    "In this example, the name attribute and the bark method are both public members. They can be accessed directly from outside the class. Public members are not subject to any special naming conventions or access restrictions."
   ]
  },
  {
   "cell_type": "markdown",
   "metadata": {},
   "source": [
    "\n",
    "In the context of inheritance:\n",
    "\n",
    "- Private Members: Private members of a base class are not accessible in the derived class. They are completely hidden from the derived class, and attempts to access them will result in an error.\n",
    "\n",
    "- Protected Members: Protected members of a base class are accessible in the derived class. They can be inherited and accessed in the derived class just like public members. However, there is no strict enforcement of protected members in Python, so they can still be accessed from external code if desired.\n",
    "\n",
    "- Public Members: Public members of a base class are inherited by the derived class and can be accessed from instances of the derived class. They are part of the public interface of both the base and derived classes."
   ]
  },
  {
   "cell_type": "markdown",
   "metadata": {},
   "source": [
    "## 5. What is the purpose of the \"super\" keyword in inheritance? Provide an example."
   ]
  },
  {
   "cell_type": "markdown",
   "metadata": {},
   "source": [
    "\n",
    "The super keyword in object-oriented programming is used to call methods and access attributes of a superclass (base class) from within a subclass (derived class). It's particularly useful when you want to extend or override methods in the subclass while still retaining the functionality of the parent class's methods. The super keyword provides a way to avoid duplicating code that might already exist in the parent class.\n",
    "\n",
    "Here's an example to illustrate the purpose of the super keyword:"
   ]
  },
  {
   "cell_type": "code",
   "execution_count": 8,
   "metadata": {},
   "outputs": [
    {
     "name": "stdout",
     "output_type": "stream",
     "text": [
      "Toyota is starting\n",
      "Toyota Camry is revving up\n"
     ]
    }
   ],
   "source": [
    "class Vehicle:\n",
    "    def __init__(self, brand):\n",
    "        self.brand = brand\n",
    "\n",
    "    def start(self):\n",
    "        print(f\"{self.brand} is starting\")\n",
    "\n",
    "class Car(Vehicle):\n",
    "    def __init__(self, brand, model):\n",
    "        super().__init__(brand)  # Call the parent class constructor\n",
    "        self.model = model\n",
    "\n",
    "    def start(self):\n",
    "        super().start()  # Call the parent class method\n",
    "        print(f\"{self.brand} {self.model} is revving up\")\n",
    "\n",
    "# Creating instances of the subclasses\n",
    "my_car = Car(\"Toyota\", \"Camry\")\n",
    "\n",
    "# Calling the overridden method in the subclass\n",
    "my_car.start()"
   ]
  },
  {
   "cell_type": "markdown",
   "metadata": {},
   "source": [
    "In this example, we have a base class Vehicle with an __init__ method and a start method. The derived class Car inherits from Vehicle and overrides the start method.\n",
    "\n",
    "Using the super().__init__(brand) call in the Car class's constructor ensures that the brand attribute is initialized through the parent class's constructor. Similarly, the super().start() call in the start method allows the Car class to extend the behavior of the start method from the Vehicle class."
   ]
  },
  {
   "cell_type": "markdown",
   "metadata": {},
   "source": [
    "Here's one more example to illustrate the use of the super keyword:"
   ]
  },
  {
   "cell_type": "code",
   "execution_count": 10,
   "metadata": {},
   "outputs": [
    {
     "name": "stdout",
     "output_type": "stream",
     "text": [
      "Buddy is a Labrador and says: Woof!\n",
      "Whiskers is Gray and says: Meow!\n"
     ]
    }
   ],
   "source": [
    "class Animal:\n",
    "    def __init__(self, name):\n",
    "        self.name = name\n",
    "    \n",
    "    def speak(self):\n",
    "        pass\n",
    "\n",
    "class Dog(Animal):\n",
    "    def __init__(self, name, breed):\n",
    "        super().__init__(name)  # Calling the parent class constructor\n",
    "        self.breed = breed\n",
    "    \n",
    "    def speak(self):\n",
    "        return \"Woof!\"\n",
    "\n",
    "class Cat(Animal):\n",
    "    def __init__(self, name, color):\n",
    "        super().__init__(name)  # Calling the parent class constructor\n",
    "        self.color = color\n",
    "    \n",
    "    def speak(self):\n",
    "        return \"Meow!\"\n",
    "\n",
    "dog = Dog(\"Buddy\", \"Labrador\")\n",
    "cat = Cat(\"Whiskers\", \"Gray\")\n",
    "\n",
    "print(dog.name, \"is a\", dog.breed, \"and says:\", dog.speak())\n",
    "print(cat.name, \"is\", cat.color, \"and says:\", cat.speak())"
   ]
  },
  {
   "cell_type": "markdown",
   "metadata": {},
   "source": [
    "In this example, we have a base class Animal with an attribute name and a method speak(). The Dog and Cat classes are derived from Animal and specialize its behavior.\n",
    "\n",
    "In the Dog and Cat constructors, the super().__init__(name) line is used to call the constructor of the parent class Animal. This ensures that the name attribute is initialized correctly, utilizing the logic defined in the parent class.\n",
    "\n",
    "Similarly, the super().speak() line in the overridden speak() methods of Dog and Cat allows the child classes to extend the behavior of the parent class's speak() method while still retaining its core functionality."
   ]
  },
  {
   "cell_type": "markdown",
   "metadata": {},
   "source": [
    "## 6. Create a base class called \"Vehicle\" with attributes like \"make\", \"model\", and \"year\". Then, create a derived class called \"Car\" that inherits from \"Vehicle\" and adds an attribute called \"fuel_type\". Implement appropriate methods in both classes."
   ]
  },
  {
   "cell_type": "code",
   "execution_count": 11,
   "metadata": {},
   "outputs": [
    {
     "name": "stdout",
     "output_type": "stream",
     "text": [
      "2022 Toyota Camry, Fuel Type: Gasoline\n"
     ]
    }
   ],
   "source": [
    "class Vehicle:\n",
    "    def __init__(self, make, model, year):\n",
    "        self.make = make\n",
    "        self.model = model\n",
    "        self.year = year\n",
    "    \n",
    "    def display_info(self):\n",
    "        return f\"{self.year} {self.make} {self.model}\"\n",
    "\n",
    "class Car(Vehicle):\n",
    "    def __init__(self, make, model, year, fuel_type):\n",
    "        super().__init__(make, model, year)  # Call the base class constructor\n",
    "        self.fuel_type = fuel_type\n",
    "    \n",
    "    def display_info(self):\n",
    "        vehicle_info = super().display_info()  # Call the base class method\n",
    "        return f\"{vehicle_info}, Fuel Type: {self.fuel_type}\"\n",
    "\n",
    "# Creating a Car instance\n",
    "car = Car(\"Toyota\", \"Camry\", 2022, \"Gasoline\")\n",
    "\n",
    "# Calling methods to display information\n",
    "print(car.display_info())"
   ]
  },
  {
   "cell_type": "markdown",
   "metadata": {},
   "source": [
    "In this example, the Vehicle class is the base class with attributes make, model, and year, as well as a method display_info() to present the vehicle's information. The Car class is the derived class that inherits from Vehicle and adds an additional attribute fuel_type.\n",
    "\n",
    "In the Car constructor, we use super().__init__(make, model, year) to call the constructor of the parent class Vehicle, ensuring that the common attributes are initialized properly. We also override the display_info() method in the Car class to add the fuel_type attribute to the displayed information.\n",
    "\n",
    "When we create an instance of the Car class and call its display_info() method, it shows the combined information from the base class Vehicle and the additional information specific to the Car class."
   ]
  },
  {
   "cell_type": "code",
   "execution_count": 12,
   "metadata": {},
   "outputs": [
    {
     "name": "stdout",
     "output_type": "stream",
     "text": [
      "Vehicle Info: 2022 Toyota Camry\n",
      "Car Info: 2023 Ford Mustang, Fuel Type: Gasoline\n"
     ]
    }
   ],
   "source": [
    "class Vehicle:\n",
    "    def __init__(self, make, model, year):\n",
    "        self.make = make\n",
    "        self.model = model\n",
    "        self.year = year\n",
    "    \n",
    "    def display_info(self):\n",
    "        return f\"{self.year} {self.make} {self.model}\"\n",
    "\n",
    "class Car(Vehicle):\n",
    "    def __init__(self, make, model, year, fuel_type):\n",
    "        super().__init__(make, model, year)\n",
    "        self.fuel_type = fuel_type\n",
    "    \n",
    "    def display_info(self):\n",
    "        base_info = super().display_info()  # Call the parent class method\n",
    "        return f\"{base_info}, Fuel Type: {self.fuel_type}\"\n",
    "\n",
    "# Creating instances of the classes\n",
    "vehicle = Vehicle(\"Toyota\", \"Camry\", 2022)\n",
    "car = Car(\"Ford\", \"Mustang\", 2023, \"Gasoline\")\n",
    "\n",
    "# Displaying information\n",
    "print(\"Vehicle Info:\", vehicle.display_info())\n",
    "print(\"Car Info:\", car.display_info())"
   ]
  },
  {
   "cell_type": "markdown",
   "metadata": {},
   "source": [
    "In this example, we've defined a base class Vehicle with the attributes make, model, and year. It also has a method called display_info() that returns a formatted string with the vehicle's information.\n",
    "\n",
    "The derived class Car inherits from Vehicle and adds an additional attribute fuel_type. It overrides the display_info() method to include the fuel type along with the vehicle's base information. In the overridden method, we use the super() function to call the display_info() method of the parent class and then add the fuel type information."
   ]
  },
  {
   "cell_type": "markdown",
   "metadata": {},
   "source": [
    "## 7. Create a base class called \"Employee\" with attributes like \"name\" and \"salary.\" Derive two classes, \"Manager\" and \"Developer,\" from \"Employee.\" Add an additional attribute called \"department\" for the \"Manager\" class and \"programming_language\" for the \"Developer\" class."
   ]
  },
  {
   "cell_type": "code",
   "execution_count": 14,
   "metadata": {},
   "outputs": [
    {
     "name": "stdout",
     "output_type": "stream",
     "text": [
      "Name: Emong Paul, Salary: $80000, Department: Operations\n",
      "Name: Emong Junior, Salary: $60000, Programming Language: Python\n"
     ]
    }
   ],
   "source": [
    "class Employee:\n",
    "    def __init__(self, name, salary):\n",
    "        self.name = name\n",
    "        self.salary = salary\n",
    "    \n",
    "    def display_info(self):\n",
    "        return f\"Name: {self.name}, Salary: ${self.salary}\"\n",
    "\n",
    "class Manager(Employee):\n",
    "    def __init__(self, name, salary, department):\n",
    "        super().__init__(name, salary)  # Call base class constructor\n",
    "        self.department = department\n",
    "    \n",
    "    def display_info(self):\n",
    "        employee_info = super().display_info()  # Call base class method\n",
    "        return f\"{employee_info}, Department: {self.department}\"\n",
    "\n",
    "class Developer(Employee):\n",
    "    def __init__(self, name, salary, programming_language):\n",
    "        super().__init__(name, salary)  # Call base class constructor\n",
    "        self.programming_language = programming_language\n",
    "    \n",
    "    def display_info(self):\n",
    "        employee_info = super().display_info()  # Call base class method\n",
    "        return f\"{employee_info}, Programming Language: {self.programming_language}\"\n",
    "\n",
    "# Create instances of the derived classes\n",
    "manager = Manager(\"Emong Paul\", 80000, \"Operations\")\n",
    "developer = Developer(\"Emong Junior\", 60000, \"Python\")\n",
    "\n",
    "# Display information about the employees\n",
    "print(manager.display_info())\n",
    "print(developer.display_info())"
   ]
  },
  {
   "cell_type": "markdown",
   "metadata": {},
   "source": [
    "In this example, the Employee class is the base class with attributes \"name\" and \"salary.\" It has a method display_info() that returns a formatted string containing the employee's information.\n",
    "\n",
    "The Manager class is derived from the Employee class and adds an additional attribute \"department.\" The Developer class is also derived from the Employee class and adds an additional attribute \"programming_language.\"\n",
    "\n",
    "Both derived classes' constructors call the base class constructor using super().__init__() to initialize the inherited attributes. They also override the display_info() method to include the new attributes and call the base class's display_info() method using super().\n",
    "\n",
    "Instances of the Manager and Developer classes are created with different attributes, and their information is displayed using the overridden display_info() method. This example illustrates how inheritance allows you to create specialized classes with additional attributes while reusing common functionality from the base class."
   ]
  },
  {
   "cell_type": "markdown",
   "metadata": {},
   "source": [
    "## 8. Design a base class called \"Shape\" with attributes like \"colour\" and \"border_width.\" Create derived classes, \"Rectangle\" and \"Circle,\" that inherit from \"Shape\" and add specific attributes like \"length\" and \"width\" for the \"Rectangle\" class and \"radius\" for the \"Circle\" class."
   ]
  },
  {
   "cell_type": "code",
   "execution_count": 15,
   "metadata": {},
   "outputs": [
    {
     "name": "stdout",
     "output_type": "stream",
     "text": [
      "Colour: Blue, Border Width: 2, Length: 10, Width: 5\n",
      "Colour: Red, Border Width: 1, Radius: 7\n"
     ]
    }
   ],
   "source": [
    "class Shape:\n",
    "    def __init__(self, colour, border_width):\n",
    "        self.colour = colour\n",
    "        self.border_width = border_width\n",
    "    \n",
    "    def display_info(self):\n",
    "        return f\"Colour: {self.colour}, Border Width: {self.border_width}\"\n",
    "\n",
    "class Rectangle(Shape):\n",
    "    def __init__(self, colour, border_width, length, width):\n",
    "        super().__init__(colour, border_width)\n",
    "        self.length = length\n",
    "        self.width = width\n",
    "    \n",
    "    def display_info(self):\n",
    "        shape_info = super().display_info()\n",
    "        return f\"{shape_info}, Length: {self.length}, Width: {self.width}\"\n",
    "\n",
    "class Circle(Shape):\n",
    "    def __init__(self, colour, border_width, radius):\n",
    "        super().__init__(colour, border_width)\n",
    "        self.radius = radius\n",
    "    \n",
    "    def display_info(self):\n",
    "        shape_info = super().display_info()\n",
    "        return f\"{shape_info}, Radius: {self.radius}\"\n",
    "\n",
    "# Create instances of the derived classes\n",
    "rectangle = Rectangle(\"Blue\", 2, 10, 5)\n",
    "circle = Circle(\"Red\", 1, 7)\n",
    "\n",
    "# Display information about the shapes\n",
    "print(rectangle.display_info())\n",
    "print(circle.display_info())"
   ]
  },
  {
   "cell_type": "markdown",
   "metadata": {},
   "source": [
    "In this example, the Shape class is the base class with attributes \"colour\" and \"border_width.\" It has a method display_info() that returns a formatted string containing the shape's information.\n",
    "\n",
    "The Rectangle class is derived from the Shape class and adds additional attributes \"length\" and \"width.\" The Rectangle class constructor calls the base class constructor using super().__init__() to initialize the inherited attributes. It also overrides the display_info() method to include the \"length\" and \"width\" attributes.\n",
    "\n",
    "Similarly, the Circle class is derived from the Shape class and adds an additional attribute \"radius.\" It follows the same pattern of calling the base class constructor and overriding the display_info() method.\n",
    "\n",
    "Instances of the Rectangle and Circle classes, rectangle and circle, are created with different attributes, and their information is displayed using the overridden display_info() method.\n",
    "\n",
    "This example illustrates how inheritance allows you to create specialized classes with specific attributes while reusing the common attributes and methods from the base class."
   ]
  },
  {
   "cell_type": "markdown",
   "metadata": {},
   "source": [
    "## 9. Create a base class called \"Device\" with attributes like \"brand\" and \"model.\" Derive two classes, \"Phone\" and \"Tablet,\" from \"Device.\" Add specific attributes like \"screen_size\" for the \"Phone\" class and \"battery_capacity\" for the \"Tablet\" class."
   ]
  },
  {
   "cell_type": "code",
   "execution_count": 16,
   "metadata": {},
   "outputs": [
    {
     "name": "stdout",
     "output_type": "stream",
     "text": [
      "Brand: Apple, Model: iPhone 12, Screen Size: 6.1 inches\n",
      "Brand: Samsung, Model: Galaxy Tab S7, Battery Capacity: 8000 mAh\n"
     ]
    }
   ],
   "source": [
    "class Device:\n",
    "    def __init__(self, brand, model):\n",
    "        self.brand = brand\n",
    "        self.model = model\n",
    "    \n",
    "    def display_info(self):\n",
    "        return f\"Brand: {self.brand}, Model: {self.model}\"\n",
    "\n",
    "class Phone(Device):\n",
    "    def __init__(self, brand, model, screen_size):\n",
    "        super().__init__(brand, model)  # Call base class constructor\n",
    "        self.screen_size = screen_size\n",
    "    \n",
    "    def display_info(self):\n",
    "        device_info = super().display_info()  # Call base class method\n",
    "        return f\"{device_info}, Screen Size: {self.screen_size}\"\n",
    "\n",
    "class Tablet(Device):\n",
    "    def __init__(self, brand, model, battery_capacity):\n",
    "        super().__init__(brand, model)  # Call base class constructor\n",
    "        self.battery_capacity = battery_capacity\n",
    "    \n",
    "    def display_info(self):\n",
    "        device_info = super().display_info()  # Call base class method\n",
    "        return f\"{device_info}, Battery Capacity: {self.battery_capacity}\"\n",
    "\n",
    "# Create instances of the derived classes\n",
    "phone = Phone(\"Apple\", \"iPhone 12\", \"6.1 inches\")\n",
    "tablet = Tablet(\"Samsung\", \"Galaxy Tab S7\", \"8000 mAh\")\n",
    "\n",
    "# Display information about the devices\n",
    "print(phone.display_info())\n",
    "print(tablet.display_info())"
   ]
  },
  {
   "cell_type": "markdown",
   "metadata": {},
   "source": [
    "In this example, the Device class is the base class with attributes \"brand\" and \"model.\" It has a method display_info() that returns a formatted string containing the device's information.\n",
    "\n",
    "The Phone class is derived from the Device class and adds an additional attribute \"screen_size.\" The Phone class constructor calls the base class constructor using super().__init__() to initialize the inherited attributes. The Phone class also overrides the display_info() method to include the \"screen_size\" attribute and call the base class's display_info() method using super().\n",
    "\n",
    "Similarly, the Tablet class is derived from the Device class and adds an additional attribute \"battery_capacity.\" It follows the same pattern of calling the base class constructor and overriding the display_info() method.\n",
    "\n",
    "Instances of the Phone and Tablet classes are created with different attributes, and their information is displayed using the overridden display_info() method.\n",
    "\n",
    "This example demonstrates how inheritance allows you to create specialized classes based on a common base class, promoting code reuse and maintaining a consistent structure."
   ]
  },
  {
   "cell_type": "markdown",
   "metadata": {},
   "source": [
    "## 10. Create a base class called \"BankAccount\" with attributes like \"account_number\" and \"balance.\" Derive two classes, \"SavingsAccount\" and \"CheckingAccount,\" from \"BankAccount.\" Add specific methods like \"calculate_interest\" for the \"SavingsAccount\" class and \"deduct_fees\" for the \"CheckingAccount\" class."
   ]
  },
  {
   "cell_type": "code",
   "execution_count": 17,
   "metadata": {},
   "outputs": [
    {
     "name": "stdout",
     "output_type": "stream",
     "text": [
      "Account Number: SA123456, Balance: $1025.00\n",
      "Account Number: CA987654, Balance: $1490.00\n"
     ]
    }
   ],
   "source": [
    "class BankAccount:\n",
    "    def __init__(self, account_number, balance):\n",
    "        self.account_number = account_number\n",
    "        self.balance = balance\n",
    "    \n",
    "    def display_info(self):\n",
    "        return f\"Account Number: {self.account_number}, Balance: ${self.balance:.2f}\"\n",
    "\n",
    "class SavingsAccount(BankAccount):\n",
    "    def __init__(self, account_number, balance, interest_rate):\n",
    "        super().__init__(account_number, balance)  # Call base class constructor\n",
    "        self.interest_rate = interest_rate\n",
    "    \n",
    "    def calculate_interest(self):\n",
    "        interest = self.balance * (self.interest_rate / 100)\n",
    "        self.balance += interest\n",
    "\n",
    "class CheckingAccount(BankAccount):\n",
    "    def __init__(self, account_number, balance, monthly_fee):\n",
    "        super().__init__(account_number, balance)  # Call base class constructor\n",
    "        self.monthly_fee = monthly_fee\n",
    "    \n",
    "    def deduct_fees(self):\n",
    "        self.balance -= self.monthly_fee\n",
    "\n",
    "# Create instances of the derived classes\n",
    "savings_account = SavingsAccount(\"SA123456\", 1000, 2.5)\n",
    "checking_account = CheckingAccount(\"CA987654\", 1500, 10)\n",
    "\n",
    "# Perform operations specific to each account type\n",
    "savings_account.calculate_interest()\n",
    "checking_account.deduct_fees()\n",
    "\n",
    "# Display information about the accounts\n",
    "print(savings_account.display_info())\n",
    "print(checking_account.display_info())"
   ]
  },
  {
   "cell_type": "markdown",
   "metadata": {},
   "source": [
    "In this example, the BankAccount class is the base class with attributes \"account_number\" and \"balance.\" It has a method display_info() that returns a formatted string containing the account's information.\n",
    "\n",
    "The SavingsAccount class is derived from the BankAccount class and adds an additional attribute \"interest_rate.\" The SavingsAccount class constructor calls the base class constructor using super().__init__() to initialize the inherited attributes. The SavingsAccount class also includes a method calculate_interest() to calculate and add interest to the account balance.\n",
    "\n",
    "Similarly, the CheckingAccount class is derived from the BankAccount class and adds an additional attribute \"monthly_fee.\" It follows the same pattern of calling the base class constructor and includes a method deduct_fees() to deduct monthly fees from the account balance.\n",
    "\n",
    "Instances of the SavingsAccount and CheckingAccount classes are created with different attributes, and their methods are called to perform account-specific operations. The account information is then displayed using the display_info() method.\n",
    "\n",
    "This example showcases how inheritance allows you to create specialized classes based on a common base class, enabling code reuse and maintaining a structured approach."
   ]
  },
  {
   "cell_type": "code",
   "execution_count": null,
   "metadata": {},
   "outputs": [],
   "source": []
  }
 ],
 "metadata": {
  "kernelspec": {
   "display_name": "Python 3 (ipykernel)",
   "language": "python",
   "name": "python3"
  },
  "language_info": {
   "codemirror_mode": {
    "name": "ipython",
    "version": 3
   },
   "file_extension": ".py",
   "mimetype": "text/x-python",
   "name": "python",
   "nbconvert_exporter": "python",
   "pygments_lexer": "ipython3",
   "version": "3.11.4"
  }
 },
 "nbformat": 4,
 "nbformat_minor": 2
}
