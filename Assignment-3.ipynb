{
 "cells": [
  {
   "cell_type": "markdown",
   "metadata": {},
   "source": [
    "#### 1. Why are functions advantageous to have in your programs?"
   ]
  },
  {
   "cell_type": "markdown",
   "metadata": {},
   "source": [
    "Functions are advantageous to have in your programs for several reasons:\n",
    "\n",
    "1. Modularity: Functions promote modularity, which means breaking down a complex program into smaller, manageable pieces. This makes the code more organized, easier to understand, and maintainable. You can think of functions as building blocks that you can use and reuse across different parts of your code.\n",
    "\n",
    "2. Code Reusability: By defining functions, you can reuse the same block of code in multiple places within your program or even in different projects. This reduces code duplication and saves development time. If you find a bug or need to make improvements, you only need to update the function once, and it will be reflected wherever it is used.\n",
    "\n",
    "3. Readability: Functions allow you to give meaningful names to specific blocks of code, making your code more self-explanatory and readable. This is especially beneficial for other developers who might need to work on or understand your code.\n",
    "\n",
    "4. Abstraction: Functions hide the implementation details of a particular task behind a well-defined interface. When using a function, you don't need to know how it works internally; you only need to know what inputs it expects and what output it produces. This abstraction simplifies the overall program structure.\n",
    "\n",
    "5. Testing and Debugging: Functions make it easier to test and debug your code. Since functions perform specific tasks, you can test them individually and ensure they work correctly. This simplifies the debugging process if something goes wrong.\n",
    "\n",
    "6. Collaboration: When multiple developers work on a project, functions allow them to divide the work into smaller, manageable parts. Each developer can work on a separate function, and once combined, the functions create a cohesive and functional program.\n",
    "\n",
    "7. Performance Optimization: Functions can help optimize performance by allowing you to encapsulate computationally expensive operations. By reusing functions and avoiding redundant calculations, you can improve the overall efficiency of your code.\n",
    "\n",
    "8. Understanding Flow: Functions help in understanding the flow of a program. By examining the function calls, you can trace the execution path and understand how different parts of the code interact with each other.\n",
    "\n",
    "9. Standard Library and Third-party Functions: Programming languages come with built-in functions and provide access to various libraries with pre-defined functions. These libraries cover a wide range of tasks, enabling you to accomplish complex tasks without having to implement everything from scratch."
   ]
  },
  {
   "cell_type": "markdown",
   "metadata": {},
   "source": [
    "#### 2. When does the code in a function run: when it's specified or when it's called?"
   ]
  },
  {
   "cell_type": "markdown",
   "metadata": {},
   "source": [
    "The code in a function runs when the function is called, not when it's specified.\n",
    "\n",
    "Defining a function involves creating a block of code with a specific name and a set of parameters (if any). This code block is not executed at the point of definition; instead, it serves as a blueprint for the task that the function is intended to perform.\n",
    "\n",
    "When you want the function to execute and carry out its defined task, you call the function by its name and pass any required arguments. At this point, the code inside the function is executed, and the function performs its designated operations.\n",
    "\n",
    "Here's a simple example in Python to illustrate this:"
   ]
  },
  {
   "cell_type": "code",
   "execution_count": 1,
   "metadata": {},
   "outputs": [
    {
     "name": "stdout",
     "output_type": "stream",
     "text": [
      "Hello, John!\n"
     ]
    }
   ],
   "source": [
    "# Function definition\n",
    "def greet(name):\n",
    "    print(f\"Hello, {name}!\")\n",
    "\n",
    "# Function call\n",
    "greet(\"John\")\n"
   ]
  },
  {
   "cell_type": "markdown",
   "metadata": {},
   "source": [
    "#### 3. What statement creates a function?"
   ]
  },
  {
   "cell_type": "markdown",
   "metadata": {},
   "source": [
    "The def statement is used to create a function. The def statement is short for \"define,\" and it is specifically designed for defining functions.\n",
    "\n",
    "Here's the general syntax for creating a function using the def statement in Python:"
   ]
  },
  {
   "cell_type": "code",
   "execution_count": 2,
   "metadata": {},
   "outputs": [],
   "source": [
    "def function_name(parameters):\n",
    "    # Function body (code block)\n",
    "    # ...\n",
    "    # ...\n",
    "    return result  # Optional return statement\n"
   ]
  },
  {
   "cell_type": "markdown",
   "metadata": {},
   "source": [
    "Let's break down the components of this syntax:\n",
    "\n",
    "- def: This keyword signals the start of a function definition.\n",
    "- function_name: This is the name you give to your function. It follows the same naming rules as variable names (alphanumeric and underscores, cannot start with a digit).\n",
    "- parameters: These are optional placeholders that represent values the function can receive as inputs (arguments) when it's called. If the function doesn't take any parameters, you can leave the parentheses empty.\n",
    "- : A colon is used to indicate the beginning of the function body, which is a block of code indented below the def statement.\n",
    "- Function body: This is where you write the code that the function will execute when it's called.\n",
    "- return: This keyword is used to specify the value that the function will return when it completes its task. If you don't provide a return statement, the function will implicitly return None when it reaches the end.\n",
    "\n",
    "Here's an example of a simple function in Python:"
   ]
  },
  {
   "cell_type": "code",
   "execution_count": 3,
   "metadata": {},
   "outputs": [],
   "source": [
    "def add_numbers(a, b):\n",
    "    result = a + b\n",
    "    return result"
   ]
  },
  {
   "cell_type": "markdown",
   "metadata": {},
   "source": [
    "In this example, we define a function called add_numbers that takes two parameters a and b. The function adds these two numbers together and returns the result.\n",
    "\n",
    "Once you define a function using the def statement, you can call it elsewhere in your code by using its name and providing the required arguments. For example:"
   ]
  },
  {
   "cell_type": "code",
   "execution_count": 4,
   "metadata": {},
   "outputs": [
    {
     "name": "stdout",
     "output_type": "stream",
     "text": [
      "8\n"
     ]
    }
   ],
   "source": [
    "sum_result = add_numbers(5, 3)\n",
    "print(sum_result)  # Output: 8"
   ]
  },
  {
   "cell_type": "markdown",
   "metadata": {},
   "source": [
    "#### 4. What is the difference between a function and a function call?"
   ]
  },
  {
   "cell_type": "markdown",
   "metadata": {},
   "source": [
    "A function and a function call are two related concepts in programming, but they have distinct meanings and roles:\n",
    "\n",
    "1. Function:\n",
    "\n",
    "- A function is a block of code that performs a specific task or set of tasks. It is a self-contained unit of code that can be defined once and executed (called) multiple times throughout the program.\n",
    "- Functions are created using a specific syntax or keyword provided by the programming language, such as def in Python.\n",
    "- Functions are defined with a name, a set of parameters (optional), and a block of code that is executed when the function is called.\n",
    "- Functions allow you to organize your code, promote reusability, and make the program more modular and easier to maintain.\n",
    "\n",
    "2. Function Call:\n",
    "\n",
    "- A function call is an instruction to execute the code inside a specific function. When you call a function, you are telling the program to execute the tasks defined within that function's code block.\n",
    "- To call a function, you use the function's name followed by parentheses containing any required arguments (if the function has parameters). The arguments provide the necessary data for the function to perform its task.\n",
    "- When the function call is encountered in the program's flow, the control is transferred to the function's code block, and the code inside the function is executed. Once the function's execution is complete, the control returns to the point in the program immediately after the function call.\n",
    "\n",
    "Here's a brief example to illustrate the difference:"
   ]
  },
  {
   "cell_type": "code",
   "execution_count": 5,
   "metadata": {},
   "outputs": [
    {
     "name": "stdout",
     "output_type": "stream",
     "text": [
      "8\n"
     ]
    }
   ],
   "source": [
    "# Function definition\n",
    "def add_numbers(a, b):\n",
    "    result = a + b\n",
    "    return result\n",
    "\n",
    "# Function call\n",
    "sum_result = add_numbers(5, 3)\n",
    "print(sum_result)  # Output: 8"
   ]
  },
  {
   "cell_type": "markdown",
   "metadata": {},
   "source": [
    "In this example, we have a function called add_numbers, which takes two parameters a and b, and returns their sum. The function is defined using the def keyword. When we call the function with add_numbers(5, 3), it performs the addition and returns the result, which is then assigned to the variable sum_result. The function call (add_numbers(5, 3)) triggers the execution of the code inside the add_numbers function."
   ]
  },
  {
   "cell_type": "markdown",
   "metadata": {},
   "source": [
    "#### 5. How many global scopes are there in a Python program? How many local scopes?"
   ]
  },
  {
   "cell_type": "markdown",
   "metadata": {},
   "source": [
    "In a Python program, there is only one global scope, and multiple local scopes can exist.\n",
    "\n",
    "1. Global Scope:\n",
    "\n",
    "- The global scope refers to the top-level scope of the program, outside of any function or class.\n",
    "- Variables defined in the global scope are accessible throughout the entire program, including inside functions or classes.\n",
    "- Global variables can be accessed and modified from within functions, but if you want to reassign a global variable inside a function, you need to use the global keyword to indicate that you are referring to the global variable and not creating a new local variable.\n",
    "\n",
    "2. Local Scopes:\n",
    "\n",
    "- A local scope is created whenever a function is called or a new block is entered, such as in a loop or conditional statement.\n",
    "- Variables defined within a local scope are only accessible within that specific scope (e.g., inside a function) and are not visible to the rest of the program or other functions.\n",
    "- Each time a function is called, a new local scope is created, and when the function completes its execution, the local scope is destroyed, and any local variables are deallocated.\n",
    "\n",
    "Here's a simple example to illustrate the concept of global and local scopes in Python:"
   ]
  },
  {
   "cell_type": "code",
   "execution_count": 1,
   "metadata": {},
   "outputs": [
    {
     "name": "stdout",
     "output_type": "stream",
     "text": [
      "Inside the function: global_var = 10\n",
      "Inside the function: local_var = 5\n",
      "Outside the function: global_var = 10\n"
     ]
    }
   ],
   "source": [
    "# Global scope\n",
    "global_var = 10\n",
    "\n",
    "def some_function():\n",
    "    # Local scope\n",
    "    local_var = 5\n",
    "    print(\"Inside the function: global_var =\", global_var)\n",
    "    print(\"Inside the function: local_var =\", local_var)\n",
    "\n",
    "some_function()\n",
    "\n",
    "print(\"Outside the function: global_var =\", global_var)\n",
    "# print(\"Outside the function: local_var =\", local_var)  # This will raise an error\n"
   ]
  },
  {
   "cell_type": "markdown",
   "metadata": {},
   "source": [
    "In this example, global_var is defined in the global scope and is accessible both inside and outside the function some_function. However, local_var is defined within the function's local scope and can only be accessed and used inside the function. If you try to access local_var outside the function, it will raise an error."
   ]
  },
  {
   "cell_type": "markdown",
   "metadata": {},
   "source": [
    "#### 6. What happens to variables in a local scope when the function call returns?"
   ]
  },
  {
   "cell_type": "markdown",
   "metadata": {},
   "source": [
    "When a function call returns in Python, the local scope, along with all the variables defined within that scope, is destroyed. This process is known as \"variable deallocation\" or \"cleaning up the local scope.\"\n",
    "\n",
    "When the function execution reaches its end or encounters a return statement, the local scope is no longer needed, and Python removes it from memory. Any variables defined within the local scope are also deallocated and no longer accessible.\n",
    "\n",
    "Here's an example to demonstrate this behavior:"
   ]
  },
  {
   "cell_type": "code",
   "execution_count": 2,
   "metadata": {},
   "outputs": [
    {
     "name": "stdout",
     "output_type": "stream",
     "text": [
      "Sum: 30\n"
     ]
    }
   ],
   "source": [
    "def my_function():\n",
    "    x = 10\n",
    "    y = 20\n",
    "    result = x + y\n",
    "    return result\n",
    "\n",
    "# Call the function and store the returned value in 'sum_result'\n",
    "sum_result = my_function()\n",
    "\n",
    "# Attempt to access 'x' and 'y' outside the function\n",
    "print(\"Sum:\", sum_result)\n",
    "# print(\"x:\", x)  # This will raise an error: NameError: name 'x' is not defined\n",
    "# print(\"y:\", y)  # This will also raise an error: NameError: name 'y' is not defined\n"
   ]
  },
  {
   "cell_type": "markdown",
   "metadata": {},
   "source": [
    "In this example, my_function defines two local variables, x and y, within its local scope. When the function is called and returns a value, the local scope is destroyed, and the variables x and y are deallocated. Therefore, attempting to access x and y outside the function results in a NameError because they no longer exist in the current scope.\n",
    "\n",
    "It's essential to understand this behavior to avoid potential bugs and unintended side effects in your code. If you need to use the values of variables outside a function, you should either return the values explicitly using return or define the variables in the global scope (outside the function) before calling the function and modify them accordingly within the function using the global keyword."
   ]
  },
  {
   "cell_type": "markdown",
   "metadata": {},
   "source": [
    "#### 7. What is the concept of a return value? Is it possible to have a return value in an expression?"
   ]
  },
  {
   "cell_type": "markdown",
   "metadata": {},
   "source": [
    "The concept of a \"return value\" is fundamental to functions in programming. When a function is called and executes its code, it can produce a result or a value as an output. This output is referred to as the \"return value\" of the function.\n",
    "\n",
    "In Python programming language, you can use the return statement inside a function to specify what value the function should return when it is called. The syntax for the return statement is as follows:"
   ]
  },
  {
   "cell_type": "code",
   "execution_count": 6,
   "metadata": {},
   "outputs": [],
   "source": [
    "def some_function(parameters):\n",
    "    # Function body (code block)\n",
    "    # ...\n",
    "    return some_value\n"
   ]
  },
  {
   "cell_type": "markdown",
   "metadata": {},
   "source": [
    "Here's an example:"
   ]
  },
  {
   "cell_type": "code",
   "execution_count": 7,
   "metadata": {},
   "outputs": [],
   "source": [
    "def add_numbers(a, b):\n",
    "    result = a + b\n",
    "    return result"
   ]
  },
  {
   "cell_type": "markdown",
   "metadata": {},
   "source": [
    "In this example, the function add_numbers takes two parameters a and b, performs the addition, and returns the result. When you call this function with arguments, it returns the sum of a and b as the output.\n",
    "\n",
    "Yes, it is possible to use a return value in an expression. When a function returns a value, you can use that value directly in an expression, assign it to a variable, pass it as an argument to another function, or perform any other operation you would with any other value.\n",
    "\n",
    "Here's an example of using the return value in an expression:"
   ]
  },
  {
   "cell_type": "code",
   "execution_count": 8,
   "metadata": {},
   "outputs": [
    {
     "name": "stdout",
     "output_type": "stream",
     "text": [
      "14\n"
     ]
    }
   ],
   "source": [
    "def multiply_numbers(a, b):\n",
    "    result = a * b\n",
    "    return result\n",
    "\n",
    "# Using the return value in an expression\n",
    "product = multiply_numbers(3, 4) + 2\n",
    "print(product)  # Output: 14"
   ]
  },
  {
   "cell_type": "markdown",
   "metadata": {},
   "source": [
    "In this example, the multiply_numbers function returns the product of a and b, and that return value is then used in the expression multiply_numbers(3, 4) + 2, where multiply_numbers(3, 4) evaluates to 12, and the final result of the expression is 12 + 2, which is 14."
   ]
  },
  {
   "cell_type": "markdown",
   "metadata": {},
   "source": [
    "#### 8. If a function does not have a return statement, what is the return value of a call to that function?"
   ]
  },
  {
   "cell_type": "markdown",
   "metadata": {},
   "source": [
    "If a function does not have a return statement, the return value of a call to that function will be a special Python object called None. In Python, None is used to represent the absence of a value, similar to null in other programming languages.\n",
    "\n",
    "When a function lacks a return statement or reaches the end of the function without encountering a return, Python implicitly returns None as the default return value. This behavior is specific to functions without explicit return statements.\n",
    "\n",
    "Here's an example to illustrate this:"
   ]
  },
  {
   "cell_type": "code",
   "execution_count": 11,
   "metadata": {},
   "outputs": [
    {
     "name": "stdout",
     "output_type": "stream",
     "text": [
      "Hello, John!\n",
      "None\n"
     ]
    }
   ],
   "source": [
    "def greet(name):\n",
    "    print(f\"Hello, {name}!\")\n",
    "\n",
    "result = greet(\"John\")\n",
    "print(result)  # Output: None"
   ]
  },
  {
   "cell_type": "markdown",
   "metadata": {},
   "source": [
    "In this example, the greet function does not have a return statement. It prints a greeting message but does not return any specific value. When you call the function greet(\"John\"), it will print \"Hello, John!\" but won't return any value. The variable result is assigned the return value of the function, which is None, and when you print result, you will see None as the output.\n",
    "\n",
    "If you want a function to explicitly return a value, you need to include a return statement with the desired value inside the function body. Otherwise, Python will implicitly return None for functions without explicit return statements."
   ]
  },
  {
   "cell_type": "markdown",
   "metadata": {},
   "source": [
    "#### 9. How do you make a function variable refer to the global variable?"
   ]
  },
  {
   "cell_type": "markdown",
   "metadata": {},
   "source": [
    "In Python, if you want to make a function variable refer to a global variable, you can use the global keyword within the function. The global keyword informs Python that the variable you are using inside the function should be considered as a reference to the global variable with the same name.\n",
    "\n",
    "Here's an example to demonstrate how to use the global keyword:"
   ]
  },
  {
   "cell_type": "code",
   "execution_count": 12,
   "metadata": {},
   "outputs": [
    {
     "name": "stdout",
     "output_type": "stream",
     "text": [
      "Before function call: 10\n",
      "After function call: 20\n"
     ]
    }
   ],
   "source": [
    "global_var = 10\n",
    "\n",
    "def update_global_var():\n",
    "    global global_var\n",
    "    global_var = 20\n",
    "\n",
    "print(\"Before function call:\", global_var)  # Output: Before function call: 10\n",
    "\n",
    "update_global_var()\n",
    "\n",
    "print(\"After function call:\", global_var)  # Output: After function call: 20"
   ]
  },
  {
   "cell_type": "markdown",
   "metadata": {},
   "source": [
    "In the example above, we have a global variable named global_var with an initial value of 10. Inside the function update_global_var(), we use the global keyword followed by the variable name (global_var) to indicate that we want to refer to the global variable within the function.\n",
    "\n",
    "When we call the function update_global_var(), it updates the value of the global variable global_var to 20. As a result, when we print the value of global_var after the function call, it reflects the updated value of 20.\n",
    "\n",
    "Keep in mind that using the global keyword should be done with caution, as modifying global variables inside functions can make your code harder to understand and maintain. It is generally recommended to pass values as function arguments and return results as the function's return value to avoid unnecessary global variable modifications."
   ]
  },
  {
   "cell_type": "markdown",
   "metadata": {},
   "source": [
    "#### 10. What is the data type of None?"
   ]
  },
  {
   "cell_type": "markdown",
   "metadata": {},
   "source": [
    "In Python, None is a special constant that represents the absence of a value or a null value. It is used to indicate that a variable or expression has no value or that a function does not return any specific result.\n",
    "\n",
    "The data type of None is actually a unique data type called NoneType. It is the only instance of the NoneType class, and there is only one value of None, which is None itself.\n",
    "\n",
    "You can check the data type of None using the type() function:"
   ]
  },
  {
   "cell_type": "code",
   "execution_count": 13,
   "metadata": {},
   "outputs": [
    {
     "name": "stdout",
     "output_type": "stream",
     "text": [
      "<class 'NoneType'>\n"
     ]
    }
   ],
   "source": [
    "result = None\n",
    "print(type(result))  # Output: <class 'NoneType'>"
   ]
  },
  {
   "cell_type": "markdown",
   "metadata": {},
   "source": [
    "As shown in the example above, the type() function reveals that result is of type NoneType.\n",
    "\n",
    "None is often used as a default return value for functions that don't explicitly return anything. Additionally, it can be used in various situations to represent the absence of a value or to initialize variables when you don't want to assign any specific value to them yet."
   ]
  },
  {
   "cell_type": "markdown",
   "metadata": {},
   "source": [
    "#### 11. What does the sentence import areallyourpetsnamederic do?"
   ]
  },
  {
   "cell_type": "markdown",
   "metadata": {},
   "source": [
    "The sentence \"import areallyourpetsnamederic\" is not a standard English sentence and doesn't convey a meaningful message in natural language. However, in Python, it is a syntactically valid import statement that would try to import a module named \"areallyourpetsnamederic\" into the current Python script or program.\n",
    "\n",
    "In Python, the import statement is used to bring functionality from other modules into your current program. Modules are files containing Python code that define functions, classes, and variables, among other things. When you use import, Python looks for the specified module and makes its contents available for use within your code.\n",
    "\n",
    "So, if there is a module named \"areallyourpetsnamederic.py\" in the same directory or in one of the directories in Python's search path, the import statement would work without raising an error. Otherwise, it would raise an ImportError indicating that the specified module cannot be found.\n",
    "\n",
    "In any case, without additional context or an actual module named \"areallyourpetsnamederic,\" the import statement itself doesn't have any significant meaning. It's essential to use meaningful module names in practice to enhance code readability and avoid confusion."
   ]
  },
  {
   "cell_type": "markdown",
   "metadata": {},
   "source": [
    "#### 12. If you had a bacon() feature in a spam module, what would you call it after importing spam?"
   ]
  },
  {
   "cell_type": "markdown",
   "metadata": {},
   "source": [
    "After importing the spam module, you would call the bacon() feature using the following syntax:"
   ]
  },
  {
   "cell_type": "code",
   "execution_count": 14,
   "metadata": {},
   "outputs": [
    {
     "ename": "ModuleNotFoundError",
     "evalue": "No module named 'spam'",
     "output_type": "error",
     "traceback": [
      "\u001b[0;31m---------------------------------------------------------------------------\u001b[0m",
      "\u001b[0;31mModuleNotFoundError\u001b[0m                       Traceback (most recent call last)",
      "Cell \u001b[0;32mIn [14], line 1\u001b[0m\n\u001b[0;32m----> 1\u001b[0m \u001b[38;5;28;01mimport\u001b[39;00m \u001b[38;5;21;01mspam\u001b[39;00m\n\u001b[1;32m      3\u001b[0m spam\u001b[38;5;241m.\u001b[39mbacon()\n",
      "\u001b[0;31mModuleNotFoundError\u001b[0m: No module named 'spam'"
     ]
    }
   ],
   "source": [
    "import spam\n",
    "\n",
    "spam.bacon()"
   ]
  },
  {
   "cell_type": "markdown",
   "metadata": {},
   "source": [
    "In Python, when you import a module using the import statement, you need to prefix the function, variable, or class defined in that module with the module name followed by a dot (.). This way, you access the desired feature within the imported module.\n",
    "\n",
    "In this case, if the spam module contains a function called bacon(), you can call it as shown above using spam.bacon(). This ensures that you're explicitly referring to the bacon() function from the spam module and not another function with the same name from a different module."
   ]
  },
  {
   "cell_type": "markdown",
   "metadata": {},
   "source": [
    "#### 13. What can you do to save a programme from crashing if it encounters an error?"
   ]
  },
  {
   "cell_type": "markdown",
   "metadata": {},
   "source": [
    "To prevent a program from crashing when it encounters an error, you can use error handling techniques. In Python, error handling is implemented using try, except, else, and finally blocks. These blocks allow you to catch and handle errors gracefully, providing a way for your program to recover or handle exceptional situations without terminating abruptly.\n",
    "\n",
    "Here's how you can use error handling to save a program from crashing:\n",
    "\n",
    "1. Try-Except Block: Place the code that might raise an exception inside a try block. If an exception occurs within the try block, the corresponding except block is executed, allowing you to handle the error gracefully."
   ]
  },
  {
   "cell_type": "code",
   "execution_count": 15,
   "metadata": {},
   "outputs": [
    {
     "name": "stdout",
     "output_type": "stream",
     "text": [
      "Error: Division by zero\n"
     ]
    }
   ],
   "source": [
    "try:\n",
    "    # Code that may raise an exception\n",
    "    result = 10 / 0\n",
    "except ZeroDivisionError:\n",
    "    # Handle the specific exception\n",
    "    print(\"Error: Division by zero\")"
   ]
  },
  {
   "cell_type": "markdown",
   "metadata": {},
   "source": [
    "2. Multiple Except Blocks: You can have multiple except blocks to handle different types of exceptions differently."
   ]
  },
  {
   "cell_type": "code",
   "execution_count": 16,
   "metadata": {},
   "outputs": [
    {
     "name": "stdout",
     "output_type": "stream",
     "text": [
      "Error: Invalid integer format\n"
     ]
    }
   ],
   "source": [
    "try:\n",
    "    # Code that may raise an exception\n",
    "    result = int(\"not_an_integer\")\n",
    "except ValueError:\n",
    "    # Handle ValueError\n",
    "    print(\"Error: Invalid integer format\")\n",
    "except ZeroDivisionError:\n",
    "    # Handle ZeroDivisionError\n",
    "    print(\"Error: Division by zero\")"
   ]
  },
  {
   "cell_type": "markdown",
   "metadata": {},
   "source": [
    "3. Else Block: Optionally, you can include an else block after the except block. The code within the else block is executed if no exception occurs in the try block."
   ]
  },
  {
   "cell_type": "code",
   "execution_count": 17,
   "metadata": {},
   "outputs": [
    {
     "name": "stdout",
     "output_type": "stream",
     "text": [
      "Conversion successful: 42\n"
     ]
    }
   ],
   "source": [
    "try:\n",
    "    # Code that may raise an exception\n",
    "    result = int(\"42\")\n",
    "except ValueError:\n",
    "    # Handle ValueError\n",
    "    print(\"Error: Invalid integer format\")\n",
    "else:\n",
    "    # Executed if no exception occurs\n",
    "    print(\"Conversion successful:\", result)"
   ]
  },
  {
   "cell_type": "markdown",
   "metadata": {},
   "source": [
    "4. Finally Block: You can also use a finally block, which is executed regardless of whether an exception occurred or not. This block is commonly used to perform cleanup operations."
   ]
  },
  {
   "cell_type": "code",
   "execution_count": 18,
   "metadata": {},
   "outputs": [
    {
     "name": "stdout",
     "output_type": "stream",
     "text": [
      "Conversion successful: 42\n",
      "End of processing\n"
     ]
    }
   ],
   "source": [
    "try:\n",
    "    # Code that may raise an exception\n",
    "    result = int(\"42\")\n",
    "except ValueError:\n",
    "    # Handle ValueError\n",
    "    print(\"Error: Invalid integer format\")\n",
    "else:\n",
    "    # Executed if no exception occurs\n",
    "    print(\"Conversion successful:\", result)\n",
    "finally:\n",
    "    # Cleanup or final operations\n",
    "    print(\"End of processing\")"
   ]
  },
  {
   "cell_type": "markdown",
   "metadata": {},
   "source": [
    "Using error handling techniques allows your program to gracefully handle errors and continue executing instead of crashing. It also provides you with the opportunity to log error information, display appropriate messages to the user, or take alternative actions based on the type of error encountered. Remember to handle specific exceptions and avoid using a generic except block, as it may hide unexpected issues in your code."
   ]
  },
  {
   "cell_type": "markdown",
   "metadata": {},
   "source": [
    "#### 14. What is the purpose of the try clause? What is the purpose of the except clause?"
   ]
  },
  {
   "cell_type": "markdown",
   "metadata": {},
   "source": [
    "The try and except clauses are used together for error handling in Python. They allow you to gracefully handle exceptions (errors) that may occur during the execution of your code.\n",
    "\n",
    "1. Purpose of the try Clause:\n",
    "\n",
    "- The try clause is used to enclose the code that might raise an exception.\n",
    "- It is the block of code where you anticipate that an error might occur.\n",
    "- When Python encounters an exception within the try block, it immediately jumps to the corresponding except block (if one is specified) to handle the exception.\n",
    "- If no exception occurs within the try block, the except block is skipped, and the program proceeds to any code defined in the else block (if present).\n",
    "\n",
    "2. Purpose of the except Clause:\n",
    "\n",
    "- The except clause is used to define how to handle specific exceptions that occur within the try block.\n",
    "- You specify the type of exception you want to catch after the except keyword.\n",
    "- When an exception of the specified type occurs, the code within the corresponding except block is executed to handle the exception.\n",
    "- If an exception occurs, and there is no matching except block for that type of exception, the program will terminate with an error message indicating an unhandled exception (unless there is a global exception handler).\n",
    "\n",
    "Here's a basic example demonstrating the use of try and except:"
   ]
  },
  {
   "cell_type": "code",
   "execution_count": 19,
   "metadata": {},
   "outputs": [
    {
     "name": "stdout",
     "output_type": "stream",
     "text": [
      "Enter a number: 2\n",
      "Result: 5.0\n",
      "End of processing\n"
     ]
    }
   ],
   "source": [
    "try:\n",
    "    # Code that may raise an exception\n",
    "    num = int(input(\"Enter a number: \"))\n",
    "    result = 10 / num\n",
    "except ZeroDivisionError:\n",
    "    # Handle ZeroDivisionError\n",
    "    print(\"Error: Cannot divide by zero.\")\n",
    "except ValueError:\n",
    "    # Handle ValueError (e.g., when the user enters a non-numeric value)\n",
    "    print(\"Error: Invalid input. Please enter a valid number.\")\n",
    "else:\n",
    "    # Executed if no exception occurs\n",
    "    print(\"Result:\", result)\n",
    "finally:\n",
    "    # Cleanup or final operations\n",
    "    print(\"End of processing\")"
   ]
  },
  {
   "cell_type": "markdown",
   "metadata": {},
   "source": [
    "In this example, the try clause contains code that may raise a ZeroDivisionError if the user enters 0 or a ValueError if the user enters a non-numeric value. The except clauses are used to handle each of these specific exceptions separately. If no exception occurs, the else block is executed, and regardless of whether an exception occurred or not, the finally block is executed for any cleanup operations.\n",
    "\n",
    "By using try and except, you can gracefully handle errors and provide meaningful feedback or alternative actions to the user, avoiding crashes or unexpected program terminations."
   ]
  },
  {
   "cell_type": "code",
   "execution_count": null,
   "metadata": {},
   "outputs": [],
   "source": []
  }
 ],
 "metadata": {
  "kernelspec": {
   "display_name": "Python 3 (ipykernel)",
   "language": "python",
   "name": "python3"
  },
  "language_info": {
   "codemirror_mode": {
    "name": "ipython",
    "version": 3
   },
   "file_extension": ".py",
   "mimetype": "text/x-python",
   "name": "python",
   "nbconvert_exporter": "python",
   "pygments_lexer": "ipython3",
   "version": "3.11.2"
  }
 },
 "nbformat": 4,
 "nbformat_minor": 2
}
