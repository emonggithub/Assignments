{
 "cells": [
  {
   "cell_type": "markdown",
   "metadata": {},
   "source": [
    "#### 1. What exactly is []?"
   ]
  },
  {
   "cell_type": "markdown",
   "metadata": {},
   "source": [
    "The symbol \"[]\" typically represents an empty list in Python programming language. A list is a data structure that allows you to store and organize multiple elements in a particular order. It can hold elements of different data types, including numbers, strings, or even other lists."
   ]
  },
  {
   "cell_type": "code",
   "execution_count": 1,
   "metadata": {},
   "outputs": [],
   "source": [
    "empty_list = []"
   ]
  },
  {
   "cell_type": "markdown",
   "metadata": {},
   "source": [
    "#### 2. In a list of values stored in a variable called spam, how would you assign the value 'hello' as the third value? (Assume [2, 4, 6, 8, 10] are in spam.)"
   ]
  },
  {
   "cell_type": "markdown",
   "metadata": {},
   "source": [
    "To assign the value 'hello' as the third value in the list stored in the variable spam, you can use the following code:"
   ]
  },
  {
   "cell_type": "code",
   "execution_count": 2,
   "metadata": {},
   "outputs": [],
   "source": [
    "spam = [2, 4, 6, 8, 10]\n",
    "spam[2] = 'hello'"
   ]
  },
  {
   "cell_type": "markdown",
   "metadata": {},
   "source": [
    "#### Let's pretend the spam includes the list ['a', 'b', 'c', 'd'] for the next three queries.\n",
    "\n",
    "#### 3. What is the value of spam[int(int('3' * 2) / 11)]?\n",
    "\n"
   ]
  },
  {
   "cell_type": "code",
   "execution_count": 4,
   "metadata": {},
   "outputs": [],
   "source": [
    "spam = ['a', 'b', 'c', 'd']"
   ]
  },
  {
   "cell_type": "code",
   "execution_count": 5,
   "metadata": {},
   "outputs": [
    {
     "data": {
      "text/plain": [
       "'d'"
      ]
     },
     "execution_count": 5,
     "metadata": {},
     "output_type": "execute_result"
    }
   ],
   "source": [
    "spam[int(int('3' * 2) / 11)]"
   ]
  },
  {
   "cell_type": "markdown",
   "metadata": {},
   "source": [
    "Explanation:\n",
    "\n",
    "- '3' * 2 is the string concatenation of '3' and '3', resulting in '33'.\n",
    "- int('33') converts the string '33' into an integer, resulting in the number 33.\n",
    "- 33 / 11 is the division of 33 by 11, which results in 3 (since it's integer division, the result is the floor value).\n",
    "So, spam[int(int('3' * 2) / 11)] becomes spam[3]. In Python, list indexing is zero-based, so the fourth element of the list is at index 3.\n",
    "\n",
    "The value at index 3 in the list spam is 'd'."
   ]
  },
  {
   "cell_type": "markdown",
   "metadata": {},
   "source": [
    "#### 4. What is the value of spam[-1]?"
   ]
  },
  {
   "cell_type": "code",
   "execution_count": 6,
   "metadata": {},
   "outputs": [
    {
     "data": {
      "text/plain": [
       "'d'"
      ]
     },
     "execution_count": 6,
     "metadata": {},
     "output_type": "execute_result"
    }
   ],
   "source": [
    "spam[-1]"
   ]
  },
  {
   "cell_type": "markdown",
   "metadata": {},
   "source": [
    "Explanation:\n",
    "    \n",
    "In Python, negative indexing allows you to access elements from the end of the list. -1 refers to the last element, -2 to the second-to-last, and so on.\n",
    "\n",
    "In the list spam, the last element is 'd'. Therefore, the value of spam[-1] is 'd'."
   ]
  },
  {
   "cell_type": "markdown",
   "metadata": {},
   "source": [
    "#### 5. What is the value of spam[:2]?"
   ]
  },
  {
   "cell_type": "code",
   "execution_count": 7,
   "metadata": {},
   "outputs": [
    {
     "data": {
      "text/plain": [
       "['a', 'b']"
      ]
     },
     "execution_count": 7,
     "metadata": {},
     "output_type": "execute_result"
    }
   ],
   "source": [
    "spam[:2]"
   ]
  },
  {
   "cell_type": "markdown",
   "metadata": {},
   "source": [
    "EXplanation:\n",
    "    \n",
    "This is a list slicing operation. Slicing allows you to extract a portion of the list. The syntax spam[:2] means to take all the elements from the beginning of the list up to, but not including, the element at index 2.\n",
    "\n",
    "So, spam[:2] returns the sublist ['a', 'b']."
   ]
  },
  {
   "cell_type": "markdown",
   "metadata": {},
   "source": [
    "#### Let's pretend bacon has the list [3.14, 'cat,' 11, 'cat,' True] for the next three questions.\n",
    "#### 6. What is the value of bacon.index('cat')?"
   ]
  },
  {
   "cell_type": "code",
   "execution_count": 11,
   "metadata": {},
   "outputs": [],
   "source": [
    "bacon = [3.14, \"cat\" ,11, \"cat\", \"True\"]"
   ]
  },
  {
   "cell_type": "code",
   "execution_count": 12,
   "metadata": {},
   "outputs": [
    {
     "data": {
      "text/plain": [
       "1"
      ]
     },
     "execution_count": 12,
     "metadata": {},
     "output_type": "execute_result"
    }
   ],
   "source": [
    "bacon.index('cat')"
   ]
  },
  {
   "cell_type": "markdown",
   "metadata": {},
   "source": [
    "The index() method in Python is used to find the index of the first occurrence of a specified value in a list. In this case, we are searching for the index of the value 'cat'. 'cat' appears at index 1 in the list bacon, so the result of bacon.index('cat') will be 1."
   ]
  },
  {
   "cell_type": "markdown",
   "metadata": {},
   "source": [
    "#### 7. How does bacon.append(99) change the look of the list value in bacon?"
   ]
  },
  {
   "cell_type": "code",
   "execution_count": 13,
   "metadata": {},
   "outputs": [],
   "source": [
    " bacon.append(99)"
   ]
  },
  {
   "cell_type": "code",
   "execution_count": 14,
   "metadata": {},
   "outputs": [
    {
     "name": "stdout",
     "output_type": "stream",
     "text": [
      "[3.14, 'cat', 11, 'cat', 'True', 99]\n"
     ]
    }
   ],
   "source": [
    "print(bacon)"
   ]
  },
  {
   "cell_type": "markdown",
   "metadata": {},
   "source": [
    "The append() method in Python is used to add an element to the end of a list. In this case, we are appending the value 99 to the list bacon."
   ]
  },
  {
   "cell_type": "markdown",
   "metadata": {},
   "source": [
    "#### 8. How does bacon.remove('cat') change the look of the list in bacon?"
   ]
  },
  {
   "cell_type": "code",
   "execution_count": 15,
   "metadata": {},
   "outputs": [],
   "source": [
    "bacon.remove('cat')"
   ]
  },
  {
   "cell_type": "code",
   "execution_count": 16,
   "metadata": {},
   "outputs": [
    {
     "name": "stdout",
     "output_type": "stream",
     "text": [
      "[3.14, 11, 'cat', 'True', 99]\n"
     ]
    }
   ],
   "source": [
    "print(bacon)"
   ]
  },
  {
   "cell_type": "markdown",
   "metadata": {},
   "source": [
    "The remove() method in Python is used to remove the first occurrence of a specified value from a list. In this case, we are removing the value 'cat' from the list bacon."
   ]
  },
  {
   "cell_type": "markdown",
   "metadata": {},
   "source": [
    "#### 9. What are the list concatenation and list replication operators?"
   ]
  },
  {
   "cell_type": "markdown",
   "metadata": {},
   "source": [
    "1. List Concatenation Operator (+):\n",
    "\n",
    "The list concatenation operator (+) is used to combine two or more lists into a single new list. It creates a new list that contains all the elements from the operands in the order they appear. The original lists remain unchanged.\n",
    "\n",
    "Here's an example of using the list concatenation operator:"
   ]
  },
  {
   "cell_type": "code",
   "execution_count": 17,
   "metadata": {},
   "outputs": [
    {
     "name": "stdout",
     "output_type": "stream",
     "text": [
      "[1, 2, 3, 4, 5, 6]\n"
     ]
    }
   ],
   "source": [
    "list1 = [1, 2, 3]\n",
    "list2 = [4, 5, 6]\n",
    "result = list1 + list2\n",
    "print(result) \n"
   ]
  },
  {
   "cell_type": "markdown",
   "metadata": {},
   "source": [
    "2. List Replication Operator ():\n",
    "    \n",
    "The list replication operator () is used to create a new list by repeating the elements of an existing list multiple times. It creates a new list with the specified number of repetitions. The original list remains unchanged.\n",
    "\n",
    "Here's an example of using the list replication operator:"
   ]
  },
  {
   "cell_type": "code",
   "execution_count": 18,
   "metadata": {},
   "outputs": [
    {
     "name": "stdout",
     "output_type": "stream",
     "text": [
      "[1, 2, 3, 1, 2, 3, 1, 2, 3]\n"
     ]
    }
   ],
   "source": [
    "original_list = [1, 2, 3]\n",
    "replicated_list = original_list * 3\n",
    "print(replicated_list)\n"
   ]
  },
  {
   "cell_type": "markdown",
   "metadata": {},
   "source": [
    "#### 10. What is difference between the list methods append() and insert()?"
   ]
  },
  {
   "cell_type": "markdown",
   "metadata": {},
   "source": [
    "1. append(element): The append() method is used to add an element to the end of a list. It takes a single argument, which is the element to be added, and inserts it at the end of the list.\n",
    "\n",
    "Example:"
   ]
  },
  {
   "cell_type": "code",
   "execution_count": 19,
   "metadata": {},
   "outputs": [
    {
     "name": "stdout",
     "output_type": "stream",
     "text": [
      "[1, 2, 3, 4]\n"
     ]
    }
   ],
   "source": [
    "my_list = [1, 2, 3]\n",
    "my_list.append(4)\n",
    "print(my_list) \n"
   ]
  },
  {
   "cell_type": "markdown",
   "metadata": {},
   "source": [
    "2. insert(index, element): The insert() method is used to add an element at a specific index in the list. It takes two arguments: the first argument is the index at which the element should be inserted, and the second argument is the element to be added.\n",
    "\n",
    "Example:"
   ]
  },
  {
   "cell_type": "code",
   "execution_count": 20,
   "metadata": {},
   "outputs": [
    {
     "name": "stdout",
     "output_type": "stream",
     "text": [
      "[1, 10, 2, 3]\n"
     ]
    }
   ],
   "source": [
    "my_list = [1, 2, 3]\n",
    "my_list.insert(1, 10)\n",
    "print(my_list)  "
   ]
  },
  {
   "cell_type": "markdown",
   "metadata": {},
   "source": [
    "In this example, the element 10 is inserted at index 1, shifting the original element at index 1 and all subsequent elements to the right."
   ]
  },
  {
   "cell_type": "markdown",
   "metadata": {},
   "source": [
    "#### 11. What are the two methods for removing items from a list?"
   ]
  },
  {
   "cell_type": "markdown",
   "metadata": {},
   "source": [
    "1. remove(element): The remove() method is used to remove the first occurrence of a specific element from the list. It takes a single argument, which is the element you want to remove.\n",
    "\n",
    "Example:"
   ]
  },
  {
   "cell_type": "code",
   "execution_count": 21,
   "metadata": {},
   "outputs": [
    {
     "name": "stdout",
     "output_type": "stream",
     "text": [
      "[1, 3, 2, 4]\n"
     ]
    }
   ],
   "source": [
    "my_list = [1, 2, 3, 2, 4]\n",
    "my_list.remove(2)\n",
    "print(my_list) \n"
   ]
  },
  {
   "cell_type": "markdown",
   "metadata": {},
   "source": [
    "The first occurrence of the element 2 is removed from the list.\n",
    "\n",
    "Note: If the element you're trying to remove is not present in the list, a ValueError will be raised. So, it's a good practice to check for the existence of the element before calling the remove() method."
   ]
  },
  {
   "cell_type": "markdown",
   "metadata": {},
   "source": [
    "2. pop(index): The pop() method is used to remove and return an element from a specific index in the list. It takes an optional argument, which is the index of the element to be removed. If no index is provided, pop() removes and returns the last element of the list.\n",
    "\n",
    "Example:"
   ]
  },
  {
   "cell_type": "code",
   "execution_count": 22,
   "metadata": {},
   "outputs": [
    {
     "name": "stdout",
     "output_type": "stream",
     "text": [
      "[1, 3, 4]\n",
      "2\n"
     ]
    }
   ],
   "source": [
    "my_list = [1, 2, 3, 4]\n",
    "popped_element = my_list.pop(1)\n",
    "print(my_list)         # Output: [1, 3, 4]\n",
    "print(popped_element)  # Output: 2\n"
   ]
  },
  {
   "cell_type": "markdown",
   "metadata": {},
   "source": [
    "#### 12. Describe how list values and string values are identical."
   ]
  },
  {
   "cell_type": "markdown",
   "metadata": {},
   "source": [
    "List values and string values share some similarities, but they are fundamentally different data types in Python. Here are the similarities between list values and string values:\n",
    "\n",
    "1. Sequences: Both lists and strings are sequences in Python. A sequence is an ordered collection of elements, and elements within a sequence can be accessed by their index.\n",
    "\n",
    "2. Indexing: Both lists and strings use zero-based indexing. This means that the first element in a list or string is at index 0, the second element is at index 1, and so on.\n",
    "\n",
    "3. Slicing: Both lists and strings support slicing, which allows you to extract a portion of the sequence by specifying a range of indices.\n",
    "\n",
    "4. Iteration: You can iterate over the elements of both lists and strings using loops (e.g., for loop) or other iterable methods.\n",
    "\n",
    "5. In-place modification: Lists and strings are mutable and immutable, respectively. Lists can be modified in place by changing, adding, or removing elements, while strings cannot be modified in place. Instead, operations on strings create new strings.\n",
    "\n",
    "Example:"
   ]
  },
  {
   "cell_type": "code",
   "execution_count": 24,
   "metadata": {},
   "outputs": [
    {
     "name": "stdout",
     "output_type": "stream",
     "text": [
      "1\n",
      "e\n",
      "[2, 3]\n",
      "ell\n",
      "1\n",
      "2\n",
      "3\n",
      "H\n",
      "e\n",
      "l\n",
      "l\n",
      "o\n"
     ]
    }
   ],
   "source": [
    "# List and string creation\n",
    "my_list = [1, 2, 3]\n",
    "my_string = \"Hello\"\n",
    "\n",
    "# Indexing and slicing\n",
    "print(my_list[0])      # Output: 1\n",
    "print(my_string[1])    # Output: 'e'\n",
    "print(my_list[1:3])    # Output: [2, 3]\n",
    "print(my_string[1:4])  # Output: 'ell'\n",
    "\n",
    "# Iteration\n",
    "for item in my_list:\n",
    "    print(item)        # Output: 1, 2, 3\n",
    "\n",
    "for char in my_string:\n",
    "    print(char)        # Output: 'H', 'e', 'l', 'l', 'o'\n"
   ]
  },
  {
   "cell_type": "markdown",
   "metadata": {},
   "source": [
    "#### 13. What's the difference between tuples and lists?"
   ]
  },
  {
   "cell_type": "markdown",
   "metadata": {},
   "source": [
    "Tuples and lists are both data structures in Python used to store collections of items. However, there are some key differences between tuples and lists:\n",
    "\n",
    "1. Mutability:\n",
    "\n",
    "Lists are mutable: This means that you can modify their elements after creating them. You can add new elements, change existing elements, or remove elements from a list.\n",
    "\n",
    "Tuples are immutable: Once you create a tuple, you cannot change its elements. Tuples are fixed in size and cannot be modified after creation. You cannot add, change, or remove elements from a tuple.\n",
    "\n",
    "2. Syntax:\n",
    "\n",
    "Lists are defined using square brackets [ ].\n",
    "\n",
    "Tuples are defined using parentheses ( ).\n",
    "\n",
    "3. Use Cases:\n",
    "\n",
    "Lists are typically used for collections of items where the size may change during the program's execution. They are more flexible due to their mutability, making them suitable for situations where elements need to be modified or dynamically updated.\n",
    "\n",
    "Tuples are used when you want to create a collection of items that should not be modified. Since tuples are immutable, they can be used as keys in dictionaries, which is not possible with lists.\n",
    "\n",
    "4. Performance:\n",
    "\n",
    "Lists are generally slightly slower than tuples because of their mutability. When you modify a list, the underlying data structure may need to be resized or reallocated in memory, which can impact performance.\n",
    "\n",
    "Tuples, being immutable, offer better performance in certain situations, especially when working with large collections of data.\n",
    "\n",
    "Examples:"
   ]
  },
  {
   "cell_type": "code",
   "execution_count": 25,
   "metadata": {},
   "outputs": [
    {
     "name": "stdout",
     "output_type": "stream",
     "text": [
      "[10, 3, 4]\n",
      "(1, 2, 3)\n"
     ]
    }
   ],
   "source": [
    "# List (mutable)\n",
    "my_list = [1, 2, 3]\n",
    "my_list[0] = 10    # Modifying the first element\n",
    "my_list.append(4)  # Adding a new element\n",
    "del my_list[1]     # Removing the second element\n",
    "print(my_list)     # Output: [10, 3, 4]\n",
    "\n",
    "# Tuple (immutable)\n",
    "my_tuple = (1, 2, 3)\n",
    "# my_tuple[0] = 10  # This will raise a TypeError since tuples are immutable\n",
    "# my_tuple.append(4)  # Tuples do not have an append() method\n",
    "# del my_tuple[1]  # This will raise a TypeError since tuples do not support item deletion\n",
    "print(my_tuple)    # Output: (1, 2, 3)\n"
   ]
  },
  {
   "cell_type": "markdown",
   "metadata": {},
   "source": [
    "#### 14. How do you type a tuple value that only contains the integer 42?"
   ]
  },
  {
   "cell_type": "markdown",
   "metadata": {},
   "source": [
    "To create a tuple containing only the integer 42, make sure to include the comma at the end of the value enclosed in parentheses."
   ]
  },
  {
   "cell_type": "code",
   "execution_count": 26,
   "metadata": {},
   "outputs": [
    {
     "name": "stdout",
     "output_type": "stream",
     "text": [
      "<class 'int'>\n",
      "<class 'tuple'>\n"
     ]
    }
   ],
   "source": [
    "# Without the comma, it's not a tuple:\n",
    "not_a_tuple = (42)\n",
    "print(type(not_a_tuple))  # Output: <class 'int'>\n",
    "\n",
    "# With the comma, it's a tuple:\n",
    "my_tuple = (42,)\n",
    "print(type(my_tuple))     # Output: <class 'tuple'>\n"
   ]
  },
  {
   "cell_type": "markdown",
   "metadata": {},
   "source": [
    "#### 15. How do you get a list value's tuple form? How do you get a tuple value's list form?"
   ]
  },
  {
   "cell_type": "markdown",
   "metadata": {},
   "source": [
    "To convert a list value to its tuple form, you can use the tuple() constructor. It takes the list as an argument and returns a tuple containing all the elements of the original list.\n",
    "\n",
    "Here's how you can convert a list to a tuple:"
   ]
  },
  {
   "cell_type": "code",
   "execution_count": 27,
   "metadata": {},
   "outputs": [
    {
     "name": "stdout",
     "output_type": "stream",
     "text": [
      "(1, 2, 3, 4)\n"
     ]
    }
   ],
   "source": [
    "my_list = [1, 2, 3, 4]\n",
    "my_tuple = tuple(my_list)\n",
    "print(my_tuple)  # Output: (1, 2, 3, 4)\n"
   ]
  },
  {
   "cell_type": "markdown",
   "metadata": {},
   "source": [
    "To convert a tuple value to its list form, you can use the list() constructor. It takes the tuple as an argument and returns a list containing all the elements of the original tuple.\n",
    "\n",
    "Here's how you can convert a tuple to a list:"
   ]
  },
  {
   "cell_type": "code",
   "execution_count": 28,
   "metadata": {},
   "outputs": [
    {
     "name": "stdout",
     "output_type": "stream",
     "text": [
      "[10, 20, 30, 40]\n"
     ]
    }
   ],
   "source": [
    "my_tuple = (10, 20, 30, 40)\n",
    "my_list = list(my_tuple)\n",
    "print(my_list)  # Output: [10, 20, 30, 40]\n"
   ]
  },
  {
   "cell_type": "markdown",
   "metadata": {},
   "source": [
    "#### 16. Variables that \"contain\" list values are not necessarily lists themselves. Instead, what do they contain?"
   ]
  },
  {
   "cell_type": "markdown",
   "metadata": {},
   "source": [
    "In Python, everything is an object, and variables act as references to these objects. When you assign a list (or any other data type) to a variable, the variable stores a reference to the memory location where the list data is located, not the data itself.\n",
    "\n",
    "Let's illustrate this with an example:"
   ]
  },
  {
   "cell_type": "code",
   "execution_count": 29,
   "metadata": {},
   "outputs": [],
   "source": [
    "my_list = [1, 2, 3]"
   ]
  },
  {
   "cell_type": "markdown",
   "metadata": {},
   "source": [
    "In the above code, my_list is a variable that references a list object [1, 2, 3]. The list object is stored somewhere in memory, and my_list holds the memory address (reference) to that location. So, my_list does not directly contain the list [1, 2, 3], but it contains a reference to where the list is stored in memory.\n",
    "\n",
    "When you perform operations on the list, like modifying its elements or creating a copy, you are operating on the underlying list object, and any variable that references that object will see the changes.\n",
    "\n",
    "For example:"
   ]
  },
  {
   "cell_type": "code",
   "execution_count": 30,
   "metadata": {},
   "outputs": [
    {
     "name": "stdout",
     "output_type": "stream",
     "text": [
      "[10, 2, 3]\n"
     ]
    }
   ],
   "source": [
    "my_list = [1, 2, 3]\n",
    "another_list = my_list  # both variables reference the same list object\n",
    "\n",
    "my_list[0] = 10\n",
    "print(another_list)  # Output: [10, 2, 3] (changes are reflected in both variables)\n"
   ]
  },
  {
   "cell_type": "markdown",
   "metadata": {},
   "source": [
    "#### 17. How do you distinguish between copy.copy() and copy.deepcopy()?"
   ]
  },
  {
   "cell_type": "markdown",
   "metadata": {},
   "source": [
    "In Python's copy module, copy.copy() and copy.deepcopy() are used to create copies of objects, especially when dealing with complex data structures like lists and dictionaries that may contain nested objects. Both methods create copies, but they differ in their behavior, and it's essential to understand their distinctions to choose the appropriate one for your specific use case.\n",
    "\n",
    "1. copy.copy(): Shallow Copy\n",
    "\n",
    "copy.copy() creates a shallow copy of an object. It duplicates the top-level object and creates new references to the nested objects within it. However, it does not create new copies of the nested objects themselves.\n",
    "\n",
    "If the original object contains mutable elements (e.g., lists, dictionaries), the shallow copy will reference the same nested objects, leading to shared references between the original and the copy. Changes made to the nested objects in one will affect the other.\n",
    "\n",
    "Shallow copies are relatively faster and use less memory than deep copies because they do not recursively duplicate nested objects.\n",
    "\n",
    "Example of copy.copy():"
   ]
  },
  {
   "cell_type": "code",
   "execution_count": 31,
   "metadata": {},
   "outputs": [
    {
     "name": "stdout",
     "output_type": "stream",
     "text": [
      "[1, [200, 3], {'a': 1000}]\n"
     ]
    }
   ],
   "source": [
    "import copy\n",
    "\n",
    "original_list = [1, [2, 3], {'a': 10}]\n",
    "shallow_copy_list = copy.copy(original_list)\n",
    "\n",
    "original_list[0] = 100\n",
    "original_list[1][0] = 200\n",
    "original_list[2]['a'] = 1000\n",
    "\n",
    "print(shallow_copy_list)  # Output: [1, [200, 3], {'a': 1000}]\n"
   ]
  },
  {
   "cell_type": "markdown",
   "metadata": {},
   "source": [
    "2. copy.deepcopy(): Deep Copy\n",
    "\n",
    "copy.deepcopy() creates a deep copy of an object. It duplicates the entire object hierarchy, including all nested objects, recursively. This means that all objects in the hierarchy are entirely independent of each other, and changes made to one will not affect the other.\n",
    "\n",
    "Deep copies are safer when working with nested objects, especially when you want to modify one copy without affecting the other.\n",
    "\n",
    "Example of copy.deepcopy():"
   ]
  },
  {
   "cell_type": "code",
   "execution_count": 32,
   "metadata": {},
   "outputs": [
    {
     "name": "stdout",
     "output_type": "stream",
     "text": [
      "[1, [2, 3], {'a': 10}]\n"
     ]
    }
   ],
   "source": [
    "import copy\n",
    "\n",
    "original_list = [1, [2, 3], {'a': 10}]\n",
    "deep_copy_list = copy.deepcopy(original_list)\n",
    "\n",
    "original_list[0] = 100\n",
    "original_list[1][0] = 200\n",
    "original_list[2]['a'] = 1000\n",
    "\n",
    "print(deep_copy_list)  # Output: [1, [2, 3], {'a': 10}]\n"
   ]
  },
  {
   "cell_type": "code",
   "execution_count": null,
   "metadata": {},
   "outputs": [],
   "source": []
  }
 ],
 "metadata": {
  "kernelspec": {
   "display_name": "Python 3",
   "language": "python",
   "name": "python3"
  },
  "language_info": {
   "codemirror_mode": {
    "name": "ipython",
    "version": 3
   },
   "file_extension": ".py",
   "mimetype": "text/x-python",
   "name": "python",
   "nbconvert_exporter": "python",
   "pygments_lexer": "ipython3",
   "version": "3.7.0"
  }
 },
 "nbformat": 4,
 "nbformat_minor": 2
}
