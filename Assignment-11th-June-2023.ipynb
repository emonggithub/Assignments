{
 "cells": [
  {
   "cell_type": "markdown",
   "id": "270884d7",
   "metadata": {},
   "source": [
    "#### 1. What is a lambda function in Python, and how does it differ from a regular function?"
   ]
  },
  {
   "cell_type": "markdown",
   "id": "23938d7e",
   "metadata": {},
   "source": [
    " In Python, a lambda function is a small, anonymous function. It is also known as an inline function or a lambda expression. Lambda functions are defined using the lambda keyword, followed by the input arguments, a colon :, and the expression to be evaluated. The result of the expression is the return value of the lambda function."
   ]
  },
  {
   "cell_type": "markdown",
   "id": "1e17d2bd",
   "metadata": {},
   "source": [
    " Here's an example of a lambda function that calculates the square of a number:"
   ]
  },
  {
   "cell_type": "code",
   "execution_count": 1,
   "id": "d8d82cc9",
   "metadata": {},
   "outputs": [],
   "source": [
    "square = lambda x: x**2\n"
   ]
  },
  {
   "cell_type": "markdown",
   "id": "fd02fa4a",
   "metadata": {},
   "source": [
    "#### In this example, lambda x: x**2 defines a lambda function that takes a single argument x and returns its square."
   ]
  },
  {
   "cell_type": "markdown",
   "id": "d5c86477",
   "metadata": {},
   "source": [
    "\n",
    "#### Key differences between a lambda function and a regular function:\n",
    "\n",
    "1. Anonymous vs. Named: Lambda functions are anonymous, meaning they don't have a name. They are used for simple tasks and often used where you would only need the function temporarily. Regular functions are defined using the def keyword and have a name that can be used to call the function from anywhere in the code.\n",
    "\n",
    "2. Single Expression vs. Block of Code: Lambda functions are limited to a single expression, while regular functions can contain multiple statements and have a block of code enclosed in curly braces {}. Because of this limitation, lambda functions are more suitable for simple tasks that can be expressed in a single line.\n",
    "\n",
    "3. Return Value: In a lambda function, the return value is automatically obtained from the result of the expression. In regular functions, you explicitly use the return statement to specify the value to be returned.\n",
    "\n",
    "4. Function Signature: Regular functions can have default arguments, variable-length arguments (*args), keyword arguments (**kwargs), and documentation strings (docstrings).\n",
    "Lambda functions can only have a single expression and no additional features like default arguments or docstrings."
   ]
  },
  {
   "cell_type": "markdown",
   "id": "2a5dcbac",
   "metadata": {},
   "source": [
    "Here's an example of a regular function that calculates the square of a number:"
   ]
  },
  {
   "cell_type": "code",
   "execution_count": 2,
   "id": "138cfb9b",
   "metadata": {},
   "outputs": [],
   "source": [
    "def square(x):\n",
    "    return x**2\n"
   ]
  },
  {
   "cell_type": "markdown",
   "id": "529e0455",
   "metadata": {},
   "source": [
    "#### 2. Can a lambda function in Python have multiple arguments? If yes, how can you define and use them?"
   ]
  },
  {
   "cell_type": "markdown",
   "id": "a3fbb781",
   "metadata": {},
   "source": [
    "Yes, a lambda function in Python can have multiple arguments. The syntax for defining a lambda function with multiple arguments is similar to that of a single-argument lambda, but you list all the arguments separated by commas before the colon :."
   ]
  },
  {
   "cell_type": "markdown",
   "id": "2c586070",
   "metadata": {},
   "source": [
    "The general syntax of a lambda function with multiple arguments is:\n",
    "lambda arg1, arg2, ..., argN: expression"
   ]
  },
  {
   "cell_type": "markdown",
   "id": "8ceb5ea1",
   "metadata": {},
   "source": [
    "Here's an example of a lambda function with multiple arguments that calculates the sum of two numbers:"
   ]
  },
  {
   "cell_type": "code",
   "execution_count": 5,
   "id": "6a789080",
   "metadata": {},
   "outputs": [
    {
     "name": "stdout",
     "output_type": "stream",
     "text": [
      "12\n"
     ]
    }
   ],
   "source": [
    "add = lambda x, y: x + y\n",
    "result = add(5, 7)\n",
    "print(result)  \n"
   ]
  },
  {
   "cell_type": "markdown",
   "id": "00b3963f",
   "metadata": {},
   "source": [
    "In this example, lambda x, y: x + y defines a lambda function that takes two arguments x and y and returns their sum."
   ]
  },
  {
   "cell_type": "markdown",
   "id": "d2ae5766",
   "metadata": {},
   "source": [
    "You can use lambda functions in various ways, such as passing them as arguments to higher-order functions like map(), filter(), or reduce(). Let's see an example of using a lambda function with map() to calculate the squares of a list of numbers:"
   ]
  },
  {
   "cell_type": "code",
   "execution_count": 6,
   "id": "8c300fd3",
   "metadata": {},
   "outputs": [
    {
     "name": "stdout",
     "output_type": "stream",
     "text": [
      "[1, 4, 9, 16, 25]\n"
     ]
    }
   ],
   "source": [
    "numbers = [1, 2, 3, 4, 5]\n",
    "squared_numbers = map(lambda x: x**2, numbers)\n",
    "print(list(squared_numbers))  \n"
   ]
  },
  {
   "cell_type": "markdown",
   "id": "19c975fa",
   "metadata": {},
   "source": [
    "In this example, we use a lambda function lambda x: x**2 with map() to calculate the square of each element in the numbers list."
   ]
  },
  {
   "cell_type": "markdown",
   "id": "2004dfdb",
   "metadata": {},
   "source": [
    "#### 3. How are lambda functions typically used in Python? Provide an example use case."
   ]
  },
  {
   "cell_type": "markdown",
   "id": "39c08c2c",
   "metadata": {},
   "source": [
    "Lambda functions are typically used in Python for tasks that require a small, one-line function and where creating a full-fledged named function would be unnecessary or cumbersome. They are particularly useful when working with higher-order functions like map(), filter(), and reduce() or when you need to pass a function as an argument to another function."
   ]
  },
  {
   "cell_type": "markdown",
   "id": "a6df101a",
   "metadata": {},
   "source": [
    "Here's an example use case for a lambda function:"
   ]
  },
  {
   "cell_type": "markdown",
   "id": "ad1bec6b",
   "metadata": {},
   "source": [
    "Suppose you have a list of integers, and you want to filter out the even numbers from the list. You can use the filter() function along with a lambda function to achieve this:"
   ]
  },
  {
   "cell_type": "code",
   "execution_count": 7,
   "id": "09b86525",
   "metadata": {},
   "outputs": [
    {
     "name": "stdout",
     "output_type": "stream",
     "text": [
      "[2, 4, 6, 8, 10]\n"
     ]
    }
   ],
   "source": [
    "numbers = [1, 2, 3, 4, 5, 6, 7, 8, 9, 10]\n",
    "\n",
    "# Using a lambda function with filter to get even numbers\n",
    "even_numbers = filter(lambda x: x % 2 == 0, numbers)\n",
    "\n",
    "print(list(even_numbers)) \n"
   ]
  },
  {
   "cell_type": "markdown",
   "id": "622a0c74",
   "metadata": {},
   "source": [
    "In this example, the lambda function lambda x: x % 2 == 0 checks if a number is even or not by performing the modulo operation (x % 2 == 0). The filter() function then filters the list of numbers using this lambda function and returns an iterator with the even numbers. We convert the iterator to a list to see the final result."
   ]
  },
  {
   "cell_type": "markdown",
   "id": "4494bfd4",
   "metadata": {},
   "source": [
    "Example use case: Sorting a list of tuples based on a specific element"
   ]
  },
  {
   "cell_type": "markdown",
   "id": "75f2aae0",
   "metadata": {},
   "source": [
    "Let's say you have a list of tuples representing students and their corresponding scores, and you want to sort the list based on the students' scores. In this case, you can use a lambda function to specify the sorting key."
   ]
  },
  {
   "cell_type": "code",
   "execution_count": 8,
   "id": "2ebaf010",
   "metadata": {},
   "outputs": [
    {
     "name": "stdout",
     "output_type": "stream",
     "text": [
      "[('Charlie', 90), ('Alice', 85), ('David', 78), ('Bob', 72)]\n"
     ]
    }
   ],
   "source": [
    "students = [(\"Alice\", 85), (\"Bob\", 72), (\"Charlie\", 90), (\"David\", 78)]\n",
    "\n",
    "# Sort the list of students based on their scores (second element of each tuple)\n",
    "sorted_students = sorted(students, key=lambda student: student[1], reverse=True)\n",
    "\n",
    "print(sorted_students)\n"
   ]
  },
  {
   "cell_type": "markdown",
   "id": "e717a678",
   "metadata": {},
   "source": [
    "#### 4. What are the advantages and limitations of lambda functions compared to regular functions in Python?"
   ]
  },
  {
   "cell_type": "markdown",
   "id": "c7402ec9",
   "metadata": {},
   "source": [
    "Advantages of Lambda Functions:\n",
    "\n",
    "1. Concise Syntax: Lambda functions allow you to define simple, one-line functions without the need for a formal def statement. This concise syntax makes the code more compact and easier to read.\n",
    "\n",
    "2. Anonymous Functions: Lambda functions are anonymous, meaning they don't require a name. This is useful when you need a function for a short period or when passing functions as arguments to other functions.\n",
    "\n",
    "3. Use with Higher-Order Functions: Lambda functions are commonly used with higher-order functions like map(), filter(), and reduce(). They enable you to quickly define and use small functions inline, reducing the need for creating separate named functions.\n",
    "\n",
    "4. Reduced Overhead: Since lambda functions are lightweight and don't have a name, they avoid the overhead of defining and managing named functions when you only need the function temporarily."
   ]
  },
  {
   "cell_type": "markdown",
   "id": "abf5afaa",
   "metadata": {},
   "source": [
    "Limitations of Lambda Functions:\n",
    "\n",
    "1. Single Expression: Lambda functions are limited to a single expression. They cannot contain multiple statements or complex logic like regular functions. This restricts their use to simple tasks.\n",
    "\n",
    "2. Lack of Documentation: Lambda functions cannot have docstrings (documentation strings) that provide information about the function's purpose and usage. In contrast, regular functions can have docstrings, making them more self-explanatory.\n",
    "\n",
    "3. No Default Arguments: Lambda functions cannot have default arguments. In regular functions, you can provide default values for arguments, which is not possible with lambda functions.\n",
    "\n",
    "4. Limited Use Cases: Due to their simplicity and restrictions, lambda functions are not suitable for more complex tasks that require multiple statements or code reusability.\n",
    "\n",
    "5. Readability Concerns: While lambda functions can make code concise, they may sometimes sacrifice readability, especially for complex expressions. Overuse of lambda functions in complex situations might lead to less maintainable code."
   ]
  },
  {
   "cell_type": "markdown",
   "id": "ab7a5273",
   "metadata": {},
   "source": [
    "lambda functions are useful for quick, one-line tasks and when you need a temporary function for data processing or transformation. They are particularly handy when used with higher-order functions. However, for more complex tasks, or when you need reusable functions with docstrings and default arguments, regular functions are a better choice. The choice between using lambda functions or regular functions ultimately depends on the specific requirements of the task at hand."
   ]
  },
  {
   "cell_type": "markdown",
   "id": "c3edca15",
   "metadata": {},
   "source": [
    "#### 5. Are lambda functions in Python able to access variables defined outside of their own scope? Explain with an example."
   ]
  },
  {
   "cell_type": "markdown",
   "id": "813cc25f",
   "metadata": {},
   "source": [
    "Yes, lambda functions in Python can access variables defined outside of their own scope. Lambda functions can access variables from the surrounding environment where they are defined, just like regular functions."
   ]
  },
  {
   "cell_type": "markdown",
   "id": "4aad6d45",
   "metadata": {},
   "source": [
    "Here's an example to demonstrate this:"
   ]
  },
  {
   "cell_type": "code",
   "execution_count": 13,
   "id": "bf0317c2",
   "metadata": {},
   "outputs": [
    {
     "name": "stdout",
     "output_type": "stream",
     "text": [
      "35\n"
     ]
    }
   ],
   "source": [
    "def outer_function():\n",
    "    x = 10\n",
    "    y = 20\n",
    "    add = lambda z: x + y + z\n",
    "    return add\n",
    "\n",
    "closure_function = outer_function()\n",
    "\n",
    "print(closure_function(5))  \n"
   ]
  },
  {
   "cell_type": "markdown",
   "id": "3d272059",
   "metadata": {},
   "source": [
    "In this example, we have an outer_function() that defines two variables x and y. Inside the outer_function(), we create a lambda function called add that takes a parameter z and returns the sum of x, y, and z.\n",
    "\n",
    "When we call outer_function(), it returns the add lambda function. We store this lambda function in the variable closure_function.\n",
    "\n",
    "Now, when we call closure_function(5), it accesses the variables x and y from the surrounding scope (i.e., the scope of outer_function()), even though the lambda function is defined outside of the outer_function()."
   ]
  },
  {
   "cell_type": "markdown",
   "id": "02633c6e",
   "metadata": {},
   "source": [
    "#### 6. Write a lambda function to calculate the square of a given number."
   ]
  },
  {
   "cell_type": "code",
   "execution_count": 14,
   "id": "f80dce92",
   "metadata": {},
   "outputs": [
    {
     "name": "stdout",
     "output_type": "stream",
     "text": [
      "25\n"
     ]
    }
   ],
   "source": [
    "square = lambda x: x**2\n",
    "result = square(5)\n",
    "print(result)  \n"
   ]
  },
  {
   "cell_type": "markdown",
   "id": "abd4b6eb",
   "metadata": {},
   "source": [
    "In this example, we call the lambda function square() with the argument 5, which returns the square of 5, i.e., 25."
   ]
  },
  {
   "cell_type": "markdown",
   "id": "b31d7eae",
   "metadata": {},
   "source": [
    "#### 7. Create a lambda function to find the maximum value in a list of integers."
   ]
  },
  {
   "cell_type": "code",
   "execution_count": 15,
   "id": "81a99db6",
   "metadata": {},
   "outputs": [
    {
     "name": "stdout",
     "output_type": "stream",
     "text": [
      "20\n"
     ]
    }
   ],
   "source": [
    "find_max = lambda lst: max(lst)\n",
    "numbers = [10, 5, 20, 8, 15]\n",
    "\n",
    "result = find_max(numbers)\n",
    "print(result)  \n"
   ]
  },
  {
   "cell_type": "markdown",
   "id": "dbceb908",
   "metadata": {},
   "source": [
    "In this lambda function, the max() function is used to find the maximum value from the input list lst, and the result is returned as the output of the lambda function.\n",
    "In this example, find_max(numbers) will return 20, as 20 is the maximum value in the numbers list."
   ]
  },
  {
   "cell_type": "markdown",
   "id": "479846f1",
   "metadata": {},
   "source": [
    "#### 8. Implement a lambda function to filter out all the even numbers from a list of integers."
   ]
  },
  {
   "cell_type": "code",
   "execution_count": 16,
   "id": "0a36ab2e",
   "metadata": {},
   "outputs": [
    {
     "name": "stdout",
     "output_type": "stream",
     "text": [
      "[2, 4, 6, 8, 10]\n"
     ]
    }
   ],
   "source": [
    "filter_even = lambda lst: list(filter(lambda x: x % 2 == 0, lst))\n",
    "numbers = [1, 2, 3, 4, 5, 6, 7, 8, 9, 10]\n",
    "\n",
    "even_numbers = filter_even(numbers)\n",
    "print(even_numbers)  \n"
   ]
  },
  {
   "cell_type": "markdown",
   "id": "595897a5",
   "metadata": {},
   "source": [
    "In this lambda function, the filter() function is used to iterate through the input list lst, and the lambda function lambda x: x % 2 == 0 is applied to each element. The lambda function checks if the element x is even (i.e., if x % 2 == 0), and the filter() function keeps only the elements that satisfy this condition.\n",
    "\n",
    "The result of the filtering operation is returned as a new list containing only the even numbers. In this example, filter_even(numbers) will return a new list containing only the even numbers from the numbers list."
   ]
  },
  {
   "cell_type": "markdown",
   "id": "91a613a5",
   "metadata": {},
   "source": [
    "#### 9. Write a lambda function to sort a list of strings in ascending order based on the length of each string."
   ]
  },
  {
   "cell_type": "code",
   "execution_count": 17,
   "id": "30c4dcd1",
   "metadata": {},
   "outputs": [
    {
     "name": "stdout",
     "output_type": "stream",
     "text": [
      "['kiwi', 'pear', 'apple', 'banana', 'orange', 'grapes']\n"
     ]
    }
   ],
   "source": [
    "sort_by_length = lambda lst: sorted(lst, key=lambda x: len(x))\n",
    "words = [\"apple\", \"banana\", \"orange\", \"grapes\", \"kiwi\", \"pear\"]\n",
    "\n",
    "sorted_words = sort_by_length(words)\n",
    "print(sorted_words)\n"
   ]
  },
  {
   "cell_type": "markdown",
   "id": "f50d5754",
   "metadata": {},
   "source": [
    "\n",
    "In this lambda function, the sorted() function is used to sort the input list lst. The sorting is done based on the key parameter, which takes another lambda function lambda x: len(x) as an argument. The lambda function lambda x: len(x) calculates the length of each string x, and sorted() uses this length as the basis for sorting the strings in ascending order.\n",
    "\n",
    "In this example, sort_by_length(words) will return a new list with the strings sorted in ascending order based on their lengths. "
   ]
  },
  {
   "cell_type": "markdown",
   "id": "e96ef23e",
   "metadata": {},
   "source": [
    "#### 10. Create a lambda function that takes two lists as input and returns a new list containing the common elements between the two lists."
   ]
  },
  {
   "cell_type": "code",
   "execution_count": 18,
   "id": "b6a94428",
   "metadata": {},
   "outputs": [
    {
     "name": "stdout",
     "output_type": "stream",
     "text": [
      "[3, 4, 5]\n"
     ]
    }
   ],
   "source": [
    "find_common_elements = lambda list1, list2: list(filter(lambda x: x in list2, list1))\n",
    "list1 = [1, 2, 3, 4, 5]\n",
    "list2 = [3, 4, 5, 6, 7]\n",
    "\n",
    "common_elements = find_common_elements(list1, list2)\n",
    "print(common_elements)\n"
   ]
  },
  {
   "cell_type": "markdown",
   "id": "94afc529",
   "metadata": {},
   "source": [
    "In this lambda function, the filter() function is used to iterate through the list1. The lambda function lambda x: x in list2 is applied to each element x in list1. The lambda function checks if the element x is present in list2, and the filter() function keeps only the elements that satisfy this condition.\n",
    "\n",
    "The result of the filtering operation is returned as a new list containing only the common elements between list1 and list2.\n",
    "\n",
    "In this example, find_common_elements(list1, list2) will return a new list containing the common elements [3, 4, 5] between list1 and list2."
   ]
  },
  {
   "cell_type": "markdown",
   "id": "a19f70b3",
   "metadata": {},
   "source": [
    "#### 11. Write a recursive function to calculate the factorial of a given positive integer."
   ]
  },
  {
   "cell_type": "code",
   "execution_count": 19,
   "id": "cafcacb2",
   "metadata": {},
   "outputs": [],
   "source": [
    "def factorial(n):\n",
    "    if n == 0 or n == 1:\n",
    "        return 1\n",
    "    else:\n",
    "        return n * factorial(n - 1)\n"
   ]
  },
  {
   "cell_type": "code",
   "execution_count": 20,
   "id": "059a84db",
   "metadata": {},
   "outputs": [
    {
     "name": "stdout",
     "output_type": "stream",
     "text": [
      "120\n"
     ]
    }
   ],
   "source": [
    "print(factorial(5)) "
   ]
  },
  {
   "cell_type": "markdown",
   "id": "5d130523",
   "metadata": {},
   "source": [
    "In this recursive function, we define the base case where n == 0 or n == 1, which returns 1 since the factorial of 0 and 1 is 1.\n",
    "\n",
    "For any other positive integer n, the function calculates the factorial recursively by multiplying n with the factorial of n - 1.\n",
    "\n",
    "The recursive function efficiently calculates the factorial of a given positive integer, as long as the value of n is not too large, avoiding potential stack overflow for large values."
   ]
  },
  {
   "cell_type": "markdown",
   "id": "3cdfb4b2",
   "metadata": {},
   "source": [
    "#### 12. Implement a recursive function to compute the nth Fibonacci number."
   ]
  },
  {
   "cell_type": "code",
   "execution_count": 21,
   "id": "3d151ac0",
   "metadata": {},
   "outputs": [],
   "source": [
    "def fibonacci(n):\n",
    "    if n <= 0:\n",
    "        raise ValueError(\"n must be a positive integer\")\n",
    "    elif n == 1:\n",
    "        return 0\n",
    "    elif n == 2:\n",
    "        return 1\n",
    "    else:\n",
    "        return fibonacci(n - 1) + fibonacci(n - 2)\n"
   ]
  },
  {
   "cell_type": "code",
   "execution_count": 22,
   "id": "e64a747d",
   "metadata": {},
   "outputs": [
    {
     "name": "stdout",
     "output_type": "stream",
     "text": [
      "13\n"
     ]
    }
   ],
   "source": [
    "result = fibonacci(8)\n",
    "print(result)  \n"
   ]
  },
  {
   "cell_type": "markdown",
   "id": "13dfef28",
   "metadata": {},
   "source": [
    "In this recursive function, there are three base cases:\n",
    "\n",
    "1. If n is less than or equal to 0, it raises a ValueError since the Fibonacci sequence starts from the 1st position (0-indexed) and n must be a positive integer.\n",
    "2. If n is 1, it returns 0, as the first Fibonacci number is 0.\n",
    "3. If n is 2, it returns 1, as the second Fibonacci number is 1.\n",
    "\n",
    "For any other positive integer n, the function returns fibonacci(n - 1) + fibonacci(n - 2), which means it calculates the nth Fibonacci number by recursively adding the (n-1)th and (n-2)th Fibonacci numbers."
   ]
  },
  {
   "cell_type": "markdown",
   "id": "bf9ec6c8",
   "metadata": {},
   "source": [
    "#### 13. Create a recursive function to find the sum of all the elements in a given list."
   ]
  },
  {
   "cell_type": "code",
   "execution_count": 23,
   "id": "5ecc2ded",
   "metadata": {},
   "outputs": [],
   "source": [
    "def recursive_sum(lst):\n",
    "    if not lst:\n",
    "        return 0\n",
    "    else:\n",
    "        return lst[0] + recursive_sum(lst[1:])\n"
   ]
  },
  {
   "cell_type": "code",
   "execution_count": 24,
   "id": "7f8496db",
   "metadata": {},
   "outputs": [
    {
     "name": "stdout",
     "output_type": "stream",
     "text": [
      "15\n"
     ]
    }
   ],
   "source": [
    "numbers = [1, 2, 3, 4, 5]\n",
    "result = recursive_sum(numbers)\n",
    "print(result)  \n"
   ]
  },
  {
   "cell_type": "markdown",
   "id": "7ae84d17",
   "metadata": {},
   "source": [
    "In this recursive function, there is one base case: when the input list lst is empty (i.e., when not lst), the function returns 0 since the sum of an empty list is 0.\n",
    "\n",
    "For non-empty lists, the function returns lst[0] + recursive_sum(lst[1:]), which means it calculates the sum of the list by recursively adding the first element (lst[0]) with the sum of the rest of the list (recursive_sum(lst[1:])).\n",
    "\n",
    "In this example, recursive_sum(numbers) will return 15, as the sum of the elements in the numbers list is 1 + 2 + 3 + 4 + 5 = 15. The recursive function works by breaking down the problem into smaller subproblems until it reaches the base case of an empty list.\n"
   ]
  },
  {
   "cell_type": "markdown",
   "id": "e758399c",
   "metadata": {},
   "source": [
    "#### 14. Write a recursive function to determine whether a given string is a palindrome."
   ]
  },
  {
   "cell_type": "code",
   "execution_count": 25,
   "id": "8cace250",
   "metadata": {},
   "outputs": [],
   "source": [
    "def is_palindrome(s):\n",
    "    if len(s) <= 1:\n",
    "        return True\n",
    "    else:\n",
    "        return s[0] == s[-1] and is_palindrome(s[1:-1])\n"
   ]
  },
  {
   "cell_type": "code",
   "execution_count": 26,
   "id": "2d719136",
   "metadata": {},
   "outputs": [
    {
     "name": "stdout",
     "output_type": "stream",
     "text": [
      "True\n",
      "False\n"
     ]
    }
   ],
   "source": [
    "string1 = \"racecar\"\n",
    "string2 = \"hello\"\n",
    "\n",
    "print(is_palindrome(string1))  \n",
    "print(is_palindrome(string2)) \n"
   ]
  },
  {
   "cell_type": "markdown",
   "id": "b7d1fecd",
   "metadata": {},
   "source": [
    "NOTE: A palindrome is a word, phrase, number, or other sequence of characters that reads the same backward as forward. To determine whether a given string is a palindrome, you can use a recursive function that compares the first and last characters of the string until the entire string is checked.\n",
    "\n",
    "In this recursive function, there is one base case: when the length of the string s is less than or equal to 1, the function returns True. A string with one character or an empty string is considered a palindrome.\n",
    "\n",
    "For longer strings, the function returns s[0] == s[-1] and is_palindrome(s[1:-1]), which means it checks whether the first and last characters of the string are equal. If they are equal, it proceeds to check the next pair of characters using a recursive call with the middle substring (s[1:-1]). This process continues until the string is either empty or a single character.\n",
    "\n",
    "In this example, is_palindrome(string1) will return True, as the string \"racecar\" is a palindrome, while is_palindrome(string2) will return False, as the string \"hello\" is not a palindrome. The recursive function works by breaking down the problem into smaller subproblems until it reaches the base case of an empty string or a string with one character."
   ]
  },
  {
   "cell_type": "markdown",
   "id": "0cba0834",
   "metadata": {},
   "source": [
    "#### 15. Implement a recursive function to find the greatest common divisor (GCD) of two positive integers."
   ]
  },
  {
   "cell_type": "code",
   "execution_count": 27,
   "id": "4fe79def",
   "metadata": {},
   "outputs": [],
   "source": [
    "def gcd(a, b):\n",
    "    if b == 0:\n",
    "        return a\n",
    "    else:\n",
    "        return gcd(b, a % b)\n"
   ]
  },
  {
   "cell_type": "code",
   "execution_count": 28,
   "id": "8561c820",
   "metadata": {},
   "outputs": [
    {
     "name": "stdout",
     "output_type": "stream",
     "text": [
      "6\n"
     ]
    }
   ],
   "source": [
    "a = 48\n",
    "b = 18\n",
    "result = gcd(a, b)\n",
    "print(result) \n"
   ]
  },
  {
   "cell_type": "markdown",
   "id": "40061999",
   "metadata": {},
   "source": [
    "The greatest common divisor (GCD) of two positive integers is the largest positive integer that divides both of them without leaving a remainder. To find the GCD of two positive integers a and b, you can use a recursive function that applies the Euclidean algorithm.\n",
    "\n",
    "In this recursive function, there is one base case: when b is 0, the function returns a. The GCD of any positive integer a with 0 is a.\n",
    "\n",
    "For non-zero values of b, the function returns gcd(b, a % b). This recursive call applies the Euclidean algorithm, where the second argument is the remainder of the division of a by b. The function keeps recursively calling itself with the values of b and the remainder until b becomes 0.\n",
    "\n",
    "In this example, gcd(48, 18) will return 6, as the GCD of 48 and 18 is 6. The recursive function works by applying the Euclidean algorithm, which efficiently finds the GCD of two positive integers."
   ]
  },
  {
   "cell_type": "code",
   "execution_count": null,
   "id": "52a3c8dd",
   "metadata": {},
   "outputs": [],
   "source": []
  }
 ],
 "metadata": {
  "kernelspec": {
   "display_name": "Python 3 (ipykernel)",
   "language": "python",
   "name": "python3"
  },
  "language_info": {
   "codemirror_mode": {
    "name": "ipython",
    "version": 3
   },
   "file_extension": ".py",
   "mimetype": "text/x-python",
   "name": "python",
   "nbconvert_exporter": "python",
   "pygments_lexer": "ipython3",
   "version": "3.11.2"
  }
 },
 "nbformat": 4,
 "nbformat_minor": 5
}
