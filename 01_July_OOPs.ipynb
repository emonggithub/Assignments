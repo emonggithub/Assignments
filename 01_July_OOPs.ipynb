{
 "cells": [
  {
   "cell_type": "markdown",
   "metadata": {},
   "source": [
    "## 1. What is the primary goal of Object-Oriented Programming (OOP)?"
   ]
  },
  {
   "cell_type": "markdown",
   "metadata": {},
   "source": [
    "The primary goal of Object-Oriented Programming (OOP) is to provide a structured and modular approach to designing and organizing software. OOP is centered around the concept of \"objects,\" which are instances of classes that encapsulate data (attributes) and behaviors (methods) into a single unit. The main objectives of OOP include:\n",
    "\n",
    "1. Modularity: OOP allows you to break down a complex system into smaller, more manageable components (objects) that interact with each other. This promotes code reusability and maintainability.\n",
    "\n",
    "2. Encapsulation: Encapsulation involves bundling data (attributes) and methods (functions) that operate on that data into a single unit (class). This encapsulation hides the internal details of an object's implementation from the outside world, promoting information hiding and reducing the risk of unintended interference.\n",
    "\n",
    "3. Abstraction: Abstraction allows you to create simplified models of real-world entities in your software. It involves defining essential characteristics and ignoring the non-essential details. This helps developers focus on what an object does rather than how it does it.\n",
    "\n",
    "4. Inheritance: Inheritance enables the creation of new classes (subclasses or derived classes) that inherit properties and behaviors from existing classes (superclasses or base classes). This promotes code reuse and the establishment of hierarchies that model real-world relationships.\n",
    "\n",
    "5. Polymorphism: Polymorphism allows objects of different classes to be treated as objects of a common superclass. This enables code to be written in a more generic way, allowing for flexibility and extensibility. Polymorphism is often associated with method overriding and interfaces/abstract classes.\n",
    "\n",
    "Overall, the primary goal of OOP is to facilitate the development of more organized, modular, and maintainable software through the use of objects, classes, and their associated principles. By modeling software after real-world objects and their interactions, OOP aims to make code easier to understand, modify, and expand over time."
   ]
  },
  {
   "cell_type": "markdown",
   "metadata": {},
   "source": [
    "## 2. What is an object in Python?"
   ]
  },
  {
   "cell_type": "markdown",
   "metadata": {},
   "source": [
    "In Python, an object is a self-contained unit that has both data (attributes) and functions (methods) that operate on that data. "
   ]
  },
  {
   "cell_type": "markdown",
   "metadata": {},
   "source": [
    "## 3. What is a class in Python?"
   ]
  },
  {
   "cell_type": "markdown",
   "metadata": {},
   "source": [
    "In Python, a class is a blueprint for creating objects. It defines the structure and behavior that objects of that class will have. A class is a fundamental concept in object-oriented programming (OOP) and serves as a template for creating instances (objects) that share the same attributes and methods. Here are the key aspects of classes in Python:\n",
    "\n",
    "1. Attributes: Attributes are variables that store data related to the class. They define the characteristics or properties that objects of the class will possess.\n",
    "\n",
    "2. Methods: Methods are functions defined within a class that can operate on the class's attributes. Methods define the behaviors or actions that objects of the class can perform.\n",
    "\n",
    "3. Constructor (__init__): The __init__ method is a special method in a class that is executed when an object of the class is created. It is used to initialize the attributes of the object.\n",
    "\n",
    "4. Self: Within class methods, the first parameter is typically named self. It refers to the instance of the object itself and is used to access the object's attributes and methods.\n",
    "\n",
    "5. Object Creation: Objects are instances of classes. They are created using the class's constructor method (__init__). The constructor initializes the object's attributes.\n",
    "\n",
    "Here's a simple example of a class in Python:"
   ]
  },
  {
   "cell_type": "code",
   "execution_count": 1,
   "metadata": {},
   "outputs": [
    {
     "name": "stdout",
     "output_type": "stream",
     "text": [
      "Emong Paul\n",
      "37\n",
      "Hello, my name is Emong Paul and I'm 37 years old.\n"
     ]
    }
   ],
   "source": [
    "class Person:\n",
    "    def __init__(self, name, age):\n",
    "        self.name = name\n",
    "        self.age = age\n",
    "    \n",
    "    def greet(self):\n",
    "        print(f\"Hello, my name is {self.name} and I'm {self.age} years old.\")\n",
    "\n",
    "# Creating an object (instance) of the Person class\n",
    "person1 = Person(\"Emong Paul\", 37)\n",
    "\n",
    "# Accessing attributes and calling methods\n",
    "print(person1.name)   \n",
    "print(person1.age)    \n",
    "person1.greet()       "
   ]
  },
  {
   "cell_type": "markdown",
   "metadata": {},
   "source": [
    "## 4. What are attributes and methods in a class?"
   ]
  },
  {
   "cell_type": "markdown",
   "metadata": {},
   "source": [
    "1. Attributes:\n",
    "\n",
    "Attributes are variables that store data associated with an object. They represent the characteristics or properties of the object. Attributes define what an object is or what it has. In Python, attributes are defined within a class and are used to represent the state or data of the objects created from that class.\n",
    "Attributes can be of various data types, including numbers, strings, lists, dictionaries, and custom objects. Each object created from the class has its own set of attribute values.\n",
    "\n",
    "For example, consider a Person class:"
   ]
  },
  {
   "cell_type": "code",
   "execution_count": 2,
   "metadata": {},
   "outputs": [
    {
     "name": "stdout",
     "output_type": "stream",
     "text": [
      "Emong Paul\n",
      "37\n"
     ]
    }
   ],
   "source": [
    "class Person:\n",
    "    def __init__(self, name, age):\n",
    "        self.name = name\n",
    "        self.age = age\n",
    "\n",
    "person1 = Person(\"Emong Paul\", 37)\n",
    "print(person1.name) \n",
    "print(person1.age)  "
   ]
  },
  {
   "cell_type": "markdown",
   "metadata": {},
   "source": [
    "In this example, name and age are attributes of the Person class, and person1 is an object with its own attribute values."
   ]
  },
  {
   "cell_type": "markdown",
   "metadata": {},
   "source": [
    "2. Methods:\n",
    "    \n",
    "Methods are functions defined within a class that specify the behavior or actions that objects of the class can perform. Methods define what an object can do. They can access and modify the object's attributes and perform various operations.\n",
    "Methods are defined using the def keyword within the class. The first parameter of a method is conventionally named self, and it refers to the instance of the object itself. This parameter allows methods to access the object's attributes and other methods.\n",
    "\n",
    "Continuing with the Person class example:"
   ]
  },
  {
   "cell_type": "code",
   "execution_count": 3,
   "metadata": {},
   "outputs": [
    {
     "name": "stdout",
     "output_type": "stream",
     "text": [
      "Hello, my name is Emong Paul and I'm 37 years old.\n"
     ]
    }
   ],
   "source": [
    "class Person:\n",
    "    def __init__(self, name, age):\n",
    "        self.name = name\n",
    "        self.age = age\n",
    "    \n",
    "    def greet(self):\n",
    "        print(f\"Hello, my name is {self.name} and I'm {self.age} years old.\")\n",
    "\n",
    "person1 = Person(\"Emong Paul\", 37)\n",
    "person1.greet()  "
   ]
  },
  {
   "cell_type": "markdown",
   "metadata": {},
   "source": [
    "## 5. What is the difference between class variables and instance variables in Python?"
   ]
  },
  {
   "cell_type": "markdown",
   "metadata": {},
   "source": [
    "1. Class Variables:\n",
    "    \n",
    "- Class variables are variables that are shared among all instances (objects) of a class. They are defined within the class but outside of any methods.\n",
    "\n",
    "- Class variables have the same value across all instances of the class.\n",
    "\n",
    "- They are typically used to store data that is common to all instances of the class.\n",
    "\n",
    "- Class variables are accessed using the class name or through any instance of the class.\n",
    "\n",
    "- Changes to a class variable affect all instances of the class.\n",
    "\n",
    "Example:"
   ]
  },
  {
   "cell_type": "code",
   "execution_count": 4,
   "metadata": {},
   "outputs": [
    {
     "name": "stdout",
     "output_type": "stream",
     "text": [
      "4\n",
      "4\n",
      "3\n",
      "4\n"
     ]
    }
   ],
   "source": [
    "class Car:\n",
    "    wheels = 4  # This is a class variable\n",
    "    \n",
    "    def __init__(self, color):\n",
    "        self.color = color  # This is an instance variable\n",
    "\n",
    "car1 = Car(\"blue\")\n",
    "car2 = Car(\"red\")\n",
    "\n",
    "print(car1.wheels)  # Output: 4\n",
    "print(car2.wheels)  # Output: 4\n",
    "\n",
    "car1.wheels = 3  # This doesn't change the class variable, it creates an instance variable in car1\n",
    "print(car1.wheels)  # Output: 3\n",
    "print(car2.wheels)  # Output: 4"
   ]
  },
  {
   "cell_type": "markdown",
   "metadata": {},
   "source": [
    "2. Instance Variables:\n",
    "    \n",
    "- Instance variables are variables that are specific to each instance (object) of a class. They are defined within the class's methods, especially within the __init__ constructor.\n",
    "\n",
    "- Each instance of the class has its own set of instance variables, with potentially different values.\n",
    "\n",
    "- Instance variables are used to store data that can vary from instance to instance.\n",
    "\n",
    "- Instance variables are accessed using the self keyword within the methods of the class.\n",
    "\n",
    "- Changes to an instance variable affect only that specific instance.\n",
    "\n",
    "Example:"
   ]
  },
  {
   "cell_type": "code",
   "execution_count": 5,
   "metadata": {},
   "outputs": [
    {
     "name": "stdout",
     "output_type": "stream",
     "text": [
      "Pauline\n",
      "Gabriella\n",
      "Mary\n",
      "Gabriella\n"
     ]
    }
   ],
   "source": [
    "class Person:\n",
    "    def __init__(self, name):\n",
    "        self.name = name  # This is an instance variable\n",
    "\n",
    "person1 = Person(\"Pauline\")\n",
    "person2 = Person(\"Gabriella\")\n",
    "\n",
    "print(person1.name)  # Output: Pauline\n",
    "print(person2.name)  # Output: Gabriella\n",
    "\n",
    "person1.name = \"Mary\"  # Changes the name only for person1\n",
    "print(person1.name)    # Output: Mary\n",
    "print(person2.name)    # Output: Gabriella"
   ]
  },
  {
   "cell_type": "markdown",
   "metadata": {},
   "source": [
    "In summary, class variables are shared among all instances of a class, while instance variables are specific to each instance. Class variables are defined outside of methods and are accessed using the class name or instances, while instance variables are defined within methods and are accessed using self.\n"
   ]
  },
  {
   "cell_type": "markdown",
   "metadata": {},
   "source": [
    "## 6. What is the purpose of the self parameter in Python class methods?"
   ]
  },
  {
   "cell_type": "markdown",
   "metadata": {},
   "source": [
    "In Python class methods, the self parameter is a convention used to refer to the instance of the class itself. It acts as a reference to the object on which the method is called. By including the self parameter in a class method's definition, you're providing a way for the method to access and manipulate the instance's attributes and other methods.\n",
    "\n",
    "Here are the main purposes of the self parameter in class methods:\n",
    "\n",
    "1. Accessing Instance Attributes:\n",
    "\n",
    "By using the self parameter, methods can access the instance's attributes (instance variables). This allows methods to retrieve and modify the state of the object.\n",
    "\n",
    "2. Modifying Instance State:\n",
    "\n",
    "Methods often need to change the state of the instance by modifying its attributes. The self parameter provides a way to update the attributes within the method.\n",
    "\n",
    "3. Calling Other Instance Methods:\n",
    "Within a method, you might need to call other methods of the same instance. The self parameter allows you to do this by providing a reference to the current instance.\n",
    "\n",
    "4. Creating New Attributes:\n",
    "\n",
    "Methods can create new attributes for an instance. By using the self parameter, you can set new attribute values that will be specific to the instance.\n",
    "\n",
    "5. Defining Constructor (__init__) and Other Methods:\n",
    "The self parameter is particularly crucial in the constructor method (__init__) because it initializes the instance's attributes when the object is created. Other methods also use self to access and modify the instance's state."
   ]
  },
  {
   "cell_type": "markdown",
   "metadata": {},
   "source": [
    "### 7. For a library management system, you have to design the \"Book\" class with OOP principles in mind. The “Book” class will have following attributes:\n",
    "\n",
    "a. title: Represents the title of the book.\n",
    "\n",
    "b. author: Represents the author(s) of the book.\n",
    "\n",
    "c. isbn: Represents the ISBN (International Standard Book Number) of the book.\n",
    "\n",
    "d. publication_year: Represents the year of publication of the book.\n",
    "\n",
    "e. available_copies: Represents the number of copies available for checkout.\n",
    "\n",
    "The class will also include the following methods:\n",
    "\n",
    "a. check_out(self): Decrements the available copies by one if there are copies\n",
    "available for checkout.\n",
    "\n",
    "b. return_book(self): Increments the available copies by one when a book is\n",
    "returned.\n",
    "\n",
    "c. display_book_info(self): Displays the information about the book, including its\n",
    "attributes and the number of available copies."
   ]
  },
  {
   "cell_type": "code",
   "execution_count": 6,
   "metadata": {},
   "outputs": [
    {
     "name": "stdout",
     "output_type": "stream",
     "text": [
      "Book Information:\n",
      "Title: The Catcher in the Rye\n",
      "Author(s): J.D. Salinger\n",
      "ISBN: 978-0-316-76947-3\n",
      "Publication Year: 1951\n",
      "Available Copies: 5\n",
      "Book 'The Catcher in the Rye' checked out successfully.\n",
      "Book 'The Catcher in the Rye' returned successfully.\n",
      "Book 'The Catcher in the Rye' checked out successfully.\n",
      "Book Information:\n",
      "Title: The Catcher in the Rye\n",
      "Author(s): J.D. Salinger\n",
      "ISBN: 978-0-316-76947-3\n",
      "Publication Year: 1951\n",
      "Available Copies: 4\n"
     ]
    }
   ],
   "source": [
    "class Book:\n",
    "    def __init__(self, title, author, isbn, publication_year, available_copies):\n",
    "        self.title = title\n",
    "        self.author = author\n",
    "        self.isbn = isbn\n",
    "        self.publication_year = publication_year\n",
    "        self.available_copies = available_copies\n",
    "    \n",
    "    def check_out(self):\n",
    "        if self.available_copies > 0:\n",
    "            self.available_copies -= 1\n",
    "            print(f\"Book '{self.title}' checked out successfully.\")\n",
    "        else:\n",
    "            print(f\"No available copies of '{self.title}' for checkout.\")\n",
    "    \n",
    "    def return_book(self):\n",
    "        self.available_copies += 1\n",
    "        print(f\"Book '{self.title}' returned successfully.\")\n",
    "    \n",
    "    def display_book_info(self):\n",
    "        print(\"Book Information:\")\n",
    "        print(f\"Title: {self.title}\")\n",
    "        print(f\"Author(s): {self.author}\")\n",
    "        print(f\"ISBN: {self.isbn}\")\n",
    "        print(f\"Publication Year: {self.publication_year}\")\n",
    "        print(f\"Available Copies: {self.available_copies}\")\n",
    "\n",
    "# Creating an instance of the Book class\n",
    "book1 = Book(\"The Catcher in the Rye\", \"J.D. Salinger\", \"978-0-316-76947-3\", 1951, 5)\n",
    "\n",
    "# Using methods of the Book class\n",
    "book1.display_book_info()\n",
    "book1.check_out()\n",
    "book1.return_book()\n",
    "book1.check_out()\n",
    "book1.display_book_info()\n"
   ]
  },
  {
   "cell_type": "markdown",
   "metadata": {},
   "source": [
    "### 8. For a ticket booking system, you have to design the \"Ticket\" class with OOP principles in mind. The “Ticket” class should have the following attributes:\n",
    "\n",
    "a. ticket_id: Represents the unique identifier for the ticket.\n",
    "\n",
    "b. event_name: Represents the name of the event.\n",
    "\n",
    "c. event_date: Represents the date of the event.\n",
    "\n",
    "d. venue: Represents the venue of the event.\n",
    "\n",
    "e. seat_number: Represents the seat number associated with the ticket.\n",
    "\n",
    "f. price: Represents the price of the ticket.\n",
    "\n",
    "g. is_reserved: Represents the reservation status of the ticket.\n",
    "\n",
    "The class also includes the following methods:\n",
    "\n",
    "a. reserve_ticket(self): Marks the ticket as reserved if it is not already reserved.\n",
    "\n",
    "b. cancel_reservation(self): Cancels the reservation of the ticket if it is already\n",
    "reserved.\n",
    "\n",
    "c. display_ticket_info(self): Displays the information about the ticket, including its\n",
    "attributes and reservation status."
   ]
  },
  {
   "cell_type": "code",
   "execution_count": 7,
   "metadata": {},
   "outputs": [
    {
     "name": "stdout",
     "output_type": "stream",
     "text": [
      "Ticket Information:\n",
      "Ticket ID: T12345\n",
      "Event Name: Concert Night\n",
      "Event Date: 2023-09-15\n",
      "Venue: Grand Stadium\n",
      "Seat Number: A101\n",
      "Price: $50.00\n",
      "Reservation Status: Not Reserved\n",
      "Ticket reserved successfully.\n",
      "Ticket Information:\n",
      "Ticket ID: T12345\n",
      "Event Name: Concert Night\n",
      "Event Date: 2023-09-15\n",
      "Venue: Grand Stadium\n",
      "Seat Number: A101\n",
      "Price: $50.00\n",
      "Reservation Status: Reserved\n",
      "Reservation canceled successfully.\n",
      "Ticket Information:\n",
      "Ticket ID: T12345\n",
      "Event Name: Concert Night\n",
      "Event Date: 2023-09-15\n",
      "Venue: Grand Stadium\n",
      "Seat Number: A101\n",
      "Price: $50.00\n",
      "Reservation Status: Not Reserved\n"
     ]
    }
   ],
   "source": [
    "class Ticket:\n",
    "    def __init__(self, ticket_id, event_name, event_date, venue, seat_number, price):\n",
    "        self.ticket_id = ticket_id\n",
    "        self.event_name = event_name\n",
    "        self.event_date = event_date\n",
    "        self.venue = venue\n",
    "        self.seat_number = seat_number\n",
    "        self.price = price\n",
    "        self.is_reserved = False\n",
    "    \n",
    "    def reserve_ticket(self):\n",
    "        if not self.is_reserved:\n",
    "            self.is_reserved = True\n",
    "            print(\"Ticket reserved successfully.\")\n",
    "        else:\n",
    "            print(\"Ticket is already reserved.\")\n",
    "    \n",
    "    def cancel_reservation(self):\n",
    "        if self.is_reserved:\n",
    "            self.is_reserved = False\n",
    "            print(\"Reservation canceled successfully.\")\n",
    "        else:\n",
    "            print(\"Ticket is not reserved.\")\n",
    "    \n",
    "    def display_ticket_info(self):\n",
    "        print(\"Ticket Information:\")\n",
    "        print(f\"Ticket ID: {self.ticket_id}\")\n",
    "        print(f\"Event Name: {self.event_name}\")\n",
    "        print(f\"Event Date: {self.event_date}\")\n",
    "        print(f\"Venue: {self.venue}\")\n",
    "        print(f\"Seat Number: {self.seat_number}\")\n",
    "        print(f\"Price: ${self.price:.2f}\")\n",
    "        print(f\"Reservation Status: {'Reserved' if self.is_reserved else 'Not Reserved'}\")\n",
    "\n",
    "# Creating an instance of the Ticket class\n",
    "ticket1 = Ticket(\"T12345\", \"Concert Night\", \"2023-09-15\", \"Grand Stadium\", \"A101\", 50.00)\n",
    "\n",
    "# Using methods of the Ticket class\n",
    "ticket1.display_ticket_info()\n",
    "ticket1.reserve_ticket()\n",
    "ticket1.display_ticket_info()\n",
    "ticket1.cancel_reservation()\n",
    "ticket1.display_ticket_info()"
   ]
  },
  {
   "cell_type": "markdown",
   "metadata": {},
   "source": [
    "### 9. You are creating a shopping cart for an e-commerce website. Using OOP to model the \"ShoppingCart\" functionality the class should contain following attributes and methods:\n",
    "\n",
    "a. items: Represents the list of items in the shopping cart.\n",
    "\n",
    "The class also includes the following methods:\n",
    "\n",
    "a. add_item(self, item): Adds an item to the shopping cart by appending it to the\n",
    "list of items.\n",
    "\n",
    "b. remove_item(self, item): Removes an item from the shopping cart if it exists in\n",
    "the list.\n",
    "\n",
    "c. view_cart(self): Displays the items currently present in the shopping cart.\n",
    "\n",
    "d. clear_cart(self): Clears all items from the shopping cart by reassigning an\n",
    "empty list to the items attribute."
   ]
  },
  {
   "cell_type": "code",
   "execution_count": 8,
   "metadata": {},
   "outputs": [
    {
     "name": "stdout",
     "output_type": "stream",
     "text": [
      "Item 'Laptop' added to the shopping cart.\n",
      "Item 'Shoes' added to the shopping cart.\n",
      "Items in the shopping cart:\n",
      "Laptop\n",
      "Shoes\n",
      "Item 'Shoes' removed from the shopping cart.\n",
      "Items in the shopping cart:\n",
      "Laptop\n",
      "Shopping cart cleared.\n",
      "Shopping cart is empty.\n"
     ]
    }
   ],
   "source": [
    "class ShoppingCart:\n",
    "    def __init__(self):\n",
    "        self.items = []\n",
    "    \n",
    "    def add_item(self, item):\n",
    "        self.items.append(item)\n",
    "        print(f\"Item '{item}' added to the shopping cart.\")\n",
    "    \n",
    "    def remove_item(self, item):\n",
    "        if item in self.items:\n",
    "            self.items.remove(item)\n",
    "            print(f\"Item '{item}' removed from the shopping cart.\")\n",
    "        else:\n",
    "            print(f\"Item '{item}' not found in the shopping cart.\")\n",
    "    \n",
    "    def view_cart(self):\n",
    "        if self.items:\n",
    "            print(\"Items in the shopping cart:\")\n",
    "            for item in self.items:\n",
    "                print(item)\n",
    "        else:\n",
    "            print(\"Shopping cart is empty.\")\n",
    "    \n",
    "    def clear_cart(self):\n",
    "        self.items = []\n",
    "        print(\"Shopping cart cleared.\")\n",
    "\n",
    "# Creating an instance of the ShoppingCart class\n",
    "cart = ShoppingCart()\n",
    "\n",
    "# Using methods of the ShoppingCart class\n",
    "cart.add_item(\"Laptop\")\n",
    "cart.add_item(\"Shoes\")\n",
    "cart.view_cart()\n",
    "\n",
    "cart.remove_item(\"Shoes\")\n",
    "cart.view_cart()\n",
    "\n",
    "cart.clear_cart()\n",
    "cart.view_cart()\n"
   ]
  },
  {
   "cell_type": "markdown",
   "metadata": {},
   "source": [
    "### 10. Imagine a school management system. You have to design the \"Student\" class using OOP concepts.The “Student” class has the following attributes:\n",
    "\n",
    "a. name: Represents the name of the student.\n",
    "\n",
    "b. age: Represents the age of the student.\n",
    "\n",
    "c. grade: Represents the grade or class of the student.\n",
    "\n",
    "d. student_id: Represents the unique identifier for the student.\n",
    "\n",
    "e. attendance: Represents the attendance record of the student.\n",
    "\n",
    "The class should also include the following methods:\n",
    "\n",
    "a. update_attendance(self, date, status): Updates the attendance record of the\n",
    "student for a given date with the provided status (e.g., present or absent).\n",
    "\n",
    "b. get_attendance(self): Returns the attendance record of the student.\n",
    "\n",
    "c. get_average_attendance(self): Calculates and returns the average\n",
    "attendance percentage of the student based on their attendance record."
   ]
  },
  {
   "cell_type": "code",
   "execution_count": 9,
   "metadata": {},
   "outputs": [
    {
     "name": "stdout",
     "output_type": "stream",
     "text": [
      "Attendance updated for Emong Paul on 2023-08-21: present.\n",
      "Attendance updated for Emong Paul on 2023-08-22: absent.\n",
      "Attendance updated for Emong Paul on 2023-08-23: present.\n",
      "Attendance: {'2023-08-21': 'present', '2023-08-22': 'absent', '2023-08-23': 'present'}\n",
      "Average Attendance: 66.66666666666666\n"
     ]
    }
   ],
   "source": [
    "class Student:\n",
    "    def __init__(self, name, age, grade, student_id):\n",
    "        self.name = name\n",
    "        self.age = age\n",
    "        self.grade = grade\n",
    "        self.student_id = student_id\n",
    "        self.attendance = {}\n",
    "    \n",
    "    def update_attendance(self, date, status):\n",
    "        if status.lower() in ['present', 'absent']:\n",
    "            self.attendance[date] = status.lower()\n",
    "            print(f\"Attendance updated for {self.name} on {date}: {status.lower()}.\")\n",
    "        else:\n",
    "            print(\"Invalid attendance status. Use 'present' or 'absent'.\")\n",
    "    \n",
    "    def get_attendance(self):\n",
    "        return self.attendance\n",
    "    \n",
    "    def get_average_attendance(self):\n",
    "        total_days = len(self.attendance)\n",
    "        if total_days == 0:\n",
    "            return 0\n",
    "        present_days = sum(1 for status in self.attendance.values() if status == 'present')\n",
    "        attendance_percentage = (present_days / total_days) * 100\n",
    "        return attendance_percentage\n",
    "\n",
    "# Creating an instance of the Student class\n",
    "student1 = Student(\"Emong Paul\", 15, \"10th Grade\", \"S12345\")\n",
    "\n",
    "# Using methods of the Student class\n",
    "student1.update_attendance(\"2023-08-21\", \"present\")\n",
    "student1.update_attendance(\"2023-08-22\", \"absent\")\n",
    "student1.update_attendance(\"2023-08-23\", \"present\")\n",
    "print(\"Attendance:\", student1.get_attendance())\n",
    "print(\"Average Attendance:\", student1.get_average_attendance())"
   ]
  },
  {
   "cell_type": "code",
   "execution_count": null,
   "metadata": {},
   "outputs": [],
   "source": []
  }
 ],
 "metadata": {
  "kernelspec": {
   "display_name": "Python 3",
   "language": "python",
   "name": "python3"
  },
  "language_info": {
   "codemirror_mode": {
    "name": "ipython",
    "version": 3
   },
   "file_extension": ".py",
   "mimetype": "text/x-python",
   "name": "python",
   "nbconvert_exporter": "python",
   "pygments_lexer": "ipython3",
   "version": "3.7.0"
  }
 },
 "nbformat": 4,
 "nbformat_minor": 2
}
